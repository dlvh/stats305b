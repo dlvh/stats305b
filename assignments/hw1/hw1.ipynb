{
  "cells": [
    {
      "cell_type": "markdown",
      "metadata": {
        "id": "P_JIQE4w9xbB"
      },
      "source": [
        "# HW1: Logistic Regression\n",
        "\n",
        "This class is about models and algorithms for discrete data. This homework will have all 3 ingredients:\n",
        "* **Data**: the results from all college football games in the 2023 season\n",
        "* **Model**: The *Bradely-Terry* model for predicting the winners of football game. The Bradley-Terry model is just logistic regression.\n",
        "* **Algorithm**: We will implement two ways of fitting logistic regression: gradient descent and Newton's method"
      ]
    },
    {
      "cell_type": "markdown",
      "metadata": {
        "id": "oi2v2m5yCJE9"
      },
      "source": [
        "## The Bradley-Terry Model\n",
        "\n",
        "In the Bradley-Terry Model, we give team $k$ a team-effect $\\beta_k$. Basically, higher $\\beta_k$ (relatively speaking), means that team $k$ is a better team.\n",
        "The Bradley-Terry model formalizes this intution by modeling the log odds of team $k$ beating team $k'$ by the difference in their team effects, $\\beta_k - \\beta_{k'}$.\n",
        "\n",
        "Let $i = 1,\\ldots, n$ index games, and let $h(i) \\in \\{1,\\ldots,K\\}$ and $a(i) \\in \\{1,\\ldots,K\\}$ denote the indices of the home and away teams, respectively.\n",
        "Let $Y_i \\in \\{0,1\\}$ denote whether the home team won.\n",
        "Under the Bradley-Terry model,\n",
        "\\begin{equation*}\n",
        "  Y_i \\sim \\mathrm{Bern}\\big(\\sigma(\\beta_{h(i)} - \\beta_{a(i)}) \\big),\n",
        "\\end{equation*}\n",
        "where $\\sigma(\\cdot)$ is the sigmoid function. We can view this model as a logistic regression model with covariates $x_i \\in \\mathbb{R}^K$ where,\n",
        "\\begin{align*}\n",
        "x_{i,k} &=\n",
        "\\begin{cases}\n",
        "+1 &\\text{if } h(i) = k \\\\\n",
        "-1 &\\text{if } a(i) = k \\\\\n",
        "0 &\\text{o.w.},\n",
        "\\end{cases}\n",
        "\\end{align*}\n",
        "and parameters $\\beta \\in \\mathbb{R}^K$."
      ]
    },
    {
      "cell_type": "markdown",
      "metadata": {
        "id": "toIIF0ej-a7I"
      },
      "source": [
        "## Data\n",
        "\n",
        "We use the results of college football games in the fall 2023 season, which are available from the course github page and loaded for you below.\n",
        "\n",
        "The data comes as a list of the outcomes of individual games. You'll need to wrangle the data to get it into a format that you can feed into the Bradley-Terry model."
      ]
    },
    {
      "cell_type": "code",
      "execution_count": 1,
      "metadata": {
        "id": "qvTw_232nr-v"
      },
      "outputs": [],
      "source": [
        "import torch\n",
        "import pandas as pd\n",
        "import matplotlib.pyplot as plt\n",
        "from tqdm import tqdm\n",
        "import numpy as np"
      ]
    },
    {
      "cell_type": "code",
      "execution_count": 2,
      "metadata": {
        "id": "WIYCdEBqnvJG"
      },
      "outputs": [],
      "source": [
        "allgames = pd.read_csv(\"https://raw.githubusercontent.com/slinderman/stats305b/winter2025/data/01_allgames.csv\")"
      ]
    },
    {
      "cell_type": "markdown",
      "metadata": {
        "id": "O_00WB7kaeDi"
      },
      "source": [
        "## Problem 0: Preprocessing\n",
        "\n",
        "Preprocess the data to drop games with nan scores, construct the covariate matrix $X$, construct the response vector $y$, and do any other preprocessing you find useful."
      ]
    },
    {
      "cell_type": "markdown",
      "source": [
        "**Pre-processing Logic**\n",
        "\n",
        "I first drop all games with nan scores, and to avoid bias, further drop all the games where the points are tied, and drop all the games played in a neutral site.\n",
        "\n",
        "Now, I consider the home team won if the home team had higher points in the game, and construct the response vector $y$.\n",
        "\n",
        "To construct the covariate matrix $X$, notice that in the Bradley-Terry model, columns of $X$ represent the teams. In each row (which corresponds to a game), the value equals 1 if the team is the home team, equals -1 if the team is the away team, and equals 0 for all other teams."
      ],
      "metadata": {
        "id": "WWVa7MM0m3hU"
      }
    },
    {
      "cell_type": "code",
      "source": [
        "# drop games with nan scores\n",
        "# and store the results in a new dataframe called df\n",
        "df = allgames.dropna(subset=['Home Points', 'Away Points', 'Neutral Site'])\n",
        "# to avoid bias, further drop all the games where the points are tied.\n",
        "df = df[df[\"Away Points\"] != df[\"Home Points\"]]\n",
        "# to avoid bias, further drop all the games played at a neutral site\n",
        "df = df[df[\"Neutral Site\"] != True]\n",
        "\n",
        "# Bradley-Terry model\n",
        "\n",
        "# constructing the response vector y\n",
        "points_difference = df[\"Home Points\"] - df[\"Away Points\"]\n",
        "# consider the home team won if the home team had higher points in the game\n",
        "y = (points_difference > 0)*1\n",
        "# sort the teams (columns) alphabetically\n",
        "teams = sorted(set(df[\"Away Team\"]).union(set(df[\"Home Team\"])))\n",
        "\n",
        "# constructing the covariate matrix X\n",
        "X_df = pd.DataFrame(0, index=df.index, columns=teams)\n",
        "for i, game in df.iterrows():\n",
        "  home_team = game[\"Home Team\"]\n",
        "  away_team = game[\"Away Team\"]\n",
        "  X_df.loc[i, home_team] = 1\n",
        "  X_df.loc[i, away_team] = -1\n",
        "\n",
        "# convert into tensors\n",
        "y = torch.tensor(y.values, dtype=torch.float32).unsqueeze(1)\n",
        "X = torch.tensor(X_df.values, dtype=torch.float32)\n",
        "# checking shape\n",
        "y.shape, X.shape"
      ],
      "metadata": {
        "colab": {
          "base_uri": "https://localhost:8080/"
        },
        "id": "CwtDjkd4a_cx",
        "outputId": "6dec09a5-1187-40b8-857f-76b8a4d90552"
      },
      "execution_count": 3,
      "outputs": [
        {
          "output_type": "execute_result",
          "data": {
            "text/plain": [
              "(torch.Size([3469, 1]), torch.Size([3469, 691]))"
            ]
          },
          "metadata": {},
          "execution_count": 3
        }
      ]
    },
    {
      "cell_type": "markdown",
      "metadata": {
        "id": "ZjUJOkAWHWD0"
      },
      "source": [
        "## Problem 1: Loss function\n",
        "\n",
        "Write a function to compute the loss, $L(\\beta)$ defined be\n",
        "\n",
        "\\begin{equation*}\n",
        "  L(\\beta) = -\\frac{1}{n} \\sum_{i=1}^n \\log p(y_i \\mid x_i; \\beta) + \\frac{\\gamma}{2} \\| \\beta \\|_2^2\n",
        "\\end{equation*}\n",
        "where $\\gamma$ is a hyperparameter that controls the strength of your $\\ell_2$ regularization.\n",
        "\n",
        "You may want to use the `torch.distributions.Bernoulli` class."
      ]
    },
    {
      "cell_type": "code",
      "execution_count": 4,
      "metadata": {
        "id": "WTaCXlvSHuxh"
      },
      "outputs": [],
      "source": [
        "# loss function\n",
        "def compute_loss(beta, X, y, gamma):\n",
        "  average_log_likelihood = torch.distributions.Bernoulli(probs = torch.sigmoid(X @ beta)).log_prob(y).mean()\n",
        "  loss = -1 * average_log_likelihood + gamma / 2 * (torch.norm(beta, 2) ** 2) # add l2 regularization\n",
        "  return loss"
      ]
    },
    {
      "cell_type": "markdown",
      "metadata": {
        "id": "8Cx0wyYytSb7"
      },
      "source": [
        "## Problem 2: Gradient Descent"
      ]
    },
    {
      "cell_type": "markdown",
      "metadata": {
        "id": "xuNBMXGsO-7q"
      },
      "source": [
        "### Problem 2.1 Implementing and checking your gradients\n",
        "\n",
        "\n",
        "Write a function to compute the gradient of the average negative log likelihood and check your output against the results obtained by PyTorch's automatic differentiation functionality."
      ]
    },
    {
      "cell_type": "markdown",
      "source": [
        "**Answer:**\n",
        "\n",
        "The gradient is computed as:\n",
        "$$\n",
        "\\nabla L(\\beta) = -\\frac{1}{n} \\sum_{i=1}^{n} \\left[(y_i - \\sigma(\\beta^\\intercal x_i)) x_i\\right] + \\gamma \\beta\n",
        "$$\n",
        "\n",
        "Note that this is a vector with the same shape as $\\beta$."
      ],
      "metadata": {
        "id": "3mx--D6Cc_4O"
      }
    },
    {
      "cell_type": "code",
      "execution_count": 5,
      "metadata": {
        "id": "ROj5lRuOsASh"
      },
      "outputs": [],
      "source": [
        "# gradient function\n",
        "def compute_gradient(beta, X, y, gamma):\n",
        "  grad_average_log_likelihood = -1/(y.shape[0]) * (X.T @ (y - torch.sigmoid(X @ beta)))\n",
        "  grad_regularization = (gamma * beta)\n",
        "  gradient = grad_average_log_likelihood + grad_regularization\n",
        "  return gradient"
      ]
    },
    {
      "cell_type": "code",
      "source": [
        "# unit-testing\n",
        "torch.manual_seed(0)\n",
        "beta = torch.rand([X.shape[1],1], dtype=torch.float32, requires_grad=True)\n",
        "gamma = 0.2\n",
        "\n",
        "# auto-gradient\n",
        "loss = compute_loss(beta, X, y, gamma)\n",
        "loss.backward()\n",
        "auto_gradient = beta.grad\n",
        "\n",
        "# my computation\n",
        "gradient = compute_gradient(beta, X, y, gamma)\n",
        "\n",
        "# comparison\n",
        "torch.allclose(gradient, auto_gradient)"
      ],
      "metadata": {
        "colab": {
          "base_uri": "https://localhost:8080/"
        },
        "id": "lJLdYDQ_ogSi",
        "outputId": "c20fbf73-4643-4a1f-abd7-3f6f1b14f308"
      },
      "execution_count": 6,
      "outputs": [
        {
          "output_type": "execute_result",
          "data": {
            "text/plain": [
              "True"
            ]
          },
          "metadata": {},
          "execution_count": 6
        }
      ]
    },
    {
      "cell_type": "markdown",
      "metadata": {
        "id": "Cl9CAUpTPtpw"
      },
      "source": [
        "### Problem 2.2: Implement Gradient Descent\n",
        "\n",
        "\n",
        "Now, use gradient descent to fit your Bradley-Terry model to the provided data.\n",
        "\n",
        "Deliverables for this question:\n",
        "1. Code the implements gradient descent to fit your Bradley-Terry model to the provided data.\n",
        "2. A plot of the loss curve of your algorithm and a brief discussion if it makes sense or not\n",
        "3. A plot of the histogram of the fitted values of $\\beta$\n",
        "4. The top 10 teams from your ranking, and a discussion of whether this ranking makes sense or not."
      ]
    },
    {
      "cell_type": "markdown",
      "source": [
        "**Answer 2.2**\n",
        "\n",
        "First, a choice of the regularization hyperparameter $\\gamma$. An optimal $\\gamma$ can be chosen with cross validation. Please refer to Problem 4 for the code implementation. For Problem 2 - Problem 3, I set $\\gamma = 0.01$.\n",
        "\n",
        "Learning rate is also a hyperparameter. This can be set by looking at the convergence rate - but here I have set it arbitrarily for the sake of time. More details of this will be discussed in Problem 3 when gradient descent is compared against the Newton's method."
      ],
      "metadata": {
        "id": "5DZwdCpbMo67"
      }
    },
    {
      "cell_type": "code",
      "source": [
        "# gradient descent implementation code\n",
        "\n",
        "# parameters\n",
        "\n",
        "# learning rate\n",
        "learning_rate = 2\n",
        "# regularization parameter gamma\n",
        "gamma = 0.01\n",
        "# initial beta\n",
        "beta = torch.zeros([X.shape[1],1], dtype=torch.float32, requires_grad=True)\n",
        "\n",
        "# step update function in gradient descent\n",
        "def gradient_descent_step(beta, learning_rate):\n",
        "  #compute gradient\n",
        "  current_gradient = compute_gradient(beta, X, y, gamma)\n",
        "  next_beta = beta - learning_rate * current_gradient\n",
        "  return next_beta\n",
        "\n",
        "num_iterations = 1000\n",
        "list_of_loss_gradient_descent = [compute_loss(beta, X, y, gamma)]\n",
        "for _ in range(num_iterations):\n",
        "  new_beta = gradient_descent_step(beta, learning_rate)\n",
        "  list_of_loss_gradient_descent.append(compute_loss(new_beta, X, y, gamma))\n",
        "  if torch.allclose(beta, new_beta, atol=1e-4):\n",
        "    break\n",
        "  else:\n",
        "    beta = new_beta"
      ],
      "metadata": {
        "id": "OzpDAdCv0_MS"
      },
      "execution_count": 7,
      "outputs": []
    },
    {
      "cell_type": "code",
      "source": [
        "# plotting loss curve\n",
        "loss_tensor_gradient_descent = torch.as_tensor(list_of_loss_gradient_descent)\n",
        "plt.plot(loss_tensor_gradient_descent)\n",
        "plt.xlabel(\"gradient descent iterations\")\n",
        "plt.ylabel(\"loss\")"
      ],
      "metadata": {
        "colab": {
          "base_uri": "https://localhost:8080/",
          "height": 467
        },
        "id": "oOre-0RY4G-l",
        "outputId": "031e8976-7060-4e2b-bebb-3ef756c9368e"
      },
      "execution_count": 8,
      "outputs": [
        {
          "output_type": "execute_result",
          "data": {
            "text/plain": [
              "Text(0, 0.5, 'loss')"
            ]
          },
          "metadata": {},
          "execution_count": 8
        },
        {
          "output_type": "display_data",
          "data": {
            "text/plain": [
              "<Figure size 640x480 with 1 Axes>"
            ],
            "image/png": "[encoded data removed]"
          },
          "metadata": {}
        }
      ]
    },
    {
      "cell_type": "markdown",
      "source": [
        "**Discussion of the plot:**\n",
        "\n",
        "The above loss curve make sense - it is nicely shaped and the loss is going down and stablizing with each iteration."
      ],
      "metadata": {
        "id": "nqWm3ZpVjdaN"
      }
    },
    {
      "cell_type": "code",
      "source": [
        "# plotting fitted values of beta\n",
        "beta_df = pd.DataFrame({\"Team\": teams, \"Effect\": beta.detach().numpy().flatten()})\n",
        "\n",
        "plt.hist(beta_df[\"Effect\"], bins=20)\n",
        "plt.title(\"Histogram of Team Effects (Bradley-Terry Model)\")\n",
        "plt.xlabel(\"Team Effect (Fitted Values of Beta)\")\n",
        "plt.ylabel(\"Frequency\")\n",
        "plt.show()"
      ],
      "metadata": {
        "colab": {
          "base_uri": "https://localhost:8080/",
          "height": 472
        },
        "id": "zB8ymfFV480B",
        "outputId": "ed450ebb-c648-48a4-af3d-b646066565f9"
      },
      "execution_count": 9,
      "outputs": [
        {
          "output_type": "display_data",
          "data": {
            "text/plain": [
              "<Figure size 640x480 with 1 Axes>"
            ],
            "image/png": "[encoded data removed]"
          },
          "metadata": {}
        }
      ]
    },
    {
      "cell_type": "code",
      "source": [
        "# top 10 teams\n",
        "beta_df.sort_values(by=\"Effect\", ascending=False).head(10)"
      ],
      "metadata": {
        "colab": {
          "base_uri": "https://localhost:8080/",
          "height": 363
        },
        "id": "Xvrm4u7-oCVG",
        "outputId": "e9b3bfcb-9e15-430b-b834-84d62afbccc2"
      },
      "execution_count": 10,
      "outputs": [
        {
          "output_type": "execute_result",
          "data": {
            "text/plain": [
              "                   Team    Effect\n",
              "303             Liberty  0.165334\n",
              "631          Washington  0.155393\n",
              "347            Michigan  0.154935\n",
              "558               Texas  0.143481\n",
              "214             Georgia  0.143417\n",
              "129      Colorado Mines  0.143053\n",
              "196       Florida State  0.141705\n",
              "509  South Dakota State  0.131928\n",
              "271       Johns Hopkins  0.131554\n",
              "5               Alabama  0.130883"
            ],
            "text/html": [
              "\n",
              "  <div id=\"df-32cc8f99-b97f-4b57-93fa-6e0fd91396ab\" class=\"colab-df-container\">\n",
              "    <div>\n",
              "<style scoped>\n",
              "    .dataframe tbody tr th:only-of-type {\n",
              "        vertical-align: middle;\n",
              "    }\n",
              "\n",
              "    .dataframe tbody tr th {\n",
              "        vertical-align: top;\n",
              "    }\n",
              "\n",
              "    .dataframe thead th {\n",
              "        text-align: right;\n",
              "    }\n",
              "</style>\n",
              "<table border=\"1\" class=\"dataframe\">\n",
              "  <thead>\n",
              "    <tr style=\"text-align: right;\">\n",
              "      <th></th>\n",
              "      <th>Team</th>\n",
              "      <th>Effect</th>\n",
              "    </tr>\n",
              "  </thead>\n",
              "  <tbody>\n",
              "    <tr>\n",
              "      <th>303</th>\n",
              "      <td>Liberty</td>\n",
              "      <td>0.165334</td>\n",
              "    </tr>\n",
              "    <tr>\n",
              "      <th>631</th>\n",
              "      <td>Washington</td>\n",
              "      <td>0.155393</td>\n",
              "    </tr>\n",
              "    <tr>\n",
              "      <th>347</th>\n",
              "      <td>Michigan</td>\n",
              "      <td>0.154935</td>\n",
              "    </tr>\n",
              "    <tr>\n",
              "      <th>558</th>\n",
              "      <td>Texas</td>\n",
              "      <td>0.143481</td>\n",
              "    </tr>\n",
              "    <tr>\n",
              "      <th>214</th>\n",
              "      <td>Georgia</td>\n",
              "      <td>0.143417</td>\n",
              "    </tr>\n",
              "    <tr>\n",
              "      <th>129</th>\n",
              "      <td>Colorado Mines</td>\n",
              "      <td>0.143053</td>\n",
              "    </tr>\n",
              "    <tr>\n",
              "      <th>196</th>\n",
              "      <td>Florida State</td>\n",
              "      <td>0.141705</td>\n",
              "    </tr>\n",
              "    <tr>\n",
              "      <th>509</th>\n",
              "      <td>South Dakota State</td>\n",
              "      <td>0.131928</td>\n",
              "    </tr>\n",
              "    <tr>\n",
              "      <th>271</th>\n",
              "      <td>Johns Hopkins</td>\n",
              "      <td>0.131554</td>\n",
              "    </tr>\n",
              "    <tr>\n",
              "      <th>5</th>\n",
              "      <td>Alabama</td>\n",
              "      <td>0.130883</td>\n",
              "    </tr>\n",
              "  </tbody>\n",
              "</table>\n",
              "</div>\n",
              "    <div class=\"colab-df-buttons\">\n",
              "\n",
              "  <div class=\"colab-df-container\">\n",
              "    <button class=\"colab-df-convert\" onclick=\"convertToInteractive('df-32cc8f99-b97f-4b57-93fa-6e0fd91396ab')\"\n",
              "            title=\"Convert this dataframe to an interactive table.\"\n",
              "            style=\"display:none;\">\n",
              "\n",
              "  <svg xmlns=\"http://www.w3.org/2000/svg\" height=\"24px\" viewBox=\"0 -960 960 960\">\n",
              "    <path d=\"M120-120v-720h720v720H120Zm60-500h600v-160H180v160Zm220 220h160v-160H400v160Zm0 220h160v-160H400v160ZM180-400h160v-160H180v160Zm440 0h160v-160H620v160ZM180-180h160v-160H180v160Zm440 0h160v-160H620v160Z\"/>\n",
              "  </svg>\n",
              "    </button>\n",
              "\n",
              "  <style>\n",
              "    .colab-df-container {\n",
              "      display:flex;\n",
              "      gap: 12px;\n",
              "    }\n",
              "\n",
              "    .colab-df-convert {\n",
              "      background-color: #E8F0FE;\n",
              "      border: none;\n",
              "      border-radius: 50%;\n",
              "      cursor: pointer;\n",
              "      display: none;\n",
              "      fill: #1967D2;\n",
              "      height: 32px;\n",
              "      padding: 0 0 0 0;\n",
              "      width: 32px;\n",
              "    }\n",
              "\n",
              "    .colab-df-convert:hover {\n",
              "      background-color: #E2EBFA;\n",
              "      box-shadow: 0px 1px 2px rgba(60, 64, 67, 0.3), 0px 1px 3px 1px rgba(60, 64, 67, 0.15);\n",
              "      fill: #174EA6;\n",
              "    }\n",
              "\n",
              "    .colab-df-buttons div {\n",
              "      margin-bottom: 4px;\n",
              "    }\n",
              "\n",
              "    [theme=dark] .colab-df-convert {\n",
              "      background-color: #3B4455;\n",
              "      fill: #D2E3FC;\n",
              "    }\n",
              "\n",
              "    [theme=dark] .colab-df-convert:hover {\n",
              "      background-color: #434B5C;\n",
              "      box-shadow: 0px 1px 3px 1px rgba(0, 0, 0, 0.15);\n",
              "      filter: drop-shadow(0px 1px 2px rgba(0, 0, 0, 0.3));\n",
              "      fill: #FFFFFF;\n",
              "    }\n",
              "  </style>\n",
              "\n",
              "    <script>\n",
              "      const buttonEl =\n",
              "        document.querySelector('#df-32cc8f99-b97f-4b57-93fa-6e0fd91396ab button.colab-df-convert');\n",
              "      buttonEl.style.display =\n",
              "        google.colab.kernel.accessAllowed ? 'block' : 'none';\n",
              "\n",
              "      async function convertToInteractive(key) {\n",
              "        const element = document.querySelector('#df-32cc8f99-b97f-4b57-93fa-6e0fd91396ab');\n",
              "        const dataTable =\n",
              "          await google.colab.kernel.invokeFunction('convertToInteractive',\n",
              "                                                    [key], {});\n",
              "        if (!dataTable) return;\n",
              "\n",
              "        const docLinkHtml = 'Like what you see? Visit the ' +\n",
              "          '<a target=\"_blank\" href=https://colab.research.google.com/notebooks/data_table.ipynb>data table notebook</a>'\n",
              "          + ' to learn more about interactive tables.';\n",
              "        element.innerHTML = '';\n",
              "        dataTable['output_type'] = 'display_data';\n",
              "        await google.colab.output.renderOutput(dataTable, element);\n",
              "        const docLink = document.createElement('div');\n",
              "        docLink.innerHTML = docLinkHtml;\n",
              "        element.appendChild(docLink);\n",
              "      }\n",
              "    </script>\n",
              "  </div>\n",
              "\n",
              "\n",
              "<div id=\"df-e98aba5f-b2e8-420e-9d7a-ba7728025904\">\n",
              "  <button class=\"colab-df-quickchart\" onclick=\"quickchart('df-e98aba5f-b2e8-420e-9d7a-ba7728025904')\"\n",
              "            title=\"Suggest charts\"\n",
              "            style=\"display:none;\">\n",
              "\n",
              "<svg xmlns=\"http://www.w3.org/2000/svg\" height=\"24px\"viewBox=\"0 0 24 24\"\n",
              "     width=\"24px\">\n",
              "    <g>\n",
              "        <path d=\"M19 3H5c-1.1 0-2 .9-2 2v14c0 1.1.9 2 2 2h14c1.1 0 2-.9 2-2V5c0-1.1-.9-2-2-2zM9 17H7v-7h2v7zm4 0h-2V7h2v10zm4 0h-2v-4h2v4z\"/>\n",
              "    </g>\n",
              "</svg>\n",
              "  </button>\n",
              "\n",
              "<style>\n",
              "  .colab-df-quickchart {\n",
              "      --bg-color: #E8F0FE;\n",
              "      --fill-color: #1967D2;\n",
              "      --hover-bg-color: #E2EBFA;\n",
              "      --hover-fill-color: #174EA6;\n",
              "      --disabled-fill-color: #AAA;\n",
              "      --disabled-bg-color: #DDD;\n",
              "  }\n",
              "\n",
              "  [theme=dark] .colab-df-quickchart {\n",
              "      --bg-color: #3B4455;\n",
              "      --fill-color: #D2E3FC;\n",
              "      --hover-bg-color: #434B5C;\n",
              "      --hover-fill-color: #FFFFFF;\n",
              "      --disabled-bg-color: #3B4455;\n",
              "      --disabled-fill-color: #666;\n",
              "  }\n",
              "\n",
              "  .colab-df-quickchart {\n",
              "    background-color: var(--bg-color);\n",
              "    border: none;\n",
              "    border-radius: 50%;\n",
              "    cursor: pointer;\n",
              "    display: none;\n",
              "    fill: var(--fill-color);\n",
              "    height: 32px;\n",
              "    padding: 0;\n",
              "    width: 32px;\n",
              "  }\n",
              "\n",
              "  .colab-df-quickchart:hover {\n",
              "    background-color: var(--hover-bg-color);\n",
              "    box-shadow: 0 1px 2px rgba(60, 64, 67, 0.3), 0 1px 3px 1px rgba(60, 64, 67, 0.15);\n",
              "    fill: var(--button-hover-fill-color);\n",
              "  }\n",
              "\n",
              "  .colab-df-quickchart-complete:disabled,\n",
              "  .colab-df-quickchart-complete:disabled:hover {\n",
              "    background-color: var(--disabled-bg-color);\n",
              "    fill: var(--disabled-fill-color);\n",
              "    box-shadow: none;\n",
              "  }\n",
              "\n",
              "  .colab-df-spinner {\n",
              "    border: 2px solid var(--fill-color);\n",
              "    border-color: transparent;\n",
              "    border-bottom-color: var(--fill-color);\n",
              "    animation:\n",
              "      spin 1s steps(1) infinite;\n",
              "  }\n",
              "\n",
              "  @keyframes spin {\n",
              "    0% {\n",
              "      border-color: transparent;\n",
              "      border-bottom-color: var(--fill-color);\n",
              "      border-left-color: var(--fill-color);\n",
              "    }\n",
              "    20% {\n",
              "      border-color: transparent;\n",
              "      border-left-color: var(--fill-color);\n",
              "      border-top-color: var(--fill-color);\n",
              "    }\n",
              "    30% {\n",
              "      border-color: transparent;\n",
              "      border-left-color: var(--fill-color);\n",
              "      border-top-color: var(--fill-color);\n",
              "      border-right-color: var(--fill-color);\n",
              "    }\n",
              "    40% {\n",
              "      border-color: transparent;\n",
              "      border-right-color: var(--fill-color);\n",
              "      border-top-color: var(--fill-color);\n",
              "    }\n",
              "    60% {\n",
              "      border-color: transparent;\n",
              "      border-right-color: var(--fill-color);\n",
              "    }\n",
              "    80% {\n",
              "      border-color: transparent;\n",
              "      border-right-color: var(--fill-color);\n",
              "      border-bottom-color: var(--fill-color);\n",
              "    }\n",
              "    90% {\n",
              "      border-color: transparent;\n",
              "      border-bottom-color: var(--fill-color);\n",
              "    }\n",
              "  }\n",
              "</style>\n",
              "\n",
              "  <script>\n",
              "    async function quickchart(key) {\n",
              "      const quickchartButtonEl =\n",
              "        document.querySelector('#' + key + ' button');\n",
              "      quickchartButtonEl.disabled = true;  // To prevent multiple clicks.\n",
              "      quickchartButtonEl.classList.add('colab-df-spinner');\n",
              "      try {\n",
              "        const charts = await google.colab.kernel.invokeFunction(\n",
              "            'suggestCharts', [key], {});\n",
              "      } catch (error) {\n",
              "        console.error('Error during call to suggestCharts:', error);\n",
              "      }\n",
              "      quickchartButtonEl.classList.remove('colab-df-spinner');\n",
              "      quickchartButtonEl.classList.add('colab-df-quickchart-complete');\n",
              "    }\n",
              "    (() => {\n",
              "      let quickchartButtonEl =\n",
              "        document.querySelector('#df-e98aba5f-b2e8-420e-9d7a-ba7728025904 button');\n",
              "      quickchartButtonEl.style.display =\n",
              "        google.colab.kernel.accessAllowed ? 'block' : 'none';\n",
              "    })();\n",
              "  </script>\n",
              "</div>\n",
              "\n",
              "    </div>\n",
              "  </div>\n"
            ],
            "application/vnd.google.colaboratory.intrinsic+json": {
              "type": "dataframe",
              "summary": "{\n  \"name\": \"beta_df\",\n  \"rows\": 10,\n  \"fields\": [\n    {\n      \"column\": \"Team\",\n      \"properties\": {\n        \"dtype\": \"string\",\n        \"num_unique_values\": 10,\n        \"samples\": [\n          \"Johns Hopkins\",\n          \"Washington\",\n          \"Colorado Mines\"\n        ],\n        \"semantic_type\": \"\",\n        \"description\": \"\"\n      }\n    },\n    {\n      \"column\": \"Effect\",\n      \"properties\": {\n        \"dtype\": \"float32\",\n        \"num_unique_values\": 10,\n        \"samples\": [\n          0.13155421614646912,\n          0.15539273619651794,\n          0.14305348694324493\n        ],\n        \"semantic_type\": \"\",\n        \"description\": \"\"\n      }\n    }\n  ]\n}"
            }
          },
          "metadata": {},
          "execution_count": 10
        }
      ]
    },
    {
      "cell_type": "markdown",
      "source": [
        "**Discussion of the Ranking:**\n",
        "\n",
        "The ranking generally make sense as we can see tha the strongest teams (such as Washington and Michigan) ranked in the top. However, we also see a slight mixture of other teams - one wouldn't really expect teams such as Colorado Mines to have a stronger team effect that Alabama, or have Liberty ranked at the top.\n",
        "\n",
        "The reason why this happens is due to the limitations of the data. In Bradley-Terry model, the team effects are calculated based solely on game win/lose track record, however, some teams may never play each other (especially across divisions). One probably hypothesis is that Colorado Mines is unbeatable in their own division, but the division itself is somewhat weaker than the division of Alabama, and the two teams never encountered each other in the historical games data. (Upon checking, indeed, Colorado Mines is a Division II team, while Alabama is a Division I team.)"
      ],
      "metadata": {
        "id": "oDsudYeUJyjq"
      }
    },
    {
      "cell_type": "markdown",
      "metadata": {
        "id": "lBPDg-5QtXQV"
      },
      "source": [
        "## Problem 3: Newton's Method\n",
        "\n",
        "Now, use Newton's method to fit your Bradley-Terry model to the provided data.\n"
      ]
    },
    {
      "cell_type": "markdown",
      "metadata": {
        "id": "Pi_R1fgkFbQ0"
      },
      "source": [
        "### Problem 3.1 The Hessian\n",
        "\n"
      ]
    },
    {
      "cell_type": "markdown",
      "metadata": {
        "id": "RS0kTKtVLDlQ"
      },
      "source": [
        "#### Problem 3.1.1. Implement and check the Hessian\n",
        "Write a function to compute the Hessian of the average negative log likelihood and check your answer against the output of `from torch.autograd.functional.hessian`."
      ]
    },
    {
      "cell_type": "markdown",
      "source": [
        "**Answer**\n",
        "\n",
        "Recall that the gradient is computed as:\n",
        "$$\n",
        "\\nabla L(\\beta) = -\\frac{1}{n} \\sum_{i=1}^{n} \\left[(y_i - \\sigma(\\beta^\\intercal x_i)) x_i\\right] + \\gamma \\beta\n",
        "$$\n",
        "\n",
        "Hence, the Hessian is computed as:\n",
        "$$\n",
        "\\nabla ^2 L(\\beta) = \\frac{1}{n} \\sum_{i=1}^{n} \\left[\\sigma'(\\beta^\\intercal x_i)x_i x_i^\\intercal \\right] + \\gamma \\mathbf{I}_{\\dim (\\beta)}\n",
        "$$\n",
        "\n",
        "Note that $\\sigma'(a) = \\sigma(a)(1-\\sigma(a))$. Thus, the Hessian can be further simplified into:\n",
        "$$\n",
        "\\nabla ^2 L(\\beta) = \\frac{1}{n} \\sum_{i=1}^{n} \\left[\\sigma(\\beta^\\intercal x_i)(1-\\sigma(\\beta^\\intercal x_i))x_i x_i^\\intercal \\right] + \\gamma \\mathbf{I}_{\\dim (\\beta)}\n",
        "$$\n",
        "\n",
        "Let $w_i:= \\sigma(\\beta^\\intercal x_i)(1-\\sigma(\\beta^\\intercal x_i))$. Observe that this is the variance in the GLM model. We can thus write:\n",
        "\n",
        "$$\n",
        "\\nabla ^2 L(\\beta) = \\frac{1}{n} \\sum_{i=1}^{n} \\left[w_i x_i x_i^\\intercal \\right] + \\gamma \\mathbf{I}_{\\dim (\\beta)} = \\frac{1}{n} X^\\intercal WX + \\gamma \\mathbf{I}_{\\dim (\\beta)}\n",
        "$$\n",
        "\n",
        "where $W_{ii} = w_i$, a diagonal matrix."
      ],
      "metadata": {
        "id": "0H5QAPyXbsrj"
      }
    },
    {
      "cell_type": "code",
      "source": [
        "# hessian function\n",
        "def compute_hessian(beta, X, y, gamma):\n",
        "    y_hat = torch.sigmoid(X @ beta)\n",
        "    W = torch.diag((y_hat * (1 - y_hat)).squeeze())\n",
        "    hessian = (1 / y.shape[0]) * (X.T @ W @ X) + gamma * torch.eye(beta.shape[0])\n",
        "    return hessian"
      ],
      "metadata": {
        "id": "B92rhcacdQ5Q"
      },
      "execution_count": 11,
      "outputs": []
    },
    {
      "cell_type": "code",
      "source": [
        "# unit testing\n",
        "torch.manual_seed(0)\n",
        "beta = torch.rand([X.shape[1],1], dtype=torch.float32, requires_grad=True)\n",
        "gamma = 0.2\n",
        "\n",
        "# my computation\n",
        "H = compute_hessian(beta, X, y, gamma)\n",
        "\n",
        "# auto hessian\n",
        "loss_helper = lambda beta: compute_loss(beta, X, y, gamma)\n",
        "auto_H = torch.autograd.functional.hessian(loss_helper, beta).squeeze()\n",
        "\n",
        "# comparison\n",
        "print(torch.allclose(H, auto_H))"
      ],
      "metadata": {
        "colab": {
          "base_uri": "https://localhost:8080/"
        },
        "id": "Am1ZbPYw1BGn",
        "outputId": "b7a0d15f-3ecb-4127-9856-7c4597243c66"
      },
      "execution_count": 12,
      "outputs": [
        {
          "output_type": "stream",
          "name": "stdout",
          "text": [
            "True\n"
          ]
        }
      ]
    },
    {
      "cell_type": "markdown",
      "metadata": {
        "id": "TtSlxUAkLE-y"
      },
      "source": [
        "#### Problem 3.1.2: Positive definiteness\n",
        "\n",
        "Compute the Hessian at the point $\\beta = 0$ without regularization (set $\\gamma = 0$). Unless you've done sort of pre-processing, it's probably singular."
      ]
    },
    {
      "cell_type": "code",
      "execution_count": 13,
      "metadata": {
        "id": "6KQjQZtfsUZ6",
        "colab": {
          "base_uri": "https://localhost:8080/"
        },
        "outputId": "f05b2a07-efce-42e1-bccc-41841080c060"
      },
      "outputs": [
        {
          "output_type": "stream",
          "name": "stdout",
          "text": [
            "rank:  tensor(687)\n",
            "determinant: tensor(-0., grad_fn=<LinalgDetBackward0>)\n"
          ]
        }
      ],
      "source": [
        "# Answer 3.1.2\n",
        "# Compute the Hessian at beta = 0 without regularization\n",
        "beta_z = torch.zeros([X.shape[1],1], dtype=torch.float32, requires_grad=True)\n",
        "gamma_z = 0\n",
        "H_z = compute_hessian(beta_z, X, y, gamma_z)\n",
        "#check if H_z is singular\n",
        "print(\"rank: \", torch.linalg.matrix_rank(H_z))\n",
        "print(\"determinant:\", torch.linalg.det(H_z))"
      ]
    },
    {
      "cell_type": "code",
      "source": [
        "H_z.shape"
      ],
      "metadata": {
        "colab": {
          "base_uri": "https://localhost:8080/"
        },
        "id": "Gvn2ftkNKIfW",
        "outputId": "88894cc1-894e-4ed4-d8ad-2ec7624e1670"
      },
      "execution_count": 14,
      "outputs": [
        {
          "output_type": "execute_result",
          "data": {
            "text/plain": [
              "torch.Size([691, 691])"
            ]
          },
          "metadata": {},
          "execution_count": 14
        }
      ]
    },
    {
      "cell_type": "markdown",
      "source": [
        "Note the two outputs above. As $687<691$, $H_z$ is not full rank, i.e., the Hessian computed at $\\beta = 0$ without regularization is singular. The check also also be seen from $\\det(H_z) = 0$."
      ],
      "metadata": {
        "id": "-FC6MsrWKK3P"
      }
    },
    {
      "cell_type": "markdown",
      "metadata": {
        "id": "GKVxT91XLbSL"
      },
      "source": [
        "#### Problem 3.1.3\n",
        "\n",
        "Describe intuitively and mathematically what it means for the Hessian of the negative log likelihood to be singular in the context of this data and model"
      ]
    },
    {
      "cell_type": "markdown",
      "metadata": {
        "id": "yAsLFSGXsWXO"
      },
      "source": [
        "**Answer 3.1.3**\n",
        "\n",
        "Mathematically, Hessian of the negative log likelihood is singular means it is not full-rank, or equivalently, its determinant is zero. This may also indicate that the parameters are not uniquely estimable (global minimum is not unique).\n",
        "\n",
        "Intuitively, in the context of our data and model, a singular Hessian indicates that some teams may not have sufficient track record, i.e. they do not play enough games with each other. More of this is explored in 3.1.4. Also, our Hessian is very sparse, which could also indicate singularity."
      ]
    },
    {
      "cell_type": "markdown",
      "metadata": {
        "id": "TvClzEjJLk52"
      },
      "source": [
        "#### Problem 3.1.4\n",
        "\n",
        "Give a hypothesis for why the Hessian in this dataset and model is singular, and provide empirical evidence to support your hypothesis."
      ]
    },
    {
      "cell_type": "markdown",
      "metadata": {
        "id": "dFphHjnxsjE2"
      },
      "source": [
        "**Answer 3.1.4**\n",
        "\n",
        "Hypothesis: the Hessian of the negative log likelihood is singular is because the covariate matrix $X$ have linearly dependent columns, i.e., $X$ is not full column rank. Intuitively this means that not every team plays against each other. Mathematically this is also very probably because $X$ is very sparse by design."
      ]
    },
    {
      "cell_type": "code",
      "execution_count": 15,
      "metadata": {
        "id": "-wxWOBOQslRc",
        "colab": {
          "base_uri": "https://localhost:8080/"
        },
        "outputId": "af8a6d56-5040-4b4b-9001-09ab5a21d015"
      },
      "outputs": [
        {
          "output_type": "stream",
          "name": "stdout",
          "text": [
            "rank of X:  tensor(687)\n"
          ]
        }
      ],
      "source": [
        "# your code here\n",
        "\n",
        "# checking the rank of X\n",
        "print(\"rank of X: \", torch.linalg.matrix_rank(X))"
      ]
    },
    {
      "cell_type": "markdown",
      "source": [
        "As seen above, $X$ is indeed not full column rank."
      ],
      "metadata": {
        "id": "G4-cD6FmPJWB"
      }
    },
    {
      "cell_type": "markdown",
      "metadata": {
        "id": "EtKlPKs9LyNw"
      },
      "source": [
        "#### Problem 3.1.5\n",
        "\n",
        "Explain why the Hessian is invertible when $\\gamma > 0$."
      ]
    },
    {
      "cell_type": "markdown",
      "metadata": {
        "id": "CgvigoXaspaw"
      },
      "source": [
        "**Answer 3.1.5**\n",
        "\n",
        "Intuitively, this is GLM's analogy to the Ridge Regression model. In Ridge regression, by adding the regularization term $\\gamma$, in the closed-form solution to the regression problem $(X^\\intercal X + \\gamma \\mathbf{I})^{-1} X^\\intercal y$, $X^\\intercal X + \\gamma \\mathbf{I}$ is guaranteed to be invertible as the regularization part $\\gamma \\mathbf{I}$ forces the matrix to be full rank.\n",
        "\n",
        "Mathematically, the analogy is also clear. Recall the definition of our computed Hessian:\n",
        "$$\n",
        "\\nabla ^2 L(\\beta) = \\frac{1}{n} X^\\intercal WX + \\gamma \\mathbf{I}_{\\dim (\\beta)}\n",
        "$$\n",
        "Whenever $\\gamma >0$, the $\\gamma \\mathbf{I}_{\\dim (\\beta)}$ effectively forces the Hessian to be invertible by introducing regularization, making the Hessian full rank."
      ]
    },
    {
      "cell_type": "markdown",
      "metadata": {
        "id": "szaThYwMMuf4"
      },
      "source": [
        "### Problem 3.2: Implement Newton's method\n",
        "\n",
        "Now, use Newton's method to fit your $\\ell_2$-regularized Bradley-Terry model to the provided data.\n",
        "\n",
        "Deliverables for this question:\n",
        "1. Code the implements Newton's method to fit your Bradley-Terry model to the provided data.\n",
        "2. A plot of the loss curves from Newton's method and from gradient descent, using the same regularization strength $\\gamma$ and initialization $\\beta_0$. Briefly discuss the results and compare their rates of convergence.\n",
        "3. A plot of the histogram of the fitted values of $\\beta$\n",
        "4. The top 10 teams from your ranking, and a discussion of whether this ranking makes sense or not."
      ]
    },
    {
      "cell_type": "code",
      "execution_count": 16,
      "metadata": {
        "id": "FPYUCllcsri7"
      },
      "outputs": [],
      "source": [
        "# newton's method implementation code\n",
        "\n",
        "# parameters\n",
        "\n",
        "# learning rate\n",
        "learning_rate = 0.1\n",
        "# regularization parameter gamma\n",
        "gamma = 0.01\n",
        "# initial beta\n",
        "beta = torch.zeros([X.shape[1],1], dtype=torch.float32, requires_grad=True)\n",
        "\n",
        "def newton_step(beta, learning_rate):\n",
        "  #compute gradient\n",
        "  current_gradient = compute_gradient(beta, X, y, gamma)\n",
        "  #compute hessian\n",
        "  current_hessian = compute_hessian(beta, X, y, gamma)\n",
        "  next_beta = beta - learning_rate * torch.linalg.inv(current_hessian) @ current_gradient\n",
        "  return next_beta\n",
        "\n",
        "num_iterations = 100\n",
        "list_of_loss_newton = [compute_loss(beta, X, y, gamma)]\n",
        "for _ in range(num_iterations):\n",
        "  new_beta = newton_step(beta, learning_rate)\n",
        "  list_of_loss_newton.append(compute_loss(new_beta, X, y, gamma))\n",
        "  if torch.allclose(beta, new_beta, atol=1e-4):\n",
        "    break\n",
        "  else:\n",
        "    beta = new_beta"
      ]
    },
    {
      "cell_type": "code",
      "source": [
        "# plotting loss curve\n",
        "list_of_loss_newton = torch.as_tensor(list_of_loss_newton)\n",
        "plt.plot(list_of_loss_newton, label=\"Newton's Method (learning rate = 0.1)\")\n",
        "plt.plot(loss_tensor_gradient_descent, label=\"Gradient Descent (learning rate = 2)\")\n",
        "plt.xlabel(\"number of iterations\")\n",
        "plt.ylabel(\"loss\")\n",
        "plt.legend()"
      ],
      "metadata": {
        "colab": {
          "base_uri": "https://localhost:8080/",
          "height": 467
        },
        "id": "p8DoQITMHPfr",
        "outputId": "22d9e77a-87e9-4ea1-a4b7-1f326b1318ae"
      },
      "execution_count": 17,
      "outputs": [
        {
          "output_type": "execute_result",
          "data": {
            "text/plain": [
              "<matplotlib.legend.Legend at 0x7a47fe7a6610>"
            ]
          },
          "metadata": {},
          "execution_count": 17
        },
        {
          "output_type": "display_data",
          "data": {
            "text/plain": [
              "<Figure size 640x480 with 1 Axes>"
            ],
            "image/png": "[encoded data removed]"
          },
          "metadata": {}
        }
      ]
    },
    {
      "cell_type": "code",
      "source": [
        "# plotting fitted values of beta\n",
        "beta_df = pd.DataFrame({\"Team\": teams, \"Effect\": beta.detach().numpy().flatten()})\n",
        "\n",
        "plt.hist(beta_df[\"Effect\"], bins=30)\n",
        "plt.title(\"Histogram of Team Effects (Bradley-Terry Model)\")\n",
        "plt.xlabel(\"Team Effect (Fitted Values of Beta)\")\n",
        "plt.ylabel(\"Frequency\")\n",
        "plt.show()"
      ],
      "metadata": {
        "colab": {
          "base_uri": "https://localhost:8080/",
          "height": 472
        },
        "id": "A1xUOlPQHPzz",
        "outputId": "f04f2315-d5cf-44aa-9e56-c32381312c93"
      },
      "execution_count": 18,
      "outputs": [
        {
          "output_type": "display_data",
          "data": {
            "text/plain": [
              "<Figure size 640x480 with 1 Axes>"
            ],
            "image/png": "[encoded data removed]"
          },
          "metadata": {}
        }
      ]
    },
    {
      "cell_type": "code",
      "source": [
        "# top 10 teams\n",
        "beta_df.sort_values(by=\"Effect\", ascending=False).head(10)"
      ],
      "metadata": {
        "colab": {
          "base_uri": "https://localhost:8080/",
          "height": 363
        },
        "id": "GlZQ3HPkHneb",
        "outputId": "23b7c33f-3ea8-45af-cc5a-262305f4e1fe"
      },
      "execution_count": 19,
      "outputs": [
        {
          "output_type": "execute_result",
          "data": {
            "text/plain": [
              "                   Team    Effect\n",
              "303             Liberty  0.168954\n",
              "631          Washington  0.159154\n",
              "347            Michigan  0.158630\n",
              "558               Texas  0.147077\n",
              "214             Georgia  0.147008\n",
              "129      Colorado Mines  0.146572\n",
              "196       Florida State  0.145038\n",
              "509  South Dakota State  0.135402\n",
              "271       Johns Hopkins  0.134976\n",
              "5               Alabama  0.134215"
            ],
            "text/html": [
              "\n",
              "  <div id=\"df-ec65b714-7da1-43e4-b2ae-693afc2a1a51\" class=\"colab-df-container\">\n",
              "    <div>\n",
              "<style scoped>\n",
              "    .dataframe tbody tr th:only-of-type {\n",
              "        vertical-align: middle;\n",
              "    }\n",
              "\n",
              "    .dataframe tbody tr th {\n",
              "        vertical-align: top;\n",
              "    }\n",
              "\n",
              "    .dataframe thead th {\n",
              "        text-align: right;\n",
              "    }\n",
              "</style>\n",
              "<table border=\"1\" class=\"dataframe\">\n",
              "  <thead>\n",
              "    <tr style=\"text-align: right;\">\n",
              "      <th></th>\n",
              "      <th>Team</th>\n",
              "      <th>Effect</th>\n",
              "    </tr>\n",
              "  </thead>\n",
              "  <tbody>\n",
              "    <tr>\n",
              "      <th>303</th>\n",
              "      <td>Liberty</td>\n",
              "      <td>0.168954</td>\n",
              "    </tr>\n",
              "    <tr>\n",
              "      <th>631</th>\n",
              "      <td>Washington</td>\n",
              "      <td>0.159154</td>\n",
              "    </tr>\n",
              "    <tr>\n",
              "      <th>347</th>\n",
              "      <td>Michigan</td>\n",
              "      <td>0.158630</td>\n",
              "    </tr>\n",
              "    <tr>\n",
              "      <th>558</th>\n",
              "      <td>Texas</td>\n",
              "      <td>0.147077</td>\n",
              "    </tr>\n",
              "    <tr>\n",
              "      <th>214</th>\n",
              "      <td>Georgia</td>\n",
              "      <td>0.147008</td>\n",
              "    </tr>\n",
              "    <tr>\n",
              "      <th>129</th>\n",
              "      <td>Colorado Mines</td>\n",
              "      <td>0.146572</td>\n",
              "    </tr>\n",
              "    <tr>\n",
              "      <th>196</th>\n",
              "      <td>Florida State</td>\n",
              "      <td>0.145038</td>\n",
              "    </tr>\n",
              "    <tr>\n",
              "      <th>509</th>\n",
              "      <td>South Dakota State</td>\n",
              "      <td>0.135402</td>\n",
              "    </tr>\n",
              "    <tr>\n",
              "      <th>271</th>\n",
              "      <td>Johns Hopkins</td>\n",
              "      <td>0.134976</td>\n",
              "    </tr>\n",
              "    <tr>\n",
              "      <th>5</th>\n",
              "      <td>Alabama</td>\n",
              "      <td>0.134215</td>\n",
              "    </tr>\n",
              "  </tbody>\n",
              "</table>\n",
              "</div>\n",
              "    <div class=\"colab-df-buttons\">\n",
              "\n",
              "  <div class=\"colab-df-container\">\n",
              "    <button class=\"colab-df-convert\" onclick=\"convertToInteractive('df-ec65b714-7da1-43e4-b2ae-693afc2a1a51')\"\n",
              "            title=\"Convert this dataframe to an interactive table.\"\n",
              "            style=\"display:none;\">\n",
              "\n",
              "  <svg xmlns=\"http://www.w3.org/2000/svg\" height=\"24px\" viewBox=\"0 -960 960 960\">\n",
              "    <path d=\"M120-120v-720h720v720H120Zm60-500h600v-160H180v160Zm220 220h160v-160H400v160Zm0 220h160v-160H400v160ZM180-400h160v-160H180v160Zm440 0h160v-160H620v160ZM180-180h160v-160H180v160Zm440 0h160v-160H620v160Z\"/>\n",
              "  </svg>\n",
              "    </button>\n",
              "\n",
              "  <style>\n",
              "    .colab-df-container {\n",
              "      display:flex;\n",
              "      gap: 12px;\n",
              "    }\n",
              "\n",
              "    .colab-df-convert {\n",
              "      background-color: #E8F0FE;\n",
              "      border: none;\n",
              "      border-radius: 50%;\n",
              "      cursor: pointer;\n",
              "      display: none;\n",
              "      fill: #1967D2;\n",
              "      height: 32px;\n",
              "      padding: 0 0 0 0;\n",
              "      width: 32px;\n",
              "    }\n",
              "\n",
              "    .colab-df-convert:hover {\n",
              "      background-color: #E2EBFA;\n",
              "      box-shadow: 0px 1px 2px rgba(60, 64, 67, 0.3), 0px 1px 3px 1px rgba(60, 64, 67, 0.15);\n",
              "      fill: #174EA6;\n",
              "    }\n",
              "\n",
              "    .colab-df-buttons div {\n",
              "      margin-bottom: 4px;\n",
              "    }\n",
              "\n",
              "    [theme=dark] .colab-df-convert {\n",
              "      background-color: #3B4455;\n",
              "      fill: #D2E3FC;\n",
              "    }\n",
              "\n",
              "    [theme=dark] .colab-df-convert:hover {\n",
              "      background-color: #434B5C;\n",
              "      box-shadow: 0px 1px 3px 1px rgba(0, 0, 0, 0.15);\n",
              "      filter: drop-shadow(0px 1px 2px rgba(0, 0, 0, 0.3));\n",
              "      fill: #FFFFFF;\n",
              "    }\n",
              "  </style>\n",
              "\n",
              "    <script>\n",
              "      const buttonEl =\n",
              "        document.querySelector('#df-ec65b714-7da1-43e4-b2ae-693afc2a1a51 button.colab-df-convert');\n",
              "      buttonEl.style.display =\n",
              "        google.colab.kernel.accessAllowed ? 'block' : 'none';\n",
              "\n",
              "      async function convertToInteractive(key) {\n",
              "        const element = document.querySelector('#df-ec65b714-7da1-43e4-b2ae-693afc2a1a51');\n",
              "        const dataTable =\n",
              "          await google.colab.kernel.invokeFunction('convertToInteractive',\n",
              "                                                    [key], {});\n",
              "        if (!dataTable) return;\n",
              "\n",
              "        const docLinkHtml = 'Like what you see? Visit the ' +\n",
              "          '<a target=\"_blank\" href=https://colab.research.google.com/notebooks/data_table.ipynb>data table notebook</a>'\n",
              "          + ' to learn more about interactive tables.';\n",
              "        element.innerHTML = '';\n",
              "        dataTable['output_type'] = 'display_data';\n",
              "        await google.colab.output.renderOutput(dataTable, element);\n",
              "        const docLink = document.createElement('div');\n",
              "        docLink.innerHTML = docLinkHtml;\n",
              "        element.appendChild(docLink);\n",
              "      }\n",
              "    </script>\n",
              "  </div>\n",
              "\n",
              "\n",
              "<div id=\"df-760362ea-1077-4829-8a69-86953fa8bcad\">\n",
              "  <button class=\"colab-df-quickchart\" onclick=\"quickchart('df-760362ea-1077-4829-8a69-86953fa8bcad')\"\n",
              "            title=\"Suggest charts\"\n",
              "            style=\"display:none;\">\n",
              "\n",
              "<svg xmlns=\"http://www.w3.org/2000/svg\" height=\"24px\"viewBox=\"0 0 24 24\"\n",
              "     width=\"24px\">\n",
              "    <g>\n",
              "        <path d=\"M19 3H5c-1.1 0-2 .9-2 2v14c0 1.1.9 2 2 2h14c1.1 0 2-.9 2-2V5c0-1.1-.9-2-2-2zM9 17H7v-7h2v7zm4 0h-2V7h2v10zm4 0h-2v-4h2v4z\"/>\n",
              "    </g>\n",
              "</svg>\n",
              "  </button>\n",
              "\n",
              "<style>\n",
              "  .colab-df-quickchart {\n",
              "      --bg-color: #E8F0FE;\n",
              "      --fill-color: #1967D2;\n",
              "      --hover-bg-color: #E2EBFA;\n",
              "      --hover-fill-color: #174EA6;\n",
              "      --disabled-fill-color: #AAA;\n",
              "      --disabled-bg-color: #DDD;\n",
              "  }\n",
              "\n",
              "  [theme=dark] .colab-df-quickchart {\n",
              "      --bg-color: #3B4455;\n",
              "      --fill-color: #D2E3FC;\n",
              "      --hover-bg-color: #434B5C;\n",
              "      --hover-fill-color: #FFFFFF;\n",
              "      --disabled-bg-color: #3B4455;\n",
              "      --disabled-fill-color: #666;\n",
              "  }\n",
              "\n",
              "  .colab-df-quickchart {\n",
              "    background-color: var(--bg-color);\n",
              "    border: none;\n",
              "    border-radius: 50%;\n",
              "    cursor: pointer;\n",
              "    display: none;\n",
              "    fill: var(--fill-color);\n",
              "    height: 32px;\n",
              "    padding: 0;\n",
              "    width: 32px;\n",
              "  }\n",
              "\n",
              "  .colab-df-quickchart:hover {\n",
              "    background-color: var(--hover-bg-color);\n",
              "    box-shadow: 0 1px 2px rgba(60, 64, 67, 0.3), 0 1px 3px 1px rgba(60, 64, 67, 0.15);\n",
              "    fill: var(--button-hover-fill-color);\n",
              "  }\n",
              "\n",
              "  .colab-df-quickchart-complete:disabled,\n",
              "  .colab-df-quickchart-complete:disabled:hover {\n",
              "    background-color: var(--disabled-bg-color);\n",
              "    fill: var(--disabled-fill-color);\n",
              "    box-shadow: none;\n",
              "  }\n",
              "\n",
              "  .colab-df-spinner {\n",
              "    border: 2px solid var(--fill-color);\n",
              "    border-color: transparent;\n",
              "    border-bottom-color: var(--fill-color);\n",
              "    animation:\n",
              "      spin 1s steps(1) infinite;\n",
              "  }\n",
              "\n",
              "  @keyframes spin {\n",
              "    0% {\n",
              "      border-color: transparent;\n",
              "      border-bottom-color: var(--fill-color);\n",
              "      border-left-color: var(--fill-color);\n",
              "    }\n",
              "    20% {\n",
              "      border-color: transparent;\n",
              "      border-left-color: var(--fill-color);\n",
              "      border-top-color: var(--fill-color);\n",
              "    }\n",
              "    30% {\n",
              "      border-color: transparent;\n",
              "      border-left-color: var(--fill-color);\n",
              "      border-top-color: var(--fill-color);\n",
              "      border-right-color: var(--fill-color);\n",
              "    }\n",
              "    40% {\n",
              "      border-color: transparent;\n",
              "      border-right-color: var(--fill-color);\n",
              "      border-top-color: var(--fill-color);\n",
              "    }\n",
              "    60% {\n",
              "      border-color: transparent;\n",
              "      border-right-color: var(--fill-color);\n",
              "    }\n",
              "    80% {\n",
              "      border-color: transparent;\n",
              "      border-right-color: var(--fill-color);\n",
              "      border-bottom-color: var(--fill-color);\n",
              "    }\n",
              "    90% {\n",
              "      border-color: transparent;\n",
              "      border-bottom-color: var(--fill-color);\n",
              "    }\n",
              "  }\n",
              "</style>\n",
              "\n",
              "  <script>\n",
              "    async function quickchart(key) {\n",
              "      const quickchartButtonEl =\n",
              "        document.querySelector('#' + key + ' button');\n",
              "      quickchartButtonEl.disabled = true;  // To prevent multiple clicks.\n",
              "      quickchartButtonEl.classList.add('colab-df-spinner');\n",
              "      try {\n",
              "        const charts = await google.colab.kernel.invokeFunction(\n",
              "            'suggestCharts', [key], {});\n",
              "      } catch (error) {\n",
              "        console.error('Error during call to suggestCharts:', error);\n",
              "      }\n",
              "      quickchartButtonEl.classList.remove('colab-df-spinner');\n",
              "      quickchartButtonEl.classList.add('colab-df-quickchart-complete');\n",
              "    }\n",
              "    (() => {\n",
              "      let quickchartButtonEl =\n",
              "        document.querySelector('#df-760362ea-1077-4829-8a69-86953fa8bcad button');\n",
              "      quickchartButtonEl.style.display =\n",
              "        google.colab.kernel.accessAllowed ? 'block' : 'none';\n",
              "    })();\n",
              "  </script>\n",
              "</div>\n",
              "\n",
              "    </div>\n",
              "  </div>\n"
            ],
            "application/vnd.google.colaboratory.intrinsic+json": {
              "type": "dataframe",
              "summary": "{\n  \"name\": \"beta_df\",\n  \"rows\": 10,\n  \"fields\": [\n    {\n      \"column\": \"Team\",\n      \"properties\": {\n        \"dtype\": \"string\",\n        \"num_unique_values\": 10,\n        \"samples\": [\n          \"Johns Hopkins\",\n          \"Washington\",\n          \"Colorado Mines\"\n        ],\n        \"semantic_type\": \"\",\n        \"description\": \"\"\n      }\n    },\n    {\n      \"column\": \"Effect\",\n      \"properties\": {\n        \"dtype\": \"float32\",\n        \"num_unique_values\": 10,\n        \"samples\": [\n          0.1349763572216034,\n          0.15915371477603912,\n          0.14657209813594818\n        ],\n        \"semantic_type\": \"\",\n        \"description\": \"\"\n      }\n    }\n  ]\n}"
            }
          },
          "metadata": {},
          "execution_count": 19
        }
      ]
    },
    {
      "cell_type": "markdown",
      "source": [
        "**Discussion of the plot and the ranking: Answer 3.2**\n",
        "\n",
        "From the results above, especially the plot, we can see that the Newton's method converges way faster than gradient descent (in number of iterations), even if the learning rate is smaller. However, this comes at the cost of more computation time required in each step, because the Hessian needs to be computed in the Newton's method in each step.\n",
        "\n",
        "In terms of the result, the rankings are similar for both methods (for top-ten, the rankings are the same), but for some reasons, the magnitude of team effects are somewhat different with the same regularization strength and initialization parameter. They are mostly similar!"
      ],
      "metadata": {
        "id": "F5QOVhrqyAz2"
      }
    },
    {
      "cell_type": "markdown",
      "metadata": {
        "id": "J9R91iI5NCMs"
      },
      "source": [
        "## Problem 4: Model criticism and revision\n",
        "\n",
        "Let's take another look the Bradley-Terry model from earlier and think about improvements we can make.\n"
      ]
    },
    {
      "cell_type": "markdown",
      "source": [
        "**Cross Validation and the Choice of Regularization Parameter**\n",
        "\n",
        "The following code block is used to select the optimal regularization parameter."
      ],
      "metadata": {
        "id": "F9eSRY4_uxBh"
      }
    },
    {
      "cell_type": "code",
      "source": [
        "# cross validation\n",
        "from sklearn.model_selection import KFold\n",
        "\n",
        "# accuracy score for cross-validation\n",
        "def accuracy_score(X, y, beta):\n",
        "    \"\"\"\n",
        "    Predict with logistic regression, compute classification accuracy.\n",
        "    \"\"\"\n",
        "    with torch.no_grad():\n",
        "        logits = X @ beta\n",
        "         # note that the threshold is set at 0 <=> (p >= 0.5)\n",
        "        preds = (logits >= 0).float()\n",
        "        accurary = (preds == y).float().mean()\n",
        "    return accurary.item()\n",
        "\n",
        "# Newton's Method Training\n",
        "def train_newton(X, y, gamma, num_iters=10, stepsize=0.1):\n",
        "    beta = torch.zeros([X.shape[1],1], dtype=torch.float32)\n",
        "    for iter in range(num_iters):\n",
        "      grad = compute_gradient(beta, X, y, gamma)\n",
        "      hess = compute_hessian(beta, X, y, gamma)\n",
        "      new_beta = beta - stepsize * torch.linalg.inv(hess) @ grad\n",
        "      if torch.allclose(beta, new_beta, atol=1e-4):\n",
        "        break\n",
        "      else:\n",
        "        beta = new_beta\n",
        "    return beta\n",
        "\n",
        "def cross_validate_gamma(X, y, gammas, k=5):\n",
        "    \"\"\"\n",
        "    Perform k-fold cross-validation over a set of gammas.\n",
        "    Returns gamma that yields best average accuracy (or other metric).\n",
        "    \"\"\"\n",
        "    kf = KFold(n_splits=k, shuffle=True, random_state=0)\n",
        "    results = {}\n",
        "\n",
        "    for gamma in gammas:\n",
        "        fold_accuracies = []\n",
        "        for train_index, val_index in kf.split(X):\n",
        "            X_train, X_val = X[train_index], X[val_index]\n",
        "            y_train, y_val = y[train_index], y[val_index]\n",
        "\n",
        "            # Train model on training fold\n",
        "            beta_cv = train_newton(X_train, y_train, gamma)\n",
        "\n",
        "            # Evaluate on validation fold\n",
        "            acc_val = accuracy_score(X_val, y_val, beta_cv)\n",
        "            fold_accuracies.append(acc_val)\n",
        "\n",
        "        # Store average CV accuracy for this gamma\n",
        "        avg_acc = np.mean(fold_accuracies)\n",
        "        results[gamma] = avg_acc\n",
        "        print(f\"Gamma={gamma}, Mean CV Accuracy={avg_acc:.4f}\")\n",
        "\n",
        "    # Pick gamma with highest average performance\n",
        "    best_gamma = max(results, key=results.get)\n",
        "    return best_gamma, results\n",
        "\n",
        "gammas = [0.01, 0.1, 1, 10, 100]\n",
        "cross_validate_gamma(X, y, gammas)"
      ],
      "metadata": {
        "colab": {
          "base_uri": "https://localhost:8080/"
        },
        "id": "XHwovIxsVY00",
        "outputId": "b975ae1a-8e9a-4496-8b35-7bb141aba082"
      },
      "execution_count": 20,
      "outputs": [
        {
          "output_type": "stream",
          "name": "stdout",
          "text": [
            "Gamma=0.01, Mean CV Accuracy=0.7290\n",
            "Gamma=0.1, Mean CV Accuracy=0.7290\n",
            "Gamma=1, Mean CV Accuracy=0.7287\n",
            "Gamma=10, Mean CV Accuracy=0.5679\n",
            "Gamma=100, Mean CV Accuracy=0.5679\n"
          ]
        },
        {
          "output_type": "execute_result",
          "data": {
            "text/plain": [
              "(0.01,\n",
              " {0.01: 0.729028856754303,\n",
              "  0.1: 0.729028856754303,\n",
              "  1: 0.728740680217743,\n",
              "  10: 0.567883026599884,\n",
              "  100: 0.567883026599884})"
            ]
          },
          "metadata": {},
          "execution_count": 20
        }
      ]
    },
    {
      "cell_type": "markdown",
      "metadata": {
        "id": "yPSnL3odcj12"
      },
      "source": [
        "### Problem 4.1: Improvements to Bradley-Terry Model\n",
        "Choose one way to improve the Bradley-Terry model. Discuss *a priori* why you think this change will improve the model and implement your change."
      ]
    },
    {
      "cell_type": "markdown",
      "metadata": {
        "id": "gngpLxYpczp0"
      },
      "source": [
        "**Answer 4.1**:\n",
        "\n",
        "To improve analysis, there are multiple ways, including (1) re-investigating/refining model assumptions, (2) improve data quality, and (3) improve model architecture. I think the the model architecture is fairly robust, so the focus here in Q4 is on better understanding the data.  \n",
        "\n",
        "One thing I noticed is that *the home team may have innate advantage as they are more familiar with the stadium.* They enjoy familiarity, more audience support (hence more morales), less travel time, etc. - all of these may factor into an innate home team advantage. However, note that some of the games are played at a neutral site, so there will be no home team advantage. I have already dropped those games at the beginning.\n",
        "\n",
        "**Proposed Improvement:**\n",
        "\n",
        "- run the Bradley-Terry model with one more covariate, `home_team_advantage`. The covariate `home_team_advantage` equals 1 for games played at the home stadium. For this processed dataset, this is equivalent to adding an intercept to the model.  \n",
        "\n",
        "**A priori discussion:**\n",
        "- Through this improvement, we can control for the home team advantage when estimating the team effects, which may allow for a more robust interpretation. (We do assume that the home team advantage is shared across all teams - this assumption may not be accurate. We will see how the model performs.)\n",
        "\n",
        "**Implementation:**\n",
        "The code below creates the new covariate and re-run the model using Newton's method."
      ]
    },
    {
      "cell_type": "code",
      "source": [
        "# Implementation 4.1\n",
        "# df[\"Neutral Site\"].info() -- I have checked at there is no nan value\n",
        "# constructing and concat the home_team_advantage column\n",
        "df[\"home_team_advantage\"] = 1 - df[\"Neutral Site\"]*1\n",
        "X_df_4 = pd.concat([df[\"home_team_advantage\"], X_df], axis=1)\n",
        "print(X_df_4.shape, X_df.shape)\n",
        "X_4 = torch.tensor(X_df_4.values, dtype=torch.float32)"
      ],
      "metadata": {
        "colab": {
          "base_uri": "https://localhost:8080/"
        },
        "id": "jaD-iOGIMhf0",
        "outputId": "f501e784-41b1-4374-e562-2abeead88091"
      },
      "execution_count": 21,
      "outputs": [
        {
          "output_type": "stream",
          "name": "stdout",
          "text": [
            "(3469, 692) (3469, 691)\n"
          ]
        }
      ]
    },
    {
      "cell_type": "code",
      "source": [
        "# EDA - check this is the same as adding one intercept\n",
        "print(X_df_4[\"home_team_advantage\"].value_counts())"
      ],
      "metadata": {
        "colab": {
          "base_uri": "https://localhost:8080/"
        },
        "id": "WuZmUcTQu7qu",
        "outputId": "ed5773e5-ec2e-45b7-aedd-4877de67e375"
      },
      "execution_count": 22,
      "outputs": [
        {
          "output_type": "stream",
          "name": "stdout",
          "text": [
            "home_team_advantage\n",
            "1    3469\n",
            "Name: count, dtype: int64\n"
          ]
        }
      ]
    },
    {
      "cell_type": "code",
      "source": [
        "# The regularization does not apply to the first column - think of it like an intercept.\n",
        "# new loss\n",
        "def compute_loss_4(beta, X, y, gamma):\n",
        "  average_log_likelihood = torch.distributions.Bernoulli(probs = torch.sigmoid(X @ beta)).log_prob(y).mean()\n",
        "  loss = -1 * average_log_likelihood + gamma / 2 * (torch.norm(beta[1:], 2) ** 2) # add l2 regularization but without the first column\n",
        "  return loss\n",
        "\n",
        "# new gradient function\n",
        "def compute_gradient_4(beta, X, y, gamma):\n",
        "  grad_average_log_likelihood = -1/(y.shape[0]) * (X.T @ (y - torch.sigmoid(X @ beta)))\n",
        "  zero = torch.tensor([0.], dtype=beta.dtype, device=beta.device).unsqueeze(0)\n",
        "  other = gamma * beta[1:]\n",
        "  #print(zero.shape, other.shape)\n",
        "  grad_regularization = torch.cat([zero, gamma * beta[1:]])\n",
        "  gradient = grad_average_log_likelihood + grad_regularization\n",
        "  return gradient\n",
        "\n",
        "# new hessian function\n",
        "def compute_hessian_4(beta, X, y, gamma):\n",
        "    y_hat = torch.sigmoid(X @ beta)\n",
        "    W = torch.diag((y_hat * (1 - y_hat)).squeeze())\n",
        "    regularization_matrix = torch.diag(torch.cat([torch.tensor([0.], dtype=beta.dtype, device=beta.device),\n",
        "                                                  gamma * torch.ones(beta.shape[0] - 1, dtype=beta.dtype, device=beta.device)]))\n",
        "    hessian = (1 / y.shape[0]) * (X.T @ W @ X) + regularization_matrix\n",
        "    return hessian"
      ],
      "metadata": {
        "id": "0f1i6BaflleK"
      },
      "execution_count": 23,
      "outputs": []
    },
    {
      "cell_type": "code",
      "source": [
        "# Implementation with the new loss, gradient function, and hessian function\n",
        "\n",
        "# learning rate\n",
        "learning_rate = 0.2\n",
        "# regularization parameter gamma\n",
        "gamma = 0.01\n",
        "# initial beta\n",
        "beta_4 = torch.zeros([X_4.shape[1],1], dtype=torch.float32, requires_grad=True)\n",
        "\n",
        "def newton_step_4(beta, learning_rate):\n",
        "  #compute gradient\n",
        "  current_gradient = compute_gradient_4(beta, X_4, y, gamma)\n",
        "  #compute hessian\n",
        "  current_hessian = compute_hessian_4(beta, X_4, y, gamma)\n",
        "  next_beta = beta - learning_rate * torch.linalg.inv(current_hessian) @ current_gradient\n",
        "  return next_beta\n",
        "\n",
        "num_iterations = 100\n",
        "list_of_loss_newton_4 = [compute_loss(beta_4, X_4, y, gamma)]\n",
        "for _ in range(num_iterations):\n",
        "  new_beta = newton_step_4(beta_4, learning_rate)\n",
        "  list_of_loss_newton_4.append(compute_loss(new_beta, X_4, y, gamma))\n",
        "  if torch.allclose(beta_4, new_beta, atol=1e-4):\n",
        "    break\n",
        "  else:\n",
        "    beta_4 = new_beta"
      ],
      "metadata": {
        "id": "HFv2hoKNcNyG"
      },
      "execution_count": 24,
      "outputs": []
    },
    {
      "cell_type": "code",
      "source": [
        "# plotting loss curve\n",
        "list_of_loss_newton_4 = torch.as_tensor(list_of_loss_newton_4)\n",
        "plt.plot(list_of_loss_newton_4, label=\"Newton's Method with 'improvement' (learning rate = 0.2)\")\n",
        "plt.plot(list_of_loss_newton, label=\"Newton's Method (original)\")\n",
        "#plt.plot(loss_tensor_gradient_descent, label=\"Gradient Descent (learning rate = 2)\")\n",
        "plt.xlabel(\"number of iterations\")\n",
        "plt.ylabel(\"loss\")\n",
        "plt.legend()"
      ],
      "metadata": {
        "colab": {
          "base_uri": "https://localhost:8080/",
          "height": 467
        },
        "id": "Adlp8MAUjOQW",
        "outputId": "ff6662d0-0697-41a8-b1d6-0c94f28cea8b"
      },
      "execution_count": 25,
      "outputs": [
        {
          "output_type": "execute_result",
          "data": {
            "text/plain": [
              "<matplotlib.legend.Legend at 0x7a47fbb33690>"
            ]
          },
          "metadata": {},
          "execution_count": 25
        },
        {
          "output_type": "display_data",
          "data": {
            "text/plain": [
              "<Figure size 640x480 with 1 Axes>"
            ],
            "image/png": "[encoded data removed]"
          },
          "metadata": {}
        }
      ]
    },
    {
      "cell_type": "code",
      "source": [
        "beta_df_4 = pd.DataFrame({\"Team\": teams, \"Effect\": beta_4[1:].detach().numpy().flatten()})\n",
        "# top 10 teams\n",
        "beta_df_4.sort_values(by=\"Effect\", ascending=False).head(10)"
      ],
      "metadata": {
        "colab": {
          "base_uri": "https://localhost:8080/",
          "height": 363
        },
        "id": "_3sMh3Q5bRhY",
        "outputId": "735a06c6-7dc5-43b6-e40c-2d48e3ff7b32"
      },
      "execution_count": 26,
      "outputs": [
        {
          "output_type": "execute_result",
          "data": {
            "text/plain": [
              "               Team    Effect\n",
              "303         Liberty  0.164734\n",
              "631      Washington  0.156336\n",
              "347        Michigan  0.155805\n",
              "558           Texas  0.145837\n",
              "129  Colorado Mines  0.145577\n",
              "196   Florida State  0.143928\n",
              "214         Georgia  0.142228\n",
              "271   Johns Hopkins  0.135695\n",
              "549     Susquehanna  0.134618\n",
              "436      Ohio State  0.134184"
            ],
            "text/html": [
              "\n",
              "  <div id=\"df-88f7af0b-d015-499c-b2dc-13b41928ad6f\" class=\"colab-df-container\">\n",
              "    <div>\n",
              "<style scoped>\n",
              "    .dataframe tbody tr th:only-of-type {\n",
              "        vertical-align: middle;\n",
              "    }\n",
              "\n",
              "    .dataframe tbody tr th {\n",
              "        vertical-align: top;\n",
              "    }\n",
              "\n",
              "    .dataframe thead th {\n",
              "        text-align: right;\n",
              "    }\n",
              "</style>\n",
              "<table border=\"1\" class=\"dataframe\">\n",
              "  <thead>\n",
              "    <tr style=\"text-align: right;\">\n",
              "      <th></th>\n",
              "      <th>Team</th>\n",
              "      <th>Effect</th>\n",
              "    </tr>\n",
              "  </thead>\n",
              "  <tbody>\n",
              "    <tr>\n",
              "      <th>303</th>\n",
              "      <td>Liberty</td>\n",
              "      <td>0.164734</td>\n",
              "    </tr>\n",
              "    <tr>\n",
              "      <th>631</th>\n",
              "      <td>Washington</td>\n",
              "      <td>0.156336</td>\n",
              "    </tr>\n",
              "    <tr>\n",
              "      <th>347</th>\n",
              "      <td>Michigan</td>\n",
              "      <td>0.155805</td>\n",
              "    </tr>\n",
              "    <tr>\n",
              "      <th>558</th>\n",
              "      <td>Texas</td>\n",
              "      <td>0.145837</td>\n",
              "    </tr>\n",
              "    <tr>\n",
              "      <th>129</th>\n",
              "      <td>Colorado Mines</td>\n",
              "      <td>0.145577</td>\n",
              "    </tr>\n",
              "    <tr>\n",
              "      <th>196</th>\n",
              "      <td>Florida State</td>\n",
              "      <td>0.143928</td>\n",
              "    </tr>\n",
              "    <tr>\n",
              "      <th>214</th>\n",
              "      <td>Georgia</td>\n",
              "      <td>0.142228</td>\n",
              "    </tr>\n",
              "    <tr>\n",
              "      <th>271</th>\n",
              "      <td>Johns Hopkins</td>\n",
              "      <td>0.135695</td>\n",
              "    </tr>\n",
              "    <tr>\n",
              "      <th>549</th>\n",
              "      <td>Susquehanna</td>\n",
              "      <td>0.134618</td>\n",
              "    </tr>\n",
              "    <tr>\n",
              "      <th>436</th>\n",
              "      <td>Ohio State</td>\n",
              "      <td>0.134184</td>\n",
              "    </tr>\n",
              "  </tbody>\n",
              "</table>\n",
              "</div>\n",
              "    <div class=\"colab-df-buttons\">\n",
              "\n",
              "  <div class=\"colab-df-container\">\n",
              "    <button class=\"colab-df-convert\" onclick=\"convertToInteractive('df-88f7af0b-d015-499c-b2dc-13b41928ad6f')\"\n",
              "            title=\"Convert this dataframe to an interactive table.\"\n",
              "            style=\"display:none;\">\n",
              "\n",
              "  <svg xmlns=\"http://www.w3.org/2000/svg\" height=\"24px\" viewBox=\"0 -960 960 960\">\n",
              "    <path d=\"M120-120v-720h720v720H120Zm60-500h600v-160H180v160Zm220 220h160v-160H400v160Zm0 220h160v-160H400v160ZM180-400h160v-160H180v160Zm440 0h160v-160H620v160ZM180-180h160v-160H180v160Zm440 0h160v-160H620v160Z\"/>\n",
              "  </svg>\n",
              "    </button>\n",
              "\n",
              "  <style>\n",
              "    .colab-df-container {\n",
              "      display:flex;\n",
              "      gap: 12px;\n",
              "    }\n",
              "\n",
              "    .colab-df-convert {\n",
              "      background-color: #E8F0FE;\n",
              "      border: none;\n",
              "      border-radius: 50%;\n",
              "      cursor: pointer;\n",
              "      display: none;\n",
              "      fill: #1967D2;\n",
              "      height: 32px;\n",
              "      padding: 0 0 0 0;\n",
              "      width: 32px;\n",
              "    }\n",
              "\n",
              "    .colab-df-convert:hover {\n",
              "      background-color: #E2EBFA;\n",
              "      box-shadow: 0px 1px 2px rgba(60, 64, 67, 0.3), 0px 1px 3px 1px rgba(60, 64, 67, 0.15);\n",
              "      fill: #174EA6;\n",
              "    }\n",
              "\n",
              "    .colab-df-buttons div {\n",
              "      margin-bottom: 4px;\n",
              "    }\n",
              "\n",
              "    [theme=dark] .colab-df-convert {\n",
              "      background-color: #3B4455;\n",
              "      fill: #D2E3FC;\n",
              "    }\n",
              "\n",
              "    [theme=dark] .colab-df-convert:hover {\n",
              "      background-color: #434B5C;\n",
              "      box-shadow: 0px 1px 3px 1px rgba(0, 0, 0, 0.15);\n",
              "      filter: drop-shadow(0px 1px 2px rgba(0, 0, 0, 0.3));\n",
              "      fill: #FFFFFF;\n",
              "    }\n",
              "  </style>\n",
              "\n",
              "    <script>\n",
              "      const buttonEl =\n",
              "        document.querySelector('#df-88f7af0b-d015-499c-b2dc-13b41928ad6f button.colab-df-convert');\n",
              "      buttonEl.style.display =\n",
              "        google.colab.kernel.accessAllowed ? 'block' : 'none';\n",
              "\n",
              "      async function convertToInteractive(key) {\n",
              "        const element = document.querySelector('#df-88f7af0b-d015-499c-b2dc-13b41928ad6f');\n",
              "        const dataTable =\n",
              "          await google.colab.kernel.invokeFunction('convertToInteractive',\n",
              "                                                    [key], {});\n",
              "        if (!dataTable) return;\n",
              "\n",
              "        const docLinkHtml = 'Like what you see? Visit the ' +\n",
              "          '<a target=\"_blank\" href=https://colab.research.google.com/notebooks/data_table.ipynb>data table notebook</a>'\n",
              "          + ' to learn more about interactive tables.';\n",
              "        element.innerHTML = '';\n",
              "        dataTable['output_type'] = 'display_data';\n",
              "        await google.colab.output.renderOutput(dataTable, element);\n",
              "        const docLink = document.createElement('div');\n",
              "        docLink.innerHTML = docLinkHtml;\n",
              "        element.appendChild(docLink);\n",
              "      }\n",
              "    </script>\n",
              "  </div>\n",
              "\n",
              "\n",
              "<div id=\"df-02177cd2-1735-4bd7-a575-102645618823\">\n",
              "  <button class=\"colab-df-quickchart\" onclick=\"quickchart('df-02177cd2-1735-4bd7-a575-102645618823')\"\n",
              "            title=\"Suggest charts\"\n",
              "            style=\"display:none;\">\n",
              "\n",
              "<svg xmlns=\"http://www.w3.org/2000/svg\" height=\"24px\"viewBox=\"0 0 24 24\"\n",
              "     width=\"24px\">\n",
              "    <g>\n",
              "        <path d=\"M19 3H5c-1.1 0-2 .9-2 2v14c0 1.1.9 2 2 2h14c1.1 0 2-.9 2-2V5c0-1.1-.9-2-2-2zM9 17H7v-7h2v7zm4 0h-2V7h2v10zm4 0h-2v-4h2v4z\"/>\n",
              "    </g>\n",
              "</svg>\n",
              "  </button>\n",
              "\n",
              "<style>\n",
              "  .colab-df-quickchart {\n",
              "      --bg-color: #E8F0FE;\n",
              "      --fill-color: #1967D2;\n",
              "      --hover-bg-color: #E2EBFA;\n",
              "      --hover-fill-color: #174EA6;\n",
              "      --disabled-fill-color: #AAA;\n",
              "      --disabled-bg-color: #DDD;\n",
              "  }\n",
              "\n",
              "  [theme=dark] .colab-df-quickchart {\n",
              "      --bg-color: #3B4455;\n",
              "      --fill-color: #D2E3FC;\n",
              "      --hover-bg-color: #434B5C;\n",
              "      --hover-fill-color: #FFFFFF;\n",
              "      --disabled-bg-color: #3B4455;\n",
              "      --disabled-fill-color: #666;\n",
              "  }\n",
              "\n",
              "  .colab-df-quickchart {\n",
              "    background-color: var(--bg-color);\n",
              "    border: none;\n",
              "    border-radius: 50%;\n",
              "    cursor: pointer;\n",
              "    display: none;\n",
              "    fill: var(--fill-color);\n",
              "    height: 32px;\n",
              "    padding: 0;\n",
              "    width: 32px;\n",
              "  }\n",
              "\n",
              "  .colab-df-quickchart:hover {\n",
              "    background-color: var(--hover-bg-color);\n",
              "    box-shadow: 0 1px 2px rgba(60, 64, 67, 0.3), 0 1px 3px 1px rgba(60, 64, 67, 0.15);\n",
              "    fill: var(--button-hover-fill-color);\n",
              "  }\n",
              "\n",
              "  .colab-df-quickchart-complete:disabled,\n",
              "  .colab-df-quickchart-complete:disabled:hover {\n",
              "    background-color: var(--disabled-bg-color);\n",
              "    fill: var(--disabled-fill-color);\n",
              "    box-shadow: none;\n",
              "  }\n",
              "\n",
              "  .colab-df-spinner {\n",
              "    border: 2px solid var(--fill-color);\n",
              "    border-color: transparent;\n",
              "    border-bottom-color: var(--fill-color);\n",
              "    animation:\n",
              "      spin 1s steps(1) infinite;\n",
              "  }\n",
              "\n",
              "  @keyframes spin {\n",
              "    0% {\n",
              "      border-color: transparent;\n",
              "      border-bottom-color: var(--fill-color);\n",
              "      border-left-color: var(--fill-color);\n",
              "    }\n",
              "    20% {\n",
              "      border-color: transparent;\n",
              "      border-left-color: var(--fill-color);\n",
              "      border-top-color: var(--fill-color);\n",
              "    }\n",
              "    30% {\n",
              "      border-color: transparent;\n",
              "      border-left-color: var(--fill-color);\n",
              "      border-top-color: var(--fill-color);\n",
              "      border-right-color: var(--fill-color);\n",
              "    }\n",
              "    40% {\n",
              "      border-color: transparent;\n",
              "      border-right-color: var(--fill-color);\n",
              "      border-top-color: var(--fill-color);\n",
              "    }\n",
              "    60% {\n",
              "      border-color: transparent;\n",
              "      border-right-color: var(--fill-color);\n",
              "    }\n",
              "    80% {\n",
              "      border-color: transparent;\n",
              "      border-right-color: var(--fill-color);\n",
              "      border-bottom-color: var(--fill-color);\n",
              "    }\n",
              "    90% {\n",
              "      border-color: transparent;\n",
              "      border-bottom-color: var(--fill-color);\n",
              "    }\n",
              "  }\n",
              "</style>\n",
              "\n",
              "  <script>\n",
              "    async function quickchart(key) {\n",
              "      const quickchartButtonEl =\n",
              "        document.querySelector('#' + key + ' button');\n",
              "      quickchartButtonEl.disabled = true;  // To prevent multiple clicks.\n",
              "      quickchartButtonEl.classList.add('colab-df-spinner');\n",
              "      try {\n",
              "        const charts = await google.colab.kernel.invokeFunction(\n",
              "            'suggestCharts', [key], {});\n",
              "      } catch (error) {\n",
              "        console.error('Error during call to suggestCharts:', error);\n",
              "      }\n",
              "      quickchartButtonEl.classList.remove('colab-df-spinner');\n",
              "      quickchartButtonEl.classList.add('colab-df-quickchart-complete');\n",
              "    }\n",
              "    (() => {\n",
              "      let quickchartButtonEl =\n",
              "        document.querySelector('#df-02177cd2-1735-4bd7-a575-102645618823 button');\n",
              "      quickchartButtonEl.style.display =\n",
              "        google.colab.kernel.accessAllowed ? 'block' : 'none';\n",
              "    })();\n",
              "  </script>\n",
              "</div>\n",
              "\n",
              "    </div>\n",
              "  </div>\n"
            ],
            "application/vnd.google.colaboratory.intrinsic+json": {
              "type": "dataframe",
              "summary": "{\n  \"name\": \"beta_df_4\",\n  \"rows\": 10,\n  \"fields\": [\n    {\n      \"column\": \"Team\",\n      \"properties\": {\n        \"dtype\": \"string\",\n        \"num_unique_values\": 10,\n        \"samples\": [\n          \"Susquehanna\",\n          \"Washington\",\n          \"Florida State\"\n        ],\n        \"semantic_type\": \"\",\n        \"description\": \"\"\n      }\n    },\n    {\n      \"column\": \"Effect\",\n      \"properties\": {\n        \"dtype\": \"float32\",\n        \"num_unique_values\": 10,\n        \"samples\": [\n          0.13461756706237793,\n          0.15633605420589447,\n          0.1439284086227417\n        ],\n        \"semantic_type\": \"\",\n        \"description\": \"\"\n      }\n    }\n  ]\n}"
            }
          },
          "metadata": {},
          "execution_count": 26
        }
      ]
    },
    {
      "cell_type": "markdown",
      "source": [
        "*more details of the implementation are discussed in 4.2.*"
      ],
      "metadata": {
        "id": "x5b4hhwL4zcu"
      }
    },
    {
      "cell_type": "markdown",
      "metadata": {
        "id": "Xt9Yn0NPc3nS"
      },
      "source": [
        "### Problem 4.2: Evaluation\n",
        "Assess whether or not your change was an improvement or not. Provide empirical evidence by evaluating performance on a held out test set and include at least one plot supporting your assessment."
      ]
    },
    {
      "cell_type": "markdown",
      "metadata": {
        "id": "yQvtv-eHdBM5"
      },
      "source": [
        "**Answer 4.2**:\n",
        "\n",
        "The following code implementation fulfills the evaluation by evaluating the model performance on a held out test set."
      ]
    },
    {
      "cell_type": "code",
      "source": [
        "def accuracy_score(x, y, beta, alpha=0):\n",
        "    \"\"\"\n",
        "    Predict with logistic regression, compute classification accuracy.\n",
        "    \"\"\"\n",
        "    with torch.no_grad():\n",
        "        logits = x.mv(beta) + alpha\n",
        "        preds = (logits >= 0).float()  # threshold at 0 => p >= 0.5\n",
        "        acc = (preds == y).float().mean()\n",
        "    return acc.item()\n",
        "\n",
        "# accuracy score for the test (held-out)\n",
        "def accuracy_score(X, y, beta):\n",
        "    \"\"\"\n",
        "    Predict with logistic regression, compute classification accuracy.\n",
        "    \"\"\"\n",
        "    with torch.no_grad():\n",
        "        logits = X @ beta\n",
        "         # note that the threshold is set at 0 <=> (p >= 0.5)\n",
        "        preds = (logits >= 0).float()\n",
        "        accurary = (preds == y).float().mean()\n",
        "    return accurary.item()\n",
        "\n",
        "# Newton's Method Training - with improvement\n",
        "def train_newton_4(X, y, gamma, num_iters=100, stepsize=0.1):\n",
        "    # initializing the beta as zeros\n",
        "    beta = torch.zeros([X.shape[1],1], dtype=torch.float32)\n",
        "    list_of_loss = [compute_loss_4(beta, X, y, gamma)]\n",
        "    for iter in range(num_iters):\n",
        "      grad = compute_gradient_4(beta, X, y, gamma)\n",
        "      hess = compute_hessian_4(beta, X, y, gamma)\n",
        "      new_beta = beta - stepsize * torch.linalg.inv(hess) @ grad\n",
        "      list_of_loss.append(compute_loss_4(new_beta, X, y, gamma))\n",
        "      if torch.allclose(beta, new_beta, atol=1e-4):\n",
        "        break\n",
        "      else:\n",
        "        beta = new_beta\n",
        "    return beta, list_of_loss\n",
        "\n",
        "# Newton's Method Training - original\n",
        "def train_newton(X, y, gamma, num_iters=100, stepsize=0.1):\n",
        "    # initializing the beta as zeros\n",
        "    beta = torch.zeros([X.shape[1],1], dtype=torch.float32)\n",
        "    list_of_loss = [compute_loss(beta, X, y, gamma)]\n",
        "    for iter in range(num_iters):\n",
        "      grad = compute_gradient(beta, X, y, gamma)\n",
        "      hess = compute_hessian(beta, X, y, gamma)\n",
        "      new_beta = beta - stepsize * torch.linalg.inv(hess) @ grad\n",
        "      list_of_loss.append(compute_loss(new_beta, X, y, gamma))\n",
        "      if torch.allclose(beta, new_beta, atol=1e-4):\n",
        "        break\n",
        "      else:\n",
        "        beta = new_beta\n",
        "    return beta, list_of_loss\n",
        "\n",
        "# split into train/test to assess whether change was an improvement\n",
        "from sklearn.model_selection import train_test_split\n",
        "# getting the train test split for both X and X_4\n",
        "X_train, X_test, y_train, y_test= train_test_split(\n",
        "    X, y, test_size=0.3, random_state=0\n",
        ")\n",
        "X_4_train, X_4_test, y_train, y_test= train_test_split(\n",
        "    X_4, y, test_size=0.3, random_state=0\n",
        ")\n",
        "\n",
        "original_beta, original_losses = train_newton(X_train, y_train, 0.01, num_iters=100, stepsize=0.1)\n",
        "original_train_accuracy = accuracy_score(X_train, y_train, original_beta)\n",
        "original_test_accuracy = accuracy_score(X_test, y_test, original_beta)\n",
        "print(f\"Original Model: \\n Training Accuracy: {original_train_accuracy} \\n Test Accuracy: {original_test_accuracy}\")\n",
        "\n",
        "improved_beta, improved_losses = train_newton_4(X_4_train, y_train, 0.01, num_iters=100, stepsize=0.1)\n",
        "improved_train_accuracy = accuracy_score(X_4_train, y_train, improved_beta)\n",
        "improved_test_accuracy = accuracy_score(X_4_test, y_test, improved_beta)\n",
        "print(f\"Improved Model: \\n Training Accuracy: {improved_train_accuracy} \\n Test Accuracy: {improved_test_accuracy}\")"
      ],
      "metadata": {
        "colab": {
          "base_uri": "https://localhost:8080/"
        },
        "id": "Qm6bwgnMhJ7I",
        "outputId": "0bed9b7d-7ccc-4b6c-83f7-240acbb6dcd0"
      },
      "execution_count": 27,
      "outputs": [
        {
          "output_type": "stream",
          "name": "stdout",
          "text": [
            "Original Model: \n",
            " Training Accuracy: 0.8558484315872192 \n",
            " Test Accuracy: 0.7156580090522766\n",
            "Improved Model: \n",
            " Training Accuracy: 0.5733113884925842 \n",
            " Test Accuracy: 0.5850144028663635\n"
          ]
        }
      ]
    },
    {
      "cell_type": "code",
      "source": [
        "# plotting loss curve\n",
        "plt.plot(torch.as_tensor(original_losses), label=\"Newton's Method (original)\")\n",
        "plt.plot(torch.as_tensor(improved_losses), label=\"Newton's Method with 'improvement' (learning rate = 0.2)\")\n",
        "plt.xlabel(\"number of iterations\")\n",
        "plt.ylabel(\"loss\")\n",
        "plt.legend()"
      ],
      "metadata": {
        "colab": {
          "base_uri": "https://localhost:8080/",
          "height": 467
        },
        "id": "4s9tz4FDn7U6",
        "outputId": "56d647b8-e55f-4b49-8aca-57dec84d51e9"
      },
      "execution_count": 28,
      "outputs": [
        {
          "output_type": "execute_result",
          "data": {
            "text/plain": [
              "<matplotlib.legend.Legend at 0x7a47f3484050>"
            ]
          },
          "metadata": {},
          "execution_count": 28
        },
        {
          "output_type": "display_data",
          "data": {
            "text/plain": [
              "<Figure size 640x480 with 1 Axes>"
            ],
            "image/png": "[encoded data removed]"
          },
          "metadata": {}
        }
      ]
    },
    {
      "cell_type": "markdown",
      "source": [
        "**Interpretation and Discussion of the Experiment**\n",
        "\n",
        "Good things:\n",
        "- We are seeing a smaller loss with our experiment - adding the intercept (home team effect) does help with the loss. This can be seen from the plot above.\n",
        "\n",
        "Bad things:\n",
        "- The training accuracy decreased a lot, as well as the the test accuracy. (Note that it is kind of strange that the test accuracy is slightly better than the training accuracy in the experiment.)"
      ],
      "metadata": {
        "id": "R8nEqOWksuOz"
      }
    },
    {
      "cell_type": "markdown",
      "metadata": {
        "id": "87F609vpdEq0"
      },
      "source": [
        "### Problem 4.3: Reflection\n",
        "Reflecting on the analysis we've conducted in this assignemnt, which conference is best? Is there a significant difference? Please justify your answer."
      ]
    },
    {
      "cell_type": "markdown",
      "metadata": {
        "id": "-4YnbZWVdmWv"
      },
      "source": [
        "**Answer 4.3:** I will do this in four steps with justifications provided at the end."
      ]
    },
    {
      "cell_type": "code",
      "source": [
        "# Step 1: mapping teams to their respective conferences\n",
        "home_maps = df[['Home Team', 'Home Conference']].rename(columns={'Home Team': 'team', 'Home Conference': 'conference'})\n",
        "away_maps = df[['Away Team', 'Away Conference']].rename(columns={'Away Team': 'team', 'Away Conference': 'conference'})\n",
        "team_to_conference = pd.concat([home_maps, away_maps], ignore_index=True).drop_duplicates().set_index('team')['conference'].to_dict()\n",
        "len(team_to_conference)"
      ],
      "metadata": {
        "colab": {
          "base_uri": "https://localhost:8080/"
        },
        "id": "2X1_2IqWw16F",
        "outputId": "96e1d0b5-23fb-45eb-b392-c900ae0ca41c"
      },
      "execution_count": 29,
      "outputs": [
        {
          "output_type": "execute_result",
          "data": {
            "text/plain": [
              "691"
            ]
          },
          "metadata": {},
          "execution_count": 29
        }
      ]
    },
    {
      "cell_type": "code",
      "source": [
        "print(beta_df.shape)\n",
        "beta_df.head()"
      ],
      "metadata": {
        "colab": {
          "base_uri": "https://localhost:8080/",
          "height": 224
        },
        "id": "TS5TcrZYxmt4",
        "outputId": "03d7a7ec-1340-4720-c727-9b741a71511b"
      },
      "execution_count": 30,
      "outputs": [
        {
          "output_type": "stream",
          "name": "stdout",
          "text": [
            "(691, 2)\n"
          ]
        },
        {
          "output_type": "execute_result",
          "data": {
            "text/plain": [
              "                Team    Effect\n",
              "0  Abilene Christian -0.014186\n",
              "1        Adams State -0.066825\n",
              "2             Adrian -0.106076\n",
              "3          Air Force  0.053673\n",
              "4              Akron -0.106707"
            ],
            "text/html": [
              "\n",
              "  <div id=\"df-f87e63dd-1eab-4f7b-a3ce-b5e1563cb94f\" class=\"colab-df-container\">\n",
              "    <div>\n",
              "<style scoped>\n",
              "    .dataframe tbody tr th:only-of-type {\n",
              "        vertical-align: middle;\n",
              "    }\n",
              "\n",
              "    .dataframe tbody tr th {\n",
              "        vertical-align: top;\n",
              "    }\n",
              "\n",
              "    .dataframe thead th {\n",
              "        text-align: right;\n",
              "    }\n",
              "</style>\n",
              "<table border=\"1\" class=\"dataframe\">\n",
              "  <thead>\n",
              "    <tr style=\"text-align: right;\">\n",
              "      <th></th>\n",
              "      <th>Team</th>\n",
              "      <th>Effect</th>\n",
              "    </tr>\n",
              "  </thead>\n",
              "  <tbody>\n",
              "    <tr>\n",
              "      <th>0</th>\n",
              "      <td>Abilene Christian</td>\n",
              "      <td>-0.014186</td>\n",
              "    </tr>\n",
              "    <tr>\n",
              "      <th>1</th>\n",
              "      <td>Adams State</td>\n",
              "      <td>-0.066825</td>\n",
              "    </tr>\n",
              "    <tr>\n",
              "      <th>2</th>\n",
              "      <td>Adrian</td>\n",
              "      <td>-0.106076</td>\n",
              "    </tr>\n",
              "    <tr>\n",
              "      <th>3</th>\n",
              "      <td>Air Force</td>\n",
              "      <td>0.053673</td>\n",
              "    </tr>\n",
              "    <tr>\n",
              "      <th>4</th>\n",
              "      <td>Akron</td>\n",
              "      <td>-0.106707</td>\n",
              "    </tr>\n",
              "  </tbody>\n",
              "</table>\n",
              "</div>\n",
              "    <div class=\"colab-df-buttons\">\n",
              "\n",
              "  <div class=\"colab-df-container\">\n",
              "    <button class=\"colab-df-convert\" onclick=\"convertToInteractive('df-f87e63dd-1eab-4f7b-a3ce-b5e1563cb94f')\"\n",
              "            title=\"Convert this dataframe to an interactive table.\"\n",
              "            style=\"display:none;\">\n",
              "\n",
              "  <svg xmlns=\"http://www.w3.org/2000/svg\" height=\"24px\" viewBox=\"0 -960 960 960\">\n",
              "    <path d=\"M120-120v-720h720v720H120Zm60-500h600v-160H180v160Zm220 220h160v-160H400v160Zm0 220h160v-160H400v160ZM180-400h160v-160H180v160Zm440 0h160v-160H620v160ZM180-180h160v-160H180v160Zm440 0h160v-160H620v160Z\"/>\n",
              "  </svg>\n",
              "    </button>\n",
              "\n",
              "  <style>\n",
              "    .colab-df-container {\n",
              "      display:flex;\n",
              "      gap: 12px;\n",
              "    }\n",
              "\n",
              "    .colab-df-convert {\n",
              "      background-color: #E8F0FE;\n",
              "      border: none;\n",
              "      border-radius: 50%;\n",
              "      cursor: pointer;\n",
              "      display: none;\n",
              "      fill: #1967D2;\n",
              "      height: 32px;\n",
              "      padding: 0 0 0 0;\n",
              "      width: 32px;\n",
              "    }\n",
              "\n",
              "    .colab-df-convert:hover {\n",
              "      background-color: #E2EBFA;\n",
              "      box-shadow: 0px 1px 2px rgba(60, 64, 67, 0.3), 0px 1px 3px 1px rgba(60, 64, 67, 0.15);\n",
              "      fill: #174EA6;\n",
              "    }\n",
              "\n",
              "    .colab-df-buttons div {\n",
              "      margin-bottom: 4px;\n",
              "    }\n",
              "\n",
              "    [theme=dark] .colab-df-convert {\n",
              "      background-color: #3B4455;\n",
              "      fill: #D2E3FC;\n",
              "    }\n",
              "\n",
              "    [theme=dark] .colab-df-convert:hover {\n",
              "      background-color: #434B5C;\n",
              "      box-shadow: 0px 1px 3px 1px rgba(0, 0, 0, 0.15);\n",
              "      filter: drop-shadow(0px 1px 2px rgba(0, 0, 0, 0.3));\n",
              "      fill: #FFFFFF;\n",
              "    }\n",
              "  </style>\n",
              "\n",
              "    <script>\n",
              "      const buttonEl =\n",
              "        document.querySelector('#df-f87e63dd-1eab-4f7b-a3ce-b5e1563cb94f button.colab-df-convert');\n",
              "      buttonEl.style.display =\n",
              "        google.colab.kernel.accessAllowed ? 'block' : 'none';\n",
              "\n",
              "      async function convertToInteractive(key) {\n",
              "        const element = document.querySelector('#df-f87e63dd-1eab-4f7b-a3ce-b5e1563cb94f');\n",
              "        const dataTable =\n",
              "          await google.colab.kernel.invokeFunction('convertToInteractive',\n",
              "                                                    [key], {});\n",
              "        if (!dataTable) return;\n",
              "\n",
              "        const docLinkHtml = 'Like what you see? Visit the ' +\n",
              "          '<a target=\"_blank\" href=https://colab.research.google.com/notebooks/data_table.ipynb>data table notebook</a>'\n",
              "          + ' to learn more about interactive tables.';\n",
              "        element.innerHTML = '';\n",
              "        dataTable['output_type'] = 'display_data';\n",
              "        await google.colab.output.renderOutput(dataTable, element);\n",
              "        const docLink = document.createElement('div');\n",
              "        docLink.innerHTML = docLinkHtml;\n",
              "        element.appendChild(docLink);\n",
              "      }\n",
              "    </script>\n",
              "  </div>\n",
              "\n",
              "\n",
              "<div id=\"df-91f0baf0-4bd6-45d2-ade7-31c6a5075aa4\">\n",
              "  <button class=\"colab-df-quickchart\" onclick=\"quickchart('df-91f0baf0-4bd6-45d2-ade7-31c6a5075aa4')\"\n",
              "            title=\"Suggest charts\"\n",
              "            style=\"display:none;\">\n",
              "\n",
              "<svg xmlns=\"http://www.w3.org/2000/svg\" height=\"24px\"viewBox=\"0 0 24 24\"\n",
              "     width=\"24px\">\n",
              "    <g>\n",
              "        <path d=\"M19 3H5c-1.1 0-2 .9-2 2v14c0 1.1.9 2 2 2h14c1.1 0 2-.9 2-2V5c0-1.1-.9-2-2-2zM9 17H7v-7h2v7zm4 0h-2V7h2v10zm4 0h-2v-4h2v4z\"/>\n",
              "    </g>\n",
              "</svg>\n",
              "  </button>\n",
              "\n",
              "<style>\n",
              "  .colab-df-quickchart {\n",
              "      --bg-color: #E8F0FE;\n",
              "      --fill-color: #1967D2;\n",
              "      --hover-bg-color: #E2EBFA;\n",
              "      --hover-fill-color: #174EA6;\n",
              "      --disabled-fill-color: #AAA;\n",
              "      --disabled-bg-color: #DDD;\n",
              "  }\n",
              "\n",
              "  [theme=dark] .colab-df-quickchart {\n",
              "      --bg-color: #3B4455;\n",
              "      --fill-color: #D2E3FC;\n",
              "      --hover-bg-color: #434B5C;\n",
              "      --hover-fill-color: #FFFFFF;\n",
              "      --disabled-bg-color: #3B4455;\n",
              "      --disabled-fill-color: #666;\n",
              "  }\n",
              "\n",
              "  .colab-df-quickchart {\n",
              "    background-color: var(--bg-color);\n",
              "    border: none;\n",
              "    border-radius: 50%;\n",
              "    cursor: pointer;\n",
              "    display: none;\n",
              "    fill: var(--fill-color);\n",
              "    height: 32px;\n",
              "    padding: 0;\n",
              "    width: 32px;\n",
              "  }\n",
              "\n",
              "  .colab-df-quickchart:hover {\n",
              "    background-color: var(--hover-bg-color);\n",
              "    box-shadow: 0 1px 2px rgba(60, 64, 67, 0.3), 0 1px 3px 1px rgba(60, 64, 67, 0.15);\n",
              "    fill: var(--button-hover-fill-color);\n",
              "  }\n",
              "\n",
              "  .colab-df-quickchart-complete:disabled,\n",
              "  .colab-df-quickchart-complete:disabled:hover {\n",
              "    background-color: var(--disabled-bg-color);\n",
              "    fill: var(--disabled-fill-color);\n",
              "    box-shadow: none;\n",
              "  }\n",
              "\n",
              "  .colab-df-spinner {\n",
              "    border: 2px solid var(--fill-color);\n",
              "    border-color: transparent;\n",
              "    border-bottom-color: var(--fill-color);\n",
              "    animation:\n",
              "      spin 1s steps(1) infinite;\n",
              "  }\n",
              "\n",
              "  @keyframes spin {\n",
              "    0% {\n",
              "      border-color: transparent;\n",
              "      border-bottom-color: var(--fill-color);\n",
              "      border-left-color: var(--fill-color);\n",
              "    }\n",
              "    20% {\n",
              "      border-color: transparent;\n",
              "      border-left-color: var(--fill-color);\n",
              "      border-top-color: var(--fill-color);\n",
              "    }\n",
              "    30% {\n",
              "      border-color: transparent;\n",
              "      border-left-color: var(--fill-color);\n",
              "      border-top-color: var(--fill-color);\n",
              "      border-right-color: var(--fill-color);\n",
              "    }\n",
              "    40% {\n",
              "      border-color: transparent;\n",
              "      border-right-color: var(--fill-color);\n",
              "      border-top-color: var(--fill-color);\n",
              "    }\n",
              "    60% {\n",
              "      border-color: transparent;\n",
              "      border-right-color: var(--fill-color);\n",
              "    }\n",
              "    80% {\n",
              "      border-color: transparent;\n",
              "      border-right-color: var(--fill-color);\n",
              "      border-bottom-color: var(--fill-color);\n",
              "    }\n",
              "    90% {\n",
              "      border-color: transparent;\n",
              "      border-bottom-color: var(--fill-color);\n",
              "    }\n",
              "  }\n",
              "</style>\n",
              "\n",
              "  <script>\n",
              "    async function quickchart(key) {\n",
              "      const quickchartButtonEl =\n",
              "        document.querySelector('#' + key + ' button');\n",
              "      quickchartButtonEl.disabled = true;  // To prevent multiple clicks.\n",
              "      quickchartButtonEl.classList.add('colab-df-spinner');\n",
              "      try {\n",
              "        const charts = await google.colab.kernel.invokeFunction(\n",
              "            'suggestCharts', [key], {});\n",
              "      } catch (error) {\n",
              "        console.error('Error during call to suggestCharts:', error);\n",
              "      }\n",
              "      quickchartButtonEl.classList.remove('colab-df-spinner');\n",
              "      quickchartButtonEl.classList.add('colab-df-quickchart-complete');\n",
              "    }\n",
              "    (() => {\n",
              "      let quickchartButtonEl =\n",
              "        document.querySelector('#df-91f0baf0-4bd6-45d2-ade7-31c6a5075aa4 button');\n",
              "      quickchartButtonEl.style.display =\n",
              "        google.colab.kernel.accessAllowed ? 'block' : 'none';\n",
              "    })();\n",
              "  </script>\n",
              "</div>\n",
              "\n",
              "    </div>\n",
              "  </div>\n"
            ],
            "application/vnd.google.colaboratory.intrinsic+json": {
              "type": "dataframe",
              "variable_name": "beta_df",
              "summary": "{\n  \"name\": \"beta_df\",\n  \"rows\": 691,\n  \"fields\": [\n    {\n      \"column\": \"Team\",\n      \"properties\": {\n        \"dtype\": \"string\",\n        \"num_unique_values\": 691,\n        \"samples\": [\n          \"Morehouse\",\n          \"Winona State\",\n          \"Illinois State\"\n        ],\n        \"semantic_type\": \"\",\n        \"description\": \"\"\n      }\n    },\n    {\n      \"column\": \"Effect\",\n      \"properties\": {\n        \"dtype\": \"float32\",\n        \"num_unique_values\": 683,\n        \"samples\": [\n          0.09147093445062637,\n          0.02658766321837902,\n          -0.026560243219137192\n        ],\n        \"semantic_type\": \"\",\n        \"description\": \"\"\n      }\n    }\n  ]\n}"
            }
          },
          "metadata": {},
          "execution_count": 30
        }
      ]
    },
    {
      "cell_type": "code",
      "source": [
        "# Step 2: Make a list of betas in each conference\n",
        "conference_betas = {}\n",
        "for i, beta_info in beta_df.iterrows():\n",
        "    team = beta_info['Team']\n",
        "    beta = beta_info['Effect']\n",
        "    conference = team_to_conference[team]\n",
        "    if conference in conference_betas:\n",
        "        conference_betas[conference].append(beta)\n",
        "    else:\n",
        "        conference_betas[conference] = [beta]"
      ],
      "metadata": {
        "id": "vNNjVh8guo-G"
      },
      "execution_count": 31,
      "outputs": []
    },
    {
      "cell_type": "code",
      "source": [
        "# Step 3: Which Conference is the Best? Looking at the mean\n",
        "conference_means = {conference: np.mean(betas) for conference, betas in conference_betas.items()}\n",
        "best_conference = max(conference_means, key=conference_means.get)\n",
        "best_conference_mean = conference_means[best_conference]\n",
        "print(f\"The best conference is {best_conference} with a mean beta of {best_conference_mean:.4f}\")"
      ],
      "metadata": {
        "colab": {
          "base_uri": "https://localhost:8080/"
        },
        "id": "fUlhH7Xr0Wq0",
        "outputId": "3f22030f-82fa-4d15-8ca5-76613118e70d"
      },
      "execution_count": 32,
      "outputs": [
        {
          "output_type": "stream",
          "name": "stdout",
          "text": [
            "The best conference is SEC with a mean beta of 0.0329\n"
          ]
        }
      ]
    },
    {
      "cell_type": "code",
      "source": [
        "# Step 4: Is the result significant? Run F-test\n",
        "from scipy.stats import f_oneway\n",
        "\n",
        "f_statistics, p_value = f_oneway(*list(conference_betas.values()))\n",
        "print(\"F-statistic:\", f_statistics)\n",
        "print(\"p-value:\", p_value)"
      ],
      "metadata": {
        "colab": {
          "base_uri": "https://localhost:8080/"
        },
        "id": "zUoqgiZUydme",
        "outputId": "7a49d9ce-472b-475f-b3ff-2ecb57ab8c8b"
      },
      "execution_count": 33,
      "outputs": [
        {
          "output_type": "stream",
          "name": "stdout",
          "text": [
            "F-statistic: 0.47459989629599325\n",
            "p-value: 0.9999166783055502\n"
          ]
        }
      ]
    },
    {
      "cell_type": "markdown",
      "source": [
        "As we can see from the test above, the differences are **not significant**.\n",
        "\n",
        "**Justification of the answer**\n",
        "\n",
        "F-test is used to determine whether there are significant differences between the means of two or more groups. The Null Hypothesis is that all group means are equal, and the Alternative Hypothesis is that at least one group's mean is different. In the analysis here, the p-value of the F-test is really really high - the F-test is not significant, so we fail to reject the Null Hypothesis, by concluding that there is no significant difference among group means. That is to say, the conclusion earlier that SEC is the best conference is not a statistically significant result."
      ],
      "metadata": {
        "id": "UQKNh2GU03_H"
      }
    },
    {
      "cell_type": "markdown",
      "metadata": {
        "id": "9TL_LAYoyI2T"
      },
      "source": [
        "## Submission Instructions\n",
        "\n",
        "**Formatting:** check that your code does not exceed 80 characters in line width. You can set _Tools &rarr; Settings &rarr; Editor &rarr; Vertical ruler column_ to 80 to see when you've exceeded the limit.\n",
        "\n",
        "**Converting to PDF** The simplest way to convert to PDF is to use the \"Print to PDF\" option in your browser. Just make sure that your code and plots aren't cut off, as it may not wrap lines.\n",
        "\n",
        "**Alternatively** You can download your notebook in .ipynb format and use the following commands to convert it to PDF.  Then run the following command to convert to a PDF:\n",
        "```\n",
        "jupyter nbconvert --to pdf <yourlastname>_hw<number>.ipynb\n",
        "```\n",
        "(Note that for the above code to work, you need to rename your file `<yourlastname>_hw<number>.ipynb`)\n",
        "\n",
        "**Installing nbconvert:**\n",
        "\n",
        "If you're using Anaconda for package management,\n",
        "```\n",
        "conda install -c anaconda nbconvert\n",
        "```\n",
        "\n",
        "**Upload** your .pdf file to Gradescope. Please tag your questions correctly! I.e., for each question, all of and only the relevant sections are tagged.\n",
        "\n",
        "Please post on Ed or come to OH if there are any other problems submitting the HW."
      ]
    }
  ],
  "metadata": {
    "colab": {
      "gpuType": "T4",
      "machine_shape": "hm",
      "provenance": []
    },
    "kernelspec": {
      "display_name": "base",
      "language": "python",
      "name": "python3"
    },
    "language_info": {
      "codemirror_mode": {
        "name": "ipython",
        "version": 3
      },
      "file_extension": ".py",
      "mimetype": "text/x-python",
      "name": "python",
      "nbconvert_exporter": "python",
      "pygments_lexer": "ipython3",
      "version": "3.10.9"
    }
  },
  "nbformat": 4,
  "nbformat_minor": 0
}