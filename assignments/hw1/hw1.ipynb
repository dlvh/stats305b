{
  "cells": [
    {
      "cell_type": "markdown",
      "metadata": {
        "id": "P_JIQE4w9xbB"
      },
      "source": [
        "# HW1: Logistic Regression\n",
        "\n",
        "This class is about models and algorithms for discrete data. This homework will have all 3 ingredients:\n",
        "* **Data**: the results from all college football games in the 2023 season\n",
        "* **Model**: The *Bradely-Terry* model for predicting the winners of football game. The Bradley-Terry model is just logistic regression.\n",
        "* **Algorithm**: We will implement two ways of fitting logistic regression: gradient descent and Newton's method"
      ]
    },
    {
      "cell_type": "markdown",
      "metadata": {
        "id": "oi2v2m5yCJE9"
      },
      "source": [
        "## The Bradley-Terry Model\n",
        "\n",
        "In the Bradley-Terry Model, we give team $k$ a team-effect $\\beta_k$. Basically, higher $\\beta_k$ (relatively speaking), means that team $k$ is a better team.\n",
        "The Bradley-Terry model formalizes this intution by modeling the log odds of team $k$ beating team $k'$ by the difference in their team effects, $\\beta_k - \\beta_{k'}$.\n",
        "\n",
        "Let $i = 1,\\ldots, n$ index games, and let $h(i) \\in \\{1,\\ldots,K\\}$ and $a(i) \\in \\{1,\\ldots,K\\}$ denote the indices of the home and away teams, respectively.\n",
        "Let $Y_i \\in \\{0,1\\}$ denote whether the home team won.\n",
        "Under the Bradley-Terry model,\n",
        "\\begin{equation*}\n",
        "  Y_i \\sim \\mathrm{Bern}\\big(\\sigma(\\beta_{h(i)} - \\beta_{a(i)}) \\big),\n",
        "\\end{equation*}\n",
        "where $\\sigma(\\cdot)$ is the sigmoid function. We can view this model as a logistic regression model with covariates $x_i \\in \\mathbb{R}^K$ where,\n",
        "\\begin{align*}\n",
        "x_{i,k} &=\n",
        "\\begin{cases}\n",
        "+1 &\\text{if } h(i) = k \\\\\n",
        "-1 &\\text{if } a(i) = k \\\\\n",
        "0 &\\text{o.w.},\n",
        "\\end{cases}\n",
        "\\end{align*}\n",
        "and parameters $\\beta \\in \\mathbb{R}^K$."
      ]
    },
    {
      "cell_type": "markdown",
      "metadata": {
        "id": "toIIF0ej-a7I"
      },
      "source": [
        "## Data\n",
        "\n",
        "We use the results of college football games in the fall 2023 season, which are available from the course github page and loaded for you below.\n",
        "\n",
        "The data comes as a list of the outcomes of individual games. You'll need to wrangle the data to get it into a format that you can feed into the Bradley-Terry model."
      ]
    },
    {
      "cell_type": "code",
      "execution_count": 1,
      "metadata": {
        "id": "qvTw_232nr-v"
      },
      "outputs": [],
      "source": [
        "import torch\n",
        "import pandas as pd\n",
        "import matplotlib.pyplot as plt\n",
        "from tqdm import tqdm\n",
        "import numpy as np"
      ]
    },
    {
      "cell_type": "code",
      "execution_count": 2,
      "metadata": {
        "id": "WIYCdEBqnvJG"
      },
      "outputs": [],
      "source": [
        "allgames = pd.read_csv(\"https://raw.githubusercontent.com/slinderman/stats305b/winter2025/data/01_allgames.csv\")"
      ]
    },
    {
      "cell_type": "markdown",
      "metadata": {
        "id": "O_00WB7kaeDi"
      },
      "source": [
        "## Problem 0: Preprocessing\n",
        "\n",
        "Preprocess the data to drop games with nan scores, construct the covariate matrix $X$, construct the response vector $y$, and do any other preprocessing you find useful."
      ]
    },
    {
      "cell_type": "markdown",
      "source": [
        "**Pre-processing Logic**\n",
        "\n",
        "I first drop all games with nan scores, and to avoid bias, further drop all the games where the points are tied.\n",
        "\n",
        "Now, I consider the home team won if the home team had higher points in the game, and construct the response vector $y$.\n",
        "\n",
        "To construct the covariate matrix $X$, notice that in the Bradley-Terry model, columns of $X$ represent the teams. In each row (which corresponds to a game), the value equals 1 if the team is the home team, equals -1 if the team is the away team, and equals 0 for all other teams.\n",
        "\n",
        "As the first step, no additional pre-processing is considered; they are left as improvement options later in this assignment."
      ],
      "metadata": {
        "id": "WWVa7MM0m3hU"
      }
    },
    {
      "cell_type": "code",
      "source": [
        "# drop games with nan scores\n",
        "# and store the results in a new dataframe called df\n",
        "df = allgames.dropna(subset=['Home Points', 'Away Points'])\n",
        "# to avoid bias, further drop all the games where the points are tied.\n",
        "df = df[df[\"Away Points\"] != df[\"Home Points\"]]\n",
        "\n",
        "# Bradley-Terry model\n",
        "\n",
        "# constructing the response vector y\n",
        "points_difference = df[\"Home Points\"] - df[\"Away Points\"]\n",
        "# consider the home team won if the home team had higher points in the game\n",
        "y = (points_difference > 0)*1\n",
        "# sort the teams (columns) alphabetically\n",
        "teams = sorted(set(df[\"Away Team\"]).union(set(df[\"Home Team\"])))\n",
        "\n",
        "# constructing the covariate matrix X\n",
        "X_df = pd.DataFrame(0, index=df.index, columns=teams)\n",
        "for i, game in df.iterrows():\n",
        "  home_team = game[\"Home Team\"]\n",
        "  away_team = game[\"Away Team\"]\n",
        "  X_df.loc[i, home_team] = 1\n",
        "  X_df.loc[i, away_team] = -1\n",
        "\n",
        "# convert into tensors\n",
        "y = torch.tensor(y.values, dtype=torch.float32).unsqueeze(1)\n",
        "X = torch.tensor(X_df.values, dtype=torch.float32)\n",
        "# checking shape\n",
        "y.shape, X.shape"
      ],
      "metadata": {
        "colab": {
          "base_uri": "https://localhost:8080/"
        },
        "id": "CwtDjkd4a_cx",
        "outputId": "d714ef86-67fb-40ad-db86-1023d90f8380"
      },
      "execution_count": 16,
      "outputs": [
        {
          "output_type": "execute_result",
          "data": {
            "text/plain": [
              "(torch.Size([3574, 1]), torch.Size([3574, 703]))"
            ]
          },
          "metadata": {},
          "execution_count": 16
        }
      ]
    },
    {
      "cell_type": "markdown",
      "metadata": {
        "id": "ZjUJOkAWHWD0"
      },
      "source": [
        "## Problem 1: Loss function\n",
        "\n",
        "Write a function to compute the loss, $L(\\beta)$ defined be\n",
        "\n",
        "\\begin{equation*}\n",
        "  L(\\beta) = -\\frac{1}{n} \\sum_{i=1}^n \\log p(y_i \\mid x_i; \\beta) + \\frac{\\gamma}{2} \\| \\beta \\|_2^2\n",
        "\\end{equation*}\n",
        "where $\\gamma$ is a hyperparameter that controls the strength of your $\\ell_2$ regularization.\n",
        "\n",
        "You may want to use the `torch.distributions.Bernoulli` class."
      ]
    },
    {
      "cell_type": "code",
      "execution_count": 17,
      "metadata": {
        "id": "WTaCXlvSHuxh"
      },
      "outputs": [],
      "source": [
        "# loss function\n",
        "def compute_loss(beta, X, y, gamma):\n",
        "  average_log_likelihood = torch.distributions.Bernoulli(probs = torch.sigmoid(X @ beta)).log_prob(y).mean()\n",
        "  loss = -1 * average_log_likelihood + gamma / 2 * (torch.norm(beta, 2) ** 2) # add l2 regularization\n",
        "  return loss"
      ]
    },
    {
      "cell_type": "markdown",
      "metadata": {
        "id": "8Cx0wyYytSb7"
      },
      "source": [
        "## Problem 2: Gradient Descent"
      ]
    },
    {
      "cell_type": "markdown",
      "metadata": {
        "id": "xuNBMXGsO-7q"
      },
      "source": [
        "### Problem 2.1 Implementing and checking your gradients\n",
        "\n",
        "\n",
        "Write a function to compute the gradient of the average negative log likelihood and check your output against the results obtained by PyTorch's automatic differentiation functionality."
      ]
    },
    {
      "cell_type": "markdown",
      "source": [
        "**Answer:**\n",
        "\n",
        "The gradient is computed as:\n",
        "$$\n",
        "\\nabla L(\\beta) = -\\frac{1}{n} \\sum_{i=1}^{n} \\left[(y_i - \\sigma(\\beta^\\intercal x_i)) x_i\\right] + \\gamma \\beta\n",
        "$$\n",
        "\n",
        "Note that this is a vector with the same shape as $\\beta$."
      ],
      "metadata": {
        "id": "3mx--D6Cc_4O"
      }
    },
    {
      "cell_type": "code",
      "execution_count": 20,
      "metadata": {
        "id": "ROj5lRuOsASh"
      },
      "outputs": [],
      "source": [
        "# gradient function\n",
        "def compute_gradient(beta, X, y, gamma):\n",
        "  grad_average_log_likelihood = -1/(y.shape[0]) * (X.T @ (y - torch.sigmoid(X @ beta)))\n",
        "  grad_regularization = (gamma * beta)\n",
        "  gradient = grad_average_log_likelihood + grad_regularization\n",
        "  return gradient"
      ]
    },
    {
      "cell_type": "code",
      "source": [
        "# unit-testing\n",
        "torch.manual_seed(0)\n",
        "beta = torch.rand([X.shape[1],1], dtype=torch.float32, requires_grad=True)\n",
        "gamma = 0.2\n",
        "\n",
        "# auto-gradient\n",
        "loss = compute_loss(beta, X, y, gamma)\n",
        "loss.backward()\n",
        "auto_gradient = beta.grad\n",
        "\n",
        "# my computation\n",
        "gradient = compute_gradient(beta, X, y, gamma)\n",
        "\n",
        "# comparison\n",
        "torch.allclose(gradient, auto_gradient)"
      ],
      "metadata": {
        "colab": {
          "base_uri": "https://localhost:8080/"
        },
        "id": "lJLdYDQ_ogSi",
        "outputId": "9693e3f1-9ac3-4af6-ba64-5b3c1237a567"
      },
      "execution_count": 21,
      "outputs": [
        {
          "output_type": "execute_result",
          "data": {
            "text/plain": [
              "True"
            ]
          },
          "metadata": {},
          "execution_count": 21
        }
      ]
    },
    {
      "cell_type": "markdown",
      "metadata": {
        "id": "Cl9CAUpTPtpw"
      },
      "source": [
        "### Problem 2.2: Implement Gradient Descent\n",
        "\n",
        "\n",
        "Now, use gradient descent to fit your Bradley-Terry model to the provided data.\n",
        "\n",
        "Deliverables for this question:\n",
        "1. Code the implements gradient descent to fit your Bradley-Terry model to the provided data.\n",
        "2. A plot of the loss curve of your algorithm and a brief discussion if it makes sense or not\n",
        "3. A plot of the histogram of the fitted values of $\\beta$\n",
        "4. The top 10 teams from your ranking, and a discussion of whether this ranking makes sense or not."
      ]
    },
    {
      "cell_type": "code",
      "source": [
        "# gradient descent implementation code\n",
        "\n",
        "# parameters - for now, they are set arbitrarily\n",
        "\n",
        "# learning rate\n",
        "learning_rate = 2\n",
        "# regularization parameter gamma\n",
        "gamma = 0.01\n",
        "# initial beta\n",
        "beta = torch.zeros([X.shape[1],1], dtype=torch.float32, requires_grad=True)\n",
        "\n",
        "# step update function in gradient descent\n",
        "def gradient_descent_step(beta, learning_rate):\n",
        "  #compute gradient\n",
        "  current_gradient = compute_gradient(beta, X, y, gamma)\n",
        "  next_beta = beta - learning_rate * current_gradient\n",
        "  return next_beta\n",
        "\n",
        "num_iterations = 1000\n",
        "list_of_loss_gradient_descent = [compute_loss(beta, X, y, gamma)]\n",
        "for _ in range(num_iterations):\n",
        "  new_beta = gradient_descent_step(beta, learning_rate)\n",
        "  list_of_loss_gradient_descent.append(compute_loss(new_beta, X, y, gamma))\n",
        "  if torch.allclose(beta, new_beta, atol=1e-4):\n",
        "    break\n",
        "  else:\n",
        "    beta = new_beta"
      ],
      "metadata": {
        "id": "OzpDAdCv0_MS"
      },
      "execution_count": 47,
      "outputs": []
    },
    {
      "cell_type": "code",
      "source": [
        "# plotting loss curve\n",
        "loss_tensor_gradient_descent = torch.as_tensor(list_of_loss_gradient_descent)\n",
        "plt.plot(loss_tensor_gradient_descent)\n",
        "plt.xlabel(\"gradient descent iterations\")\n",
        "plt.ylabel(\"loss\")"
      ],
      "metadata": {
        "colab": {
          "base_uri": "https://localhost:8080/",
          "height": 467
        },
        "id": "oOre-0RY4G-l",
        "outputId": "d0ea2eeb-58ef-4830-922c-6c8bc3eaa26c"
      },
      "execution_count": 48,
      "outputs": [
        {
          "output_type": "execute_result",
          "data": {
            "text/plain": [
              "Text(0, 0.5, 'loss')"
            ]
          },
          "metadata": {},
          "execution_count": 48
        },
        {
          "output_type": "display_data",
          "data": {
            "text/plain": [
              "<Figure size 640x480 with 1 Axes>"
            ],
            "image/png": "[encoded data removed]"
          },
          "metadata": {}
        }
      ]
    },
    {
      "cell_type": "markdown",
      "source": [
        "**Discussion:**\n",
        "\n",
        "The above loss curve make sense - it is nicely shaped and the loss is going down and stablizing with each iteration."
      ],
      "metadata": {
        "id": "nqWm3ZpVjdaN"
      }
    },
    {
      "cell_type": "code",
      "source": [
        "# plotting fitted values of beta\n",
        "beta_df = pd.DataFrame({\"Team\": teams, \"Effect\": beta.detach().numpy().flatten()})\n",
        "\n",
        "plt.hist(beta_df[\"Effect\"], bins=20)\n",
        "plt.title(\"Histogram of Team Effects (Bradley-Terry Model)\")\n",
        "plt.xlabel(\"Team Effect (Fitted Values of Beta)\")\n",
        "plt.ylabel(\"Frequency\")\n",
        "plt.show()"
      ],
      "metadata": {
        "colab": {
          "base_uri": "https://localhost:8080/",
          "height": 472
        },
        "id": "zB8ymfFV480B",
        "outputId": "c9496213-2aa7-49c2-b186-ab7956fc869c"
      },
      "execution_count": 34,
      "outputs": [
        {
          "output_type": "display_data",
          "data": {
            "text/plain": [
              "<Figure size 640x480 with 1 Axes>"
            ],
            "image/png": "[encoded data removed]"
          },
          "metadata": {}
        }
      ]
    },
    {
      "cell_type": "code",
      "source": [
        "# top 10 teams\n",
        "beta_df.sort_values(by=\"Effect\", ascending=False).head(10)"
      ],
      "metadata": {
        "colab": {
          "base_uri": "https://localhost:8080/",
          "height": 363
        },
        "id": "Xvrm4u7-oCVG",
        "outputId": "58e21ee4-bd82-4539-9271-de2fa5916786"
      },
      "execution_count": 35,
      "outputs": [
        {
          "output_type": "execute_result",
          "data": {
            "text/plain": [
              "                   Team    Effect\n",
              "643          Washington  0.158773\n",
              "353            Michigan  0.158316\n",
              "199       Florida State  0.157664\n",
              "307             Liberty  0.156578\n",
              "518  South Dakota State  0.136542\n",
              "5               Alabama  0.135912\n",
              "130      Colorado Mines  0.135110\n",
              "570               Texas  0.135077\n",
              "217             Georgia  0.134701\n",
              "237             Harding  0.134176"
            ],
            "text/html": [
              "\n",
              "  <div id=\"df-650978d9-bc04-409a-83c9-eb74bf5fc14b\" class=\"colab-df-container\">\n",
              "    <div>\n",
              "<style scoped>\n",
              "    .dataframe tbody tr th:only-of-type {\n",
              "        vertical-align: middle;\n",
              "    }\n",
              "\n",
              "    .dataframe tbody tr th {\n",
              "        vertical-align: top;\n",
              "    }\n",
              "\n",
              "    .dataframe thead th {\n",
              "        text-align: right;\n",
              "    }\n",
              "</style>\n",
              "<table border=\"1\" class=\"dataframe\">\n",
              "  <thead>\n",
              "    <tr style=\"text-align: right;\">\n",
              "      <th></th>\n",
              "      <th>Team</th>\n",
              "      <th>Effect</th>\n",
              "    </tr>\n",
              "  </thead>\n",
              "  <tbody>\n",
              "    <tr>\n",
              "      <th>643</th>\n",
              "      <td>Washington</td>\n",
              "      <td>0.158773</td>\n",
              "    </tr>\n",
              "    <tr>\n",
              "      <th>353</th>\n",
              "      <td>Michigan</td>\n",
              "      <td>0.158316</td>\n",
              "    </tr>\n",
              "    <tr>\n",
              "      <th>199</th>\n",
              "      <td>Florida State</td>\n",
              "      <td>0.157664</td>\n",
              "    </tr>\n",
              "    <tr>\n",
              "      <th>307</th>\n",
              "      <td>Liberty</td>\n",
              "      <td>0.156578</td>\n",
              "    </tr>\n",
              "    <tr>\n",
              "      <th>518</th>\n",
              "      <td>South Dakota State</td>\n",
              "      <td>0.136542</td>\n",
              "    </tr>\n",
              "    <tr>\n",
              "      <th>5</th>\n",
              "      <td>Alabama</td>\n",
              "      <td>0.135912</td>\n",
              "    </tr>\n",
              "    <tr>\n",
              "      <th>130</th>\n",
              "      <td>Colorado Mines</td>\n",
              "      <td>0.135110</td>\n",
              "    </tr>\n",
              "    <tr>\n",
              "      <th>570</th>\n",
              "      <td>Texas</td>\n",
              "      <td>0.135077</td>\n",
              "    </tr>\n",
              "    <tr>\n",
              "      <th>217</th>\n",
              "      <td>Georgia</td>\n",
              "      <td>0.134701</td>\n",
              "    </tr>\n",
              "    <tr>\n",
              "      <th>237</th>\n",
              "      <td>Harding</td>\n",
              "      <td>0.134176</td>\n",
              "    </tr>\n",
              "  </tbody>\n",
              "</table>\n",
              "</div>\n",
              "    <div class=\"colab-df-buttons\">\n",
              "\n",
              "  <div class=\"colab-df-container\">\n",
              "    <button class=\"colab-df-convert\" onclick=\"convertToInteractive('df-650978d9-bc04-409a-83c9-eb74bf5fc14b')\"\n",
              "            title=\"Convert this dataframe to an interactive table.\"\n",
              "            style=\"display:none;\">\n",
              "\n",
              "  <svg xmlns=\"http://www.w3.org/2000/svg\" height=\"24px\" viewBox=\"0 -960 960 960\">\n",
              "    <path d=\"M120-120v-720h720v720H120Zm60-500h600v-160H180v160Zm220 220h160v-160H400v160Zm0 220h160v-160H400v160ZM180-400h160v-160H180v160Zm440 0h160v-160H620v160ZM180-180h160v-160H180v160Zm440 0h160v-160H620v160Z\"/>\n",
              "  </svg>\n",
              "    </button>\n",
              "\n",
              "  <style>\n",
              "    .colab-df-container {\n",
              "      display:flex;\n",
              "      gap: 12px;\n",
              "    }\n",
              "\n",
              "    .colab-df-convert {\n",
              "      background-color: #E8F0FE;\n",
              "      border: none;\n",
              "      border-radius: 50%;\n",
              "      cursor: pointer;\n",
              "      display: none;\n",
              "      fill: #1967D2;\n",
              "      height: 32px;\n",
              "      padding: 0 0 0 0;\n",
              "      width: 32px;\n",
              "    }\n",
              "\n",
              "    .colab-df-convert:hover {\n",
              "      background-color: #E2EBFA;\n",
              "      box-shadow: 0px 1px 2px rgba(60, 64, 67, 0.3), 0px 1px 3px 1px rgba(60, 64, 67, 0.15);\n",
              "      fill: #174EA6;\n",
              "    }\n",
              "\n",
              "    .colab-df-buttons div {\n",
              "      margin-bottom: 4px;\n",
              "    }\n",
              "\n",
              "    [theme=dark] .colab-df-convert {\n",
              "      background-color: #3B4455;\n",
              "      fill: #D2E3FC;\n",
              "    }\n",
              "\n",
              "    [theme=dark] .colab-df-convert:hover {\n",
              "      background-color: #434B5C;\n",
              "      box-shadow: 0px 1px 3px 1px rgba(0, 0, 0, 0.15);\n",
              "      filter: drop-shadow(0px 1px 2px rgba(0, 0, 0, 0.3));\n",
              "      fill: #FFFFFF;\n",
              "    }\n",
              "  </style>\n",
              "\n",
              "    <script>\n",
              "      const buttonEl =\n",
              "        document.querySelector('#df-650978d9-bc04-409a-83c9-eb74bf5fc14b button.colab-df-convert');\n",
              "      buttonEl.style.display =\n",
              "        google.colab.kernel.accessAllowed ? 'block' : 'none';\n",
              "\n",
              "      async function convertToInteractive(key) {\n",
              "        const element = document.querySelector('#df-650978d9-bc04-409a-83c9-eb74bf5fc14b');\n",
              "        const dataTable =\n",
              "          await google.colab.kernel.invokeFunction('convertToInteractive',\n",
              "                                                    [key], {});\n",
              "        if (!dataTable) return;\n",
              "\n",
              "        const docLinkHtml = 'Like what you see? Visit the ' +\n",
              "          '<a target=\"_blank\" href=https://colab.research.google.com/notebooks/data_table.ipynb>data table notebook</a>'\n",
              "          + ' to learn more about interactive tables.';\n",
              "        element.innerHTML = '';\n",
              "        dataTable['output_type'] = 'display_data';\n",
              "        await google.colab.output.renderOutput(dataTable, element);\n",
              "        const docLink = document.createElement('div');\n",
              "        docLink.innerHTML = docLinkHtml;\n",
              "        element.appendChild(docLink);\n",
              "      }\n",
              "    </script>\n",
              "  </div>\n",
              "\n",
              "\n",
              "<div id=\"df-64c774e0-34a1-4c05-a5cf-b56d6683d172\">\n",
              "  <button class=\"colab-df-quickchart\" onclick=\"quickchart('df-64c774e0-34a1-4c05-a5cf-b56d6683d172')\"\n",
              "            title=\"Suggest charts\"\n",
              "            style=\"display:none;\">\n",
              "\n",
              "<svg xmlns=\"http://www.w3.org/2000/svg\" height=\"24px\"viewBox=\"0 0 24 24\"\n",
              "     width=\"24px\">\n",
              "    <g>\n",
              "        <path d=\"M19 3H5c-1.1 0-2 .9-2 2v14c0 1.1.9 2 2 2h14c1.1 0 2-.9 2-2V5c0-1.1-.9-2-2-2zM9 17H7v-7h2v7zm4 0h-2V7h2v10zm4 0h-2v-4h2v4z\"/>\n",
              "    </g>\n",
              "</svg>\n",
              "  </button>\n",
              "\n",
              "<style>\n",
              "  .colab-df-quickchart {\n",
              "      --bg-color: #E8F0FE;\n",
              "      --fill-color: #1967D2;\n",
              "      --hover-bg-color: #E2EBFA;\n",
              "      --hover-fill-color: #174EA6;\n",
              "      --disabled-fill-color: #AAA;\n",
              "      --disabled-bg-color: #DDD;\n",
              "  }\n",
              "\n",
              "  [theme=dark] .colab-df-quickchart {\n",
              "      --bg-color: #3B4455;\n",
              "      --fill-color: #D2E3FC;\n",
              "      --hover-bg-color: #434B5C;\n",
              "      --hover-fill-color: #FFFFFF;\n",
              "      --disabled-bg-color: #3B4455;\n",
              "      --disabled-fill-color: #666;\n",
              "  }\n",
              "\n",
              "  .colab-df-quickchart {\n",
              "    background-color: var(--bg-color);\n",
              "    border: none;\n",
              "    border-radius: 50%;\n",
              "    cursor: pointer;\n",
              "    display: none;\n",
              "    fill: var(--fill-color);\n",
              "    height: 32px;\n",
              "    padding: 0;\n",
              "    width: 32px;\n",
              "  }\n",
              "\n",
              "  .colab-df-quickchart:hover {\n",
              "    background-color: var(--hover-bg-color);\n",
              "    box-shadow: 0 1px 2px rgba(60, 64, 67, 0.3), 0 1px 3px 1px rgba(60, 64, 67, 0.15);\n",
              "    fill: var(--button-hover-fill-color);\n",
              "  }\n",
              "\n",
              "  .colab-df-quickchart-complete:disabled,\n",
              "  .colab-df-quickchart-complete:disabled:hover {\n",
              "    background-color: var(--disabled-bg-color);\n",
              "    fill: var(--disabled-fill-color);\n",
              "    box-shadow: none;\n",
              "  }\n",
              "\n",
              "  .colab-df-spinner {\n",
              "    border: 2px solid var(--fill-color);\n",
              "    border-color: transparent;\n",
              "    border-bottom-color: var(--fill-color);\n",
              "    animation:\n",
              "      spin 1s steps(1) infinite;\n",
              "  }\n",
              "\n",
              "  @keyframes spin {\n",
              "    0% {\n",
              "      border-color: transparent;\n",
              "      border-bottom-color: var(--fill-color);\n",
              "      border-left-color: var(--fill-color);\n",
              "    }\n",
              "    20% {\n",
              "      border-color: transparent;\n",
              "      border-left-color: var(--fill-color);\n",
              "      border-top-color: var(--fill-color);\n",
              "    }\n",
              "    30% {\n",
              "      border-color: transparent;\n",
              "      border-left-color: var(--fill-color);\n",
              "      border-top-color: var(--fill-color);\n",
              "      border-right-color: var(--fill-color);\n",
              "    }\n",
              "    40% {\n",
              "      border-color: transparent;\n",
              "      border-right-color: var(--fill-color);\n",
              "      border-top-color: var(--fill-color);\n",
              "    }\n",
              "    60% {\n",
              "      border-color: transparent;\n",
              "      border-right-color: var(--fill-color);\n",
              "    }\n",
              "    80% {\n",
              "      border-color: transparent;\n",
              "      border-right-color: var(--fill-color);\n",
              "      border-bottom-color: var(--fill-color);\n",
              "    }\n",
              "    90% {\n",
              "      border-color: transparent;\n",
              "      border-bottom-color: var(--fill-color);\n",
              "    }\n",
              "  }\n",
              "</style>\n",
              "\n",
              "  <script>\n",
              "    async function quickchart(key) {\n",
              "      const quickchartButtonEl =\n",
              "        document.querySelector('#' + key + ' button');\n",
              "      quickchartButtonEl.disabled = true;  // To prevent multiple clicks.\n",
              "      quickchartButtonEl.classList.add('colab-df-spinner');\n",
              "      try {\n",
              "        const charts = await google.colab.kernel.invokeFunction(\n",
              "            'suggestCharts', [key], {});\n",
              "      } catch (error) {\n",
              "        console.error('Error during call to suggestCharts:', error);\n",
              "      }\n",
              "      quickchartButtonEl.classList.remove('colab-df-spinner');\n",
              "      quickchartButtonEl.classList.add('colab-df-quickchart-complete');\n",
              "    }\n",
              "    (() => {\n",
              "      let quickchartButtonEl =\n",
              "        document.querySelector('#df-64c774e0-34a1-4c05-a5cf-b56d6683d172 button');\n",
              "      quickchartButtonEl.style.display =\n",
              "        google.colab.kernel.accessAllowed ? 'block' : 'none';\n",
              "    })();\n",
              "  </script>\n",
              "</div>\n",
              "\n",
              "    </div>\n",
              "  </div>\n"
            ],
            "application/vnd.google.colaboratory.intrinsic+json": {
              "type": "dataframe",
              "summary": "{\n  \"name\": \"beta_df\",\n  \"rows\": 10,\n  \"fields\": [\n    {\n      \"column\": \"Team\",\n      \"properties\": {\n        \"dtype\": \"string\",\n        \"num_unique_values\": 10,\n        \"samples\": [\n          \"Georgia\",\n          \"Michigan\",\n          \"Alabama\"\n        ],\n        \"semantic_type\": \"\",\n        \"description\": \"\"\n      }\n    },\n    {\n      \"column\": \"Effect\",\n      \"properties\": {\n        \"dtype\": \"float32\",\n        \"num_unique_values\": 10,\n        \"samples\": [\n          0.13470065593719482,\n          0.15831612050533295,\n          0.13591231405735016\n        ],\n        \"semantic_type\": \"\",\n        \"description\": \"\"\n      }\n    }\n  ]\n}"
            }
          },
          "metadata": {},
          "execution_count": 35
        }
      ]
    },
    {
      "cell_type": "markdown",
      "source": [
        "**Discussion of the Ranking:**\n",
        "\n",
        "The ranking kind of make sense as we can see tha the strongest teams (such as Washington and Michigan) ranked top. However, we also see a slight mixture of other teams - one wouldn't really expect teams such as Colorado Mines to have a stronger team effect that Texas.\n",
        "\n",
        "The reason why this happens is due to the limitations of the data. In Bradley-Terry model, the team effects are calculated based solely on game win/lose track record, however, some teams may never play each other (especially across divisions). One probably hypothesis is that Colorado Mines is unbeatable in their own division, but the division itself is somewhat weaker than the division of Texas, and the two teams never encountered each other in the historical games data. (Upon checking, Colorado Mines is a Division II team, while Texas is a Division I FBS team.)"
      ],
      "metadata": {
        "id": "oDsudYeUJyjq"
      }
    },
    {
      "cell_type": "markdown",
      "metadata": {
        "id": "lBPDg-5QtXQV"
      },
      "source": [
        "## Problem 3: Newton's Method\n",
        "\n",
        "Now, use Newton's method to fit your Bradley-Terry model to the provided data.\n"
      ]
    },
    {
      "cell_type": "markdown",
      "metadata": {
        "id": "Pi_R1fgkFbQ0"
      },
      "source": [
        "### Problem 3.1 The Hessian\n",
        "\n"
      ]
    },
    {
      "cell_type": "markdown",
      "metadata": {
        "id": "RS0kTKtVLDlQ"
      },
      "source": [
        "#### Problem 3.1.1. Implement and check the Hessian\n",
        "Write a function to compute the Hessian of the average negative log likelihood and check your answer against the output of `from torch.autograd.functional.hessian`."
      ]
    },
    {
      "cell_type": "markdown",
      "source": [
        "**Answer**\n",
        "\n",
        "Recall that the gradient is computed as:\n",
        "$$\n",
        "\\nabla L(\\beta) = -\\frac{1}{n} \\sum_{i=1}^{n} \\left[(y_i - \\sigma(\\beta^\\intercal x_i)) x_i\\right] + \\gamma \\beta\n",
        "$$\n",
        "\n",
        "Hence, the Hessian is computed as:\n",
        "$$\n",
        "\\nabla ^2 L(\\beta) = \\frac{1}{n} \\sum_{i=1}^{n} \\left[\\sigma'(\\beta^\\intercal x_i)x_i x_i^\\intercal \\right] + \\gamma \\mathbf{I}_{\\dim (\\beta)}\n",
        "$$\n",
        "\n",
        "Note that $\\sigma'(a) = \\sigma(a)(1-\\sigma(a))$. Thus, the Hessian can be further simplified into:\n",
        "$$\n",
        "\\nabla ^2 L(\\beta) = \\frac{1}{n} \\sum_{i=1}^{n} \\left[\\sigma(\\beta^\\intercal x_i)(1-\\sigma(\\beta^\\intercal x_i))x_i x_i^\\intercal \\right] + \\gamma \\mathbf{I}_{\\dim (\\beta)}\n",
        "$$\n",
        "\n",
        "Let $w_i:= \\sigma(\\beta^\\intercal x_i)(1-\\sigma(\\beta^\\intercal x_i))$. Observe that this is the variance in the GLM model. We can thus write:\n",
        "\n",
        "$$\n",
        "\\nabla ^2 L(\\beta) = \\frac{1}{n} \\sum_{i=1}^{n} \\left[w_i x_i x_i^\\intercal \\right] + \\gamma \\mathbf{I}_{\\dim (\\beta)} = \\frac{1}{n} X^\\intercal WX + \\gamma \\mathbf{I}_{\\dim (\\beta)}\n",
        "$$\n",
        "\n",
        "where $W_{ii} = w_i$, a diagonal matrix."
      ],
      "metadata": {
        "id": "0H5QAPyXbsrj"
      }
    },
    {
      "cell_type": "code",
      "source": [
        "# hessian function\n",
        "def compute_hessian(beta, X, y, gamma):\n",
        "    y_hat = torch.sigmoid(X @ beta)\n",
        "    W = torch.diag((y_hat * (1 - y_hat)).squeeze())\n",
        "    hessian = (1 / y.shape[0]) * (X.T @ W @ X) + gamma * torch.eye(beta.shape[0])\n",
        "    return hessian"
      ],
      "metadata": {
        "id": "B92rhcacdQ5Q"
      },
      "execution_count": 36,
      "outputs": []
    },
    {
      "cell_type": "code",
      "source": [
        "# unit testing\n",
        "torch.manual_seed(0)\n",
        "beta = torch.rand([X.shape[1],1], dtype=torch.float32, requires_grad=True)\n",
        "gamma = 0.2\n",
        "\n",
        "# my computation\n",
        "H = compute_hessian(beta, X, y, gamma)\n",
        "\n",
        "# auto hessian\n",
        "loss_helper = lambda beta: compute_loss(beta, X, y, gamma)\n",
        "auto_H = torch.autograd.functional.hessian(loss_helper, beta).squeeze()\n",
        "\n",
        "# comparison\n",
        "print(torch.allclose(H, auto_H))"
      ],
      "metadata": {
        "colab": {
          "base_uri": "https://localhost:8080/"
        },
        "id": "Am1ZbPYw1BGn",
        "outputId": "db59ad76-2bd9-4487-c3e1-3d58c97f9e1e"
      },
      "execution_count": 37,
      "outputs": [
        {
          "output_type": "stream",
          "name": "stdout",
          "text": [
            "True\n"
          ]
        }
      ]
    },
    {
      "cell_type": "markdown",
      "metadata": {
        "id": "TtSlxUAkLE-y"
      },
      "source": [
        "#### Problem 3.1.2: Positive definiteness\n",
        "\n",
        "Compute the Hessian at the point $\\beta = 0$ without regularization (set $\\gamma = 0$). Unless you've done sort of pre-processing, it's probably singular."
      ]
    },
    {
      "cell_type": "code",
      "execution_count": 52,
      "metadata": {
        "id": "6KQjQZtfsUZ6",
        "colab": {
          "base_uri": "https://localhost:8080/"
        },
        "outputId": "41e61fb3-3b23-4f33-b94c-7e435ef742da"
      },
      "outputs": [
        {
          "output_type": "stream",
          "name": "stdout",
          "text": [
            "rank:  tensor(699)\n",
            "determinant: tensor(-0., grad_fn=<LinalgDetBackward0>)\n"
          ]
        }
      ],
      "source": [
        "# Answer 3.1.2\n",
        "# Compute the Hessian at beta = 0 without regularization\n",
        "beta_z = torch.zeros([X.shape[1],1], dtype=torch.float32, requires_grad=True)\n",
        "gamma_z = 0\n",
        "H_z = compute_hessian(beta_z, X, y, gamma_z)\n",
        "#check if H_z is singular\n",
        "print(\"rank: \", torch.linalg.matrix_rank(H_z))\n",
        "print(\"determinant:\", torch.linalg.det(H_z))"
      ]
    },
    {
      "cell_type": "code",
      "source": [
        "H_z.shape"
      ],
      "metadata": {
        "colab": {
          "base_uri": "https://localhost:8080/"
        },
        "id": "Gvn2ftkNKIfW",
        "outputId": "7dc23fe3-4563-451e-94d1-f2a1f7afbd5b"
      },
      "execution_count": 53,
      "outputs": [
        {
          "output_type": "execute_result",
          "data": {
            "text/plain": [
              "torch.Size([703, 703])"
            ]
          },
          "metadata": {},
          "execution_count": 53
        }
      ]
    },
    {
      "cell_type": "markdown",
      "source": [
        "Note the two outputs above. As $699<703$, $H_z$ is not full rank, i.e., the Hessian computed at $\\beta = 0$ without regularization is singular. The check also also be seen from $\\det(H_z) = 0$."
      ],
      "metadata": {
        "id": "-FC6MsrWKK3P"
      }
    },
    {
      "cell_type": "markdown",
      "metadata": {
        "id": "GKVxT91XLbSL"
      },
      "source": [
        "#### Problem 3.1.3\n",
        "\n",
        "Describe intuitively and mathematically what it means for the Hessian of the negative log likelihood to be singular in the context of this data and model"
      ]
    },
    {
      "cell_type": "markdown",
      "metadata": {
        "id": "yAsLFSGXsWXO"
      },
      "source": [
        "**Answer 3.1.3**\n",
        "\n",
        "Mathematically, Hessian of the negative log likelihood is singular means it is not full-rank, or equivalently, its determinant is zero. This may also indicate that the parameters are not uniquely estimable (global minimum is not unique).\n",
        "\n",
        "Intuitively, in the context of our data and model, a singular Hessian indicates that some teams may not have sufficient track record, i.e. they do not play enough games with each other. More of this is explored in 3.1.4. Also, our Hessian is very sparse, which could also indicate singularity."
      ]
    },
    {
      "cell_type": "markdown",
      "metadata": {
        "id": "TvClzEjJLk52"
      },
      "source": [
        "#### Problem 3.1.4\n",
        "\n",
        "Give a hypothesis for why the Hessian in this dataset and model is singular, and provide empirical evidence to support your hypothesis."
      ]
    },
    {
      "cell_type": "markdown",
      "metadata": {
        "id": "dFphHjnxsjE2"
      },
      "source": [
        "**Answer 3.1.4**\n",
        "\n",
        "Hypothesis: the Hessian of the negative log likelihood is singular is because the covariate matrix $X$ have linearly dependent columns, i.e., $X$ is not full column rank. Intuitively this means that not every team plays against each other. Mathematically this is also very probably because $X$ is very sparse by design."
      ]
    },
    {
      "cell_type": "code",
      "execution_count": 54,
      "metadata": {
        "id": "-wxWOBOQslRc",
        "colab": {
          "base_uri": "https://localhost:8080/"
        },
        "outputId": "2b6d3d0e-29b6-4ee8-e419-ffa51973b8c8"
      },
      "outputs": [
        {
          "output_type": "stream",
          "name": "stdout",
          "text": [
            "rank of X:  tensor(699)\n"
          ]
        }
      ],
      "source": [
        "# your code here\n",
        "\n",
        "# checking the rank of X\n",
        "print(\"rank of X: \", torch.linalg.matrix_rank(X))"
      ]
    },
    {
      "cell_type": "markdown",
      "source": [
        "As seen above, $X$ is indeed not full column rank."
      ],
      "metadata": {
        "id": "G4-cD6FmPJWB"
      }
    },
    {
      "cell_type": "markdown",
      "metadata": {
        "id": "EtKlPKs9LyNw"
      },
      "source": [
        "#### Problem 3.1.5\n",
        "\n",
        "Explain why the Hessian is invertible when $\\gamma > 0$."
      ]
    },
    {
      "cell_type": "markdown",
      "metadata": {
        "id": "CgvigoXaspaw"
      },
      "source": [
        "**Answer 3.1.5**\n",
        "\n",
        "Intuitively, this is GLM's analogy to the Ridge Regression model. In Ridge regression, by adding the regularization term $\\gamma$, in the closed-form solution to the regression problem $(X^\\intercal X + \\gamma \\mathbf{I})^{-1} X^\\intercal y$, $X^\\intercal X + \\gamma \\mathbf{I}$ is guaranteed to be invertible as the regularization part $\\gamma \\mathbf{I}$ forces the matrix to be full rank.\n",
        "\n",
        "Mathematically, the analogy is also clear. Recall the definition of our computed Hessian:\n",
        "$$\n",
        "\\nabla ^2 L(\\beta) = \\frac{1}{n} X^\\intercal WX + \\gamma \\mathbf{I}_{\\dim (\\beta)}\n",
        "$$\n",
        "Whenever $\\gamma >0$, the $\\gamma \\mathbf{I}_{\\dim (\\beta)}$ effectively forces the Hessian to be invertible by introducing regularization, making the Hessian full rank."
      ]
    },
    {
      "cell_type": "markdown",
      "metadata": {
        "id": "szaThYwMMuf4"
      },
      "source": [
        "### Problem 3.2: Implement Newton's method\n",
        "\n",
        "Now, use Newton's method to fit your $\\ell_2$-regularized Bradley-Terry model to the provided data.\n",
        "\n",
        "Deliverables for this question:\n",
        "1. Code the implements Newton's method to fit your Bradley-Terry model to the provided data.\n",
        "2. A plot of the loss curves from Newton's method and from gradient descent, using the same regularization strength $\\gamma$ and initialization $\\beta_0$. Briefly discuss the results and compare their rates of convergence.\n",
        "3. A plot of the histogram of the fitted values of $\\beta$\n",
        "4. The top 10 teams from your ranking, and a discussion of whether this ranking makes sense or not."
      ]
    },
    {
      "cell_type": "code",
      "execution_count": 49,
      "metadata": {
        "id": "FPYUCllcsri7"
      },
      "outputs": [],
      "source": [
        "# newton's method implementation code\n",
        "\n",
        "# parameters\n",
        "\n",
        "# learning rate\n",
        "learning_rate = 0.2\n",
        "# regularization parameter gamma\n",
        "gamma = 0.01\n",
        "# initial beta\n",
        "beta = torch.zeros([X.shape[1],1], dtype=torch.float32, requires_grad=True)\n",
        "\n",
        "def newton_step(beta, learning_rate):\n",
        "  #compute gradient\n",
        "  current_gradient = compute_gradient(beta, X, y, gamma)\n",
        "  #compute hessian\n",
        "  current_hessian = compute_hessian(beta, X, y, gamma)\n",
        "  next_beta = beta - learning_rate * torch.linalg.inv(current_hessian) @ current_gradient\n",
        "  return next_beta\n",
        "\n",
        "num_iterations = 100\n",
        "list_of_loss_newton = [compute_loss(beta, X, y, gamma)]\n",
        "for _ in range(num_iterations):\n",
        "  new_beta = newton_step(beta, learning_rate)\n",
        "  list_of_loss_newton.append(compute_loss(new_beta, X, y, gamma))\n",
        "  if torch.allclose(beta, new_beta, atol=1e-4):\n",
        "    break\n",
        "  else:\n",
        "    beta = new_beta"
      ]
    },
    {
      "cell_type": "code",
      "source": [
        "# plotting loss curve\n",
        "list_of_loss_newton = torch.as_tensor(list_of_loss_newton)\n",
        "plt.plot(list_of_loss_newton, label=\"Newton's Method (learning rate = 0.2)\")\n",
        "plt.plot(loss_tensor_gradient_descent, label=\"Gradient Descent (learning rate = 2)\")\n",
        "plt.xlabel(\"number of iterations\")\n",
        "plt.ylabel(\"loss\")\n",
        "plt.legend()"
      ],
      "metadata": {
        "colab": {
          "base_uri": "https://localhost:8080/",
          "height": 467
        },
        "id": "p8DoQITMHPfr",
        "outputId": "e0ca37da-b0c8-487d-a00c-99282a1233db"
      },
      "execution_count": 53,
      "outputs": [
        {
          "output_type": "execute_result",
          "data": {
            "text/plain": [
              "<matplotlib.legend.Legend at 0x7ab99c35b7d0>"
            ]
          },
          "metadata": {},
          "execution_count": 53
        },
        {
          "output_type": "display_data",
          "data": {
            "text/plain": [
              "<Figure size 640x480 with 1 Axes>"
            ],
            "image/png": "[encoded data removed]"
          },
          "metadata": {}
        }
      ]
    },
    {
      "cell_type": "code",
      "source": [
        "# plotting fitted values of beta\n",
        "beta_df = pd.DataFrame({\"Team\": teams, \"Effect\": beta.detach().numpy().flatten()})\n",
        "\n",
        "plt.hist(beta_df[\"Effect\"], bins=30)\n",
        "plt.title(\"Histogram of Team Effects (Bradley-Terry Model)\")\n",
        "plt.xlabel(\"Team Effect (Fitted Values of Beta)\")\n",
        "plt.ylabel(\"Frequency\")\n",
        "plt.show()"
      ],
      "metadata": {
        "colab": {
          "base_uri": "https://localhost:8080/",
          "height": 472
        },
        "id": "A1xUOlPQHPzz",
        "outputId": "85dd937e-a9f8-4c28-e167-0db50f16f7a5"
      },
      "execution_count": 57,
      "outputs": [
        {
          "output_type": "display_data",
          "data": {
            "text/plain": [
              "<Figure size 640x480 with 1 Axes>"
            ],
            "image/png": "[encoded data removed]"
          },
          "metadata": {}
        }
      ]
    },
    {
      "cell_type": "code",
      "source": [
        "# top 10 teams\n",
        "beta_df.sort_values(by=\"Effect\", ascending=False).head(10)"
      ],
      "metadata": {
        "colab": {
          "base_uri": "https://localhost:8080/",
          "height": 363
        },
        "id": "GlZQ3HPkHneb",
        "outputId": "81676618-1f28-407a-9a4b-fc962a4b6a53"
      },
      "execution_count": 58,
      "outputs": [
        {
          "output_type": "execute_result",
          "data": {
            "text/plain": [
              "                   Team    Effect\n",
              "643          Washington  0.167722\n",
              "353            Michigan  0.167140\n",
              "199       Florida State  0.166311\n",
              "307             Liberty  0.164905\n",
              "518  South Dakota State  0.144687\n",
              "5               Alabama  0.143901\n",
              "130      Colorado Mines  0.142867\n",
              "570               Texas  0.142845\n",
              "217             Georgia  0.142375\n",
              "237             Harding  0.141668"
            ],
            "text/html": [
              "\n",
              "  <div id=\"df-19bf6f35-e93d-476f-906c-b6cbe4c36db1\" class=\"colab-df-container\">\n",
              "    <div>\n",
              "<style scoped>\n",
              "    .dataframe tbody tr th:only-of-type {\n",
              "        vertical-align: middle;\n",
              "    }\n",
              "\n",
              "    .dataframe tbody tr th {\n",
              "        vertical-align: top;\n",
              "    }\n",
              "\n",
              "    .dataframe thead th {\n",
              "        text-align: right;\n",
              "    }\n",
              "</style>\n",
              "<table border=\"1\" class=\"dataframe\">\n",
              "  <thead>\n",
              "    <tr style=\"text-align: right;\">\n",
              "      <th></th>\n",
              "      <th>Team</th>\n",
              "      <th>Effect</th>\n",
              "    </tr>\n",
              "  </thead>\n",
              "  <tbody>\n",
              "    <tr>\n",
              "      <th>643</th>\n",
              "      <td>Washington</td>\n",
              "      <td>0.167722</td>\n",
              "    </tr>\n",
              "    <tr>\n",
              "      <th>353</th>\n",
              "      <td>Michigan</td>\n",
              "      <td>0.167140</td>\n",
              "    </tr>\n",
              "    <tr>\n",
              "      <th>199</th>\n",
              "      <td>Florida State</td>\n",
              "      <td>0.166311</td>\n",
              "    </tr>\n",
              "    <tr>\n",
              "      <th>307</th>\n",
              "      <td>Liberty</td>\n",
              "      <td>0.164905</td>\n",
              "    </tr>\n",
              "    <tr>\n",
              "      <th>518</th>\n",
              "      <td>South Dakota State</td>\n",
              "      <td>0.144687</td>\n",
              "    </tr>\n",
              "    <tr>\n",
              "      <th>5</th>\n",
              "      <td>Alabama</td>\n",
              "      <td>0.143901</td>\n",
              "    </tr>\n",
              "    <tr>\n",
              "      <th>130</th>\n",
              "      <td>Colorado Mines</td>\n",
              "      <td>0.142867</td>\n",
              "    </tr>\n",
              "    <tr>\n",
              "      <th>570</th>\n",
              "      <td>Texas</td>\n",
              "      <td>0.142845</td>\n",
              "    </tr>\n",
              "    <tr>\n",
              "      <th>217</th>\n",
              "      <td>Georgia</td>\n",
              "      <td>0.142375</td>\n",
              "    </tr>\n",
              "    <tr>\n",
              "      <th>237</th>\n",
              "      <td>Harding</td>\n",
              "      <td>0.141668</td>\n",
              "    </tr>\n",
              "  </tbody>\n",
              "</table>\n",
              "</div>\n",
              "    <div class=\"colab-df-buttons\">\n",
              "\n",
              "  <div class=\"colab-df-container\">\n",
              "    <button class=\"colab-df-convert\" onclick=\"convertToInteractive('df-19bf6f35-e93d-476f-906c-b6cbe4c36db1')\"\n",
              "            title=\"Convert this dataframe to an interactive table.\"\n",
              "            style=\"display:none;\">\n",
              "\n",
              "  <svg xmlns=\"http://www.w3.org/2000/svg\" height=\"24px\" viewBox=\"0 -960 960 960\">\n",
              "    <path d=\"M120-120v-720h720v720H120Zm60-500h600v-160H180v160Zm220 220h160v-160H400v160Zm0 220h160v-160H400v160ZM180-400h160v-160H180v160Zm440 0h160v-160H620v160ZM180-180h160v-160H180v160Zm440 0h160v-160H620v160Z\"/>\n",
              "  </svg>\n",
              "    </button>\n",
              "\n",
              "  <style>\n",
              "    .colab-df-container {\n",
              "      display:flex;\n",
              "      gap: 12px;\n",
              "    }\n",
              "\n",
              "    .colab-df-convert {\n",
              "      background-color: #E8F0FE;\n",
              "      border: none;\n",
              "      border-radius: 50%;\n",
              "      cursor: pointer;\n",
              "      display: none;\n",
              "      fill: #1967D2;\n",
              "      height: 32px;\n",
              "      padding: 0 0 0 0;\n",
              "      width: 32px;\n",
              "    }\n",
              "\n",
              "    .colab-df-convert:hover {\n",
              "      background-color: #E2EBFA;\n",
              "      box-shadow: 0px 1px 2px rgba(60, 64, 67, 0.3), 0px 1px 3px 1px rgba(60, 64, 67, 0.15);\n",
              "      fill: #174EA6;\n",
              "    }\n",
              "\n",
              "    .colab-df-buttons div {\n",
              "      margin-bottom: 4px;\n",
              "    }\n",
              "\n",
              "    [theme=dark] .colab-df-convert {\n",
              "      background-color: #3B4455;\n",
              "      fill: #D2E3FC;\n",
              "    }\n",
              "\n",
              "    [theme=dark] .colab-df-convert:hover {\n",
              "      background-color: #434B5C;\n",
              "      box-shadow: 0px 1px 3px 1px rgba(0, 0, 0, 0.15);\n",
              "      filter: drop-shadow(0px 1px 2px rgba(0, 0, 0, 0.3));\n",
              "      fill: #FFFFFF;\n",
              "    }\n",
              "  </style>\n",
              "\n",
              "    <script>\n",
              "      const buttonEl =\n",
              "        document.querySelector('#df-19bf6f35-e93d-476f-906c-b6cbe4c36db1 button.colab-df-convert');\n",
              "      buttonEl.style.display =\n",
              "        google.colab.kernel.accessAllowed ? 'block' : 'none';\n",
              "\n",
              "      async function convertToInteractive(key) {\n",
              "        const element = document.querySelector('#df-19bf6f35-e93d-476f-906c-b6cbe4c36db1');\n",
              "        const dataTable =\n",
              "          await google.colab.kernel.invokeFunction('convertToInteractive',\n",
              "                                                    [key], {});\n",
              "        if (!dataTable) return;\n",
              "\n",
              "        const docLinkHtml = 'Like what you see? Visit the ' +\n",
              "          '<a target=\"_blank\" href=https://colab.research.google.com/notebooks/data_table.ipynb>data table notebook</a>'\n",
              "          + ' to learn more about interactive tables.';\n",
              "        element.innerHTML = '';\n",
              "        dataTable['output_type'] = 'display_data';\n",
              "        await google.colab.output.renderOutput(dataTable, element);\n",
              "        const docLink = document.createElement('div');\n",
              "        docLink.innerHTML = docLinkHtml;\n",
              "        element.appendChild(docLink);\n",
              "      }\n",
              "    </script>\n",
              "  </div>\n",
              "\n",
              "\n",
              "<div id=\"df-2bc34c58-b254-4b97-9a0d-9bc4f4769d10\">\n",
              "  <button class=\"colab-df-quickchart\" onclick=\"quickchart('df-2bc34c58-b254-4b97-9a0d-9bc4f4769d10')\"\n",
              "            title=\"Suggest charts\"\n",
              "            style=\"display:none;\">\n",
              "\n",
              "<svg xmlns=\"http://www.w3.org/2000/svg\" height=\"24px\"viewBox=\"0 0 24 24\"\n",
              "     width=\"24px\">\n",
              "    <g>\n",
              "        <path d=\"M19 3H5c-1.1 0-2 .9-2 2v14c0 1.1.9 2 2 2h14c1.1 0 2-.9 2-2V5c0-1.1-.9-2-2-2zM9 17H7v-7h2v7zm4 0h-2V7h2v10zm4 0h-2v-4h2v4z\"/>\n",
              "    </g>\n",
              "</svg>\n",
              "  </button>\n",
              "\n",
              "<style>\n",
              "  .colab-df-quickchart {\n",
              "      --bg-color: #E8F0FE;\n",
              "      --fill-color: #1967D2;\n",
              "      --hover-bg-color: #E2EBFA;\n",
              "      --hover-fill-color: #174EA6;\n",
              "      --disabled-fill-color: #AAA;\n",
              "      --disabled-bg-color: #DDD;\n",
              "  }\n",
              "\n",
              "  [theme=dark] .colab-df-quickchart {\n",
              "      --bg-color: #3B4455;\n",
              "      --fill-color: #D2E3FC;\n",
              "      --hover-bg-color: #434B5C;\n",
              "      --hover-fill-color: #FFFFFF;\n",
              "      --disabled-bg-color: #3B4455;\n",
              "      --disabled-fill-color: #666;\n",
              "  }\n",
              "\n",
              "  .colab-df-quickchart {\n",
              "    background-color: var(--bg-color);\n",
              "    border: none;\n",
              "    border-radius: 50%;\n",
              "    cursor: pointer;\n",
              "    display: none;\n",
              "    fill: var(--fill-color);\n",
              "    height: 32px;\n",
              "    padding: 0;\n",
              "    width: 32px;\n",
              "  }\n",
              "\n",
              "  .colab-df-quickchart:hover {\n",
              "    background-color: var(--hover-bg-color);\n",
              "    box-shadow: 0 1px 2px rgba(60, 64, 67, 0.3), 0 1px 3px 1px rgba(60, 64, 67, 0.15);\n",
              "    fill: var(--button-hover-fill-color);\n",
              "  }\n",
              "\n",
              "  .colab-df-quickchart-complete:disabled,\n",
              "  .colab-df-quickchart-complete:disabled:hover {\n",
              "    background-color: var(--disabled-bg-color);\n",
              "    fill: var(--disabled-fill-color);\n",
              "    box-shadow: none;\n",
              "  }\n",
              "\n",
              "  .colab-df-spinner {\n",
              "    border: 2px solid var(--fill-color);\n",
              "    border-color: transparent;\n",
              "    border-bottom-color: var(--fill-color);\n",
              "    animation:\n",
              "      spin 1s steps(1) infinite;\n",
              "  }\n",
              "\n",
              "  @keyframes spin {\n",
              "    0% {\n",
              "      border-color: transparent;\n",
              "      border-bottom-color: var(--fill-color);\n",
              "      border-left-color: var(--fill-color);\n",
              "    }\n",
              "    20% {\n",
              "      border-color: transparent;\n",
              "      border-left-color: var(--fill-color);\n",
              "      border-top-color: var(--fill-color);\n",
              "    }\n",
              "    30% {\n",
              "      border-color: transparent;\n",
              "      border-left-color: var(--fill-color);\n",
              "      border-top-color: var(--fill-color);\n",
              "      border-right-color: var(--fill-color);\n",
              "    }\n",
              "    40% {\n",
              "      border-color: transparent;\n",
              "      border-right-color: var(--fill-color);\n",
              "      border-top-color: var(--fill-color);\n",
              "    }\n",
              "    60% {\n",
              "      border-color: transparent;\n",
              "      border-right-color: var(--fill-color);\n",
              "    }\n",
              "    80% {\n",
              "      border-color: transparent;\n",
              "      border-right-color: var(--fill-color);\n",
              "      border-bottom-color: var(--fill-color);\n",
              "    }\n",
              "    90% {\n",
              "      border-color: transparent;\n",
              "      border-bottom-color: var(--fill-color);\n",
              "    }\n",
              "  }\n",
              "</style>\n",
              "\n",
              "  <script>\n",
              "    async function quickchart(key) {\n",
              "      const quickchartButtonEl =\n",
              "        document.querySelector('#' + key + ' button');\n",
              "      quickchartButtonEl.disabled = true;  // To prevent multiple clicks.\n",
              "      quickchartButtonEl.classList.add('colab-df-spinner');\n",
              "      try {\n",
              "        const charts = await google.colab.kernel.invokeFunction(\n",
              "            'suggestCharts', [key], {});\n",
              "      } catch (error) {\n",
              "        console.error('Error during call to suggestCharts:', error);\n",
              "      }\n",
              "      quickchartButtonEl.classList.remove('colab-df-spinner');\n",
              "      quickchartButtonEl.classList.add('colab-df-quickchart-complete');\n",
              "    }\n",
              "    (() => {\n",
              "      let quickchartButtonEl =\n",
              "        document.querySelector('#df-2bc34c58-b254-4b97-9a0d-9bc4f4769d10 button');\n",
              "      quickchartButtonEl.style.display =\n",
              "        google.colab.kernel.accessAllowed ? 'block' : 'none';\n",
              "    })();\n",
              "  </script>\n",
              "</div>\n",
              "\n",
              "    </div>\n",
              "  </div>\n"
            ],
            "application/vnd.google.colaboratory.intrinsic+json": {
              "type": "dataframe",
              "summary": "{\n  \"name\": \"beta_df\",\n  \"rows\": 10,\n  \"fields\": [\n    {\n      \"column\": \"Team\",\n      \"properties\": {\n        \"dtype\": \"string\",\n        \"num_unique_values\": 10,\n        \"samples\": [\n          \"Georgia\",\n          \"Michigan\",\n          \"Alabama\"\n        ],\n        \"semantic_type\": \"\",\n        \"description\": \"\"\n      }\n    },\n    {\n      \"column\": \"Effect\",\n      \"properties\": {\n        \"dtype\": \"float32\",\n        \"num_unique_values\": 10,\n        \"samples\": [\n          0.14237459003925323,\n          0.16714030504226685,\n          0.1439010202884674\n        ],\n        \"semantic_type\": \"\",\n        \"description\": \"\"\n      }\n    }\n  ]\n}"
            }
          },
          "metadata": {},
          "execution_count": 58
        }
      ]
    },
    {
      "cell_type": "markdown",
      "source": [
        "**Discussion of the plot and the ranking**\n",
        "\n",
        "From the results above, especially the plot, we can see that the Newton's method converges way faster than gradient descent (in number of iterations), even if the learning rate is smaller. However, this comes at the cost of more computation time required in each step, because the Hessian needs to be computed in the Newton's method in each step.\n",
        "\n",
        "In terms of the result, the rankings are similar for both methods (for top-ten, the rankings are the same), but for some reasons, the magnitude of team effects are somewhat different with the same regularization strength and initialization parameter."
      ],
      "metadata": {
        "id": "F5QOVhrqyAz2"
      }
    },
    {
      "cell_type": "markdown",
      "metadata": {
        "id": "J9R91iI5NCMs"
      },
      "source": [
        "## Problem 4: Model criticism and revision\n",
        "\n",
        "Let's take another look the Bradley-Terry model from earlier and think about improvements we can make.\n"
      ]
    },
    {
      "cell_type": "markdown",
      "metadata": {
        "id": "yPSnL3odcj12"
      },
      "source": [
        "### Problem 4.1: Improvements to Bradley-Terry Model\n",
        "Choose one way to improve the Bradley-Terry model. Discuss *a priori* why you think this change will improve the model and implement your change."
      ]
    },
    {
      "cell_type": "markdown",
      "metadata": {
        "id": "gngpLxYpczp0"
      },
      "source": [
        "**Answer 4.1**:\n",
        "\n",
        "To improve analysis, there are multiple ways, including (1) re-investigating/refining model assumptions, (2) improve data quality, and (3) improve model architecture. I think the the model architecture is fairly robust, so the focus here in Q4 is on better understanding the data.  \n",
        "\n",
        "One thing I noticed is that *the home team may have innate advantage as they are more familiar with the stadium.* They enjoy familiarity, more audience support (hence more morales), less travel time, etc. - all of these may factor into an innate home team advantage. However, note that some of the games are played at a neutral site, so there will be no home team advantage.\n",
        "\n",
        "**Proposed Improvement:**\n",
        "\n",
        "- run the Bradley-Terry model with one more covariate, `home_team_advantage`. The covariate `home_team_advantage` equals 1 for games played at the home stadium, and equals 0 for all other games (played at a neutral site).\n",
        "\n",
        "**A priori discussion:**\n",
        "- Through this improvement, we control for the home team advantage when estimating the team effects, allowing for a more robust interpretation.\n",
        "\n",
        "**Implementation:**\n",
        "The code below creates the new covariate and re-run the model using Newton's method."
      ]
    },
    {
      "cell_type": "code",
      "source": [
        "# Implementation 4.1\n"
      ],
      "metadata": {
        "id": "jaD-iOGIMhf0"
      },
      "execution_count": 60,
      "outputs": []
    },
    {
      "cell_type": "code",
      "source": [
        "sum(df[\"Neutral Site\"])"
      ],
      "metadata": {
        "colab": {
          "base_uri": "https://localhost:8080/"
        },
        "id": "WuZmUcTQu7qu",
        "outputId": "c3cf28bb-54ca-4b5e-822d-d363ee0a7749"
      },
      "execution_count": 59,
      "outputs": [
        {
          "output_type": "execute_result",
          "data": {
            "text/plain": [
              "105"
            ]
          },
          "metadata": {},
          "execution_count": 59
        }
      ]
    },
    {
      "cell_type": "code",
      "source": [],
      "metadata": {
        "id": "0f1i6BaflleK"
      },
      "execution_count": null,
      "outputs": []
    },
    {
      "cell_type": "markdown",
      "metadata": {
        "id": "Xt9Yn0NPc3nS"
      },
      "source": [
        "### Problem 4.2: Evaluation\n",
        "Assess whether or not your change was an improvement or not. Provide empirical evidence by evaluating performance on a held out test set and include at least one plot supporting your assessment."
      ]
    },
    {
      "cell_type": "markdown",
      "metadata": {
        "id": "yQvtv-eHdBM5"
      },
      "source": [
        "*your answer here*"
      ]
    },
    {
      "cell_type": "markdown",
      "metadata": {
        "id": "87F609vpdEq0"
      },
      "source": [
        "### Problem 4.3: Reflection\n",
        "Reflecting on the analysis we've conducted in this assignemnt, which conference is best? Is there a significant difference? Please justify your answer."
      ]
    },
    {
      "cell_type": "markdown",
      "metadata": {
        "id": "-4YnbZWVdmWv"
      },
      "source": [
        "*your answer here*"
      ]
    },
    {
      "cell_type": "markdown",
      "metadata": {
        "id": "9TL_LAYoyI2T"
      },
      "source": [
        "## Submission Instructions\n",
        "\n",
        "**Formatting:** check that your code does not exceed 80 characters in line width. You can set _Tools &rarr; Settings &rarr; Editor &rarr; Vertical ruler column_ to 80 to see when you've exceeded the limit.\n",
        "\n",
        "**Converting to PDF** The simplest way to convert to PDF is to use the \"Print to PDF\" option in your browser. Just make sure that your code and plots aren't cut off, as it may not wrap lines.\n",
        "\n",
        "**Alternatively** You can download your notebook in .ipynb format and use the following commands to convert it to PDF.  Then run the following command to convert to a PDF:\n",
        "```\n",
        "jupyter nbconvert --to pdf <yourlastname>_hw<number>.ipynb\n",
        "```\n",
        "(Note that for the above code to work, you need to rename your file `<yourlastname>_hw<number>.ipynb`)\n",
        "\n",
        "**Installing nbconvert:**\n",
        "\n",
        "If you're using Anaconda for package management,\n",
        "```\n",
        "conda install -c anaconda nbconvert\n",
        "```\n",
        "\n",
        "**Upload** your .pdf file to Gradescope. Please tag your questions correctly! I.e., for each question, all of and only the relevant sections are tagged.\n",
        "\n",
        "Please post on Ed or come to OH if there are any other problems submitting the HW."
      ]
    }
  ],
  "metadata": {
    "colab": {
      "gpuType": "T4",
      "machine_shape": "hm",
      "provenance": []
    },
    "kernelspec": {
      "display_name": "base",
      "language": "python",
      "name": "python3"
    },
    "language_info": {
      "codemirror_mode": {
        "name": "ipython",
        "version": 3
      },
      "file_extension": ".py",
      "mimetype": "text/x-python",
      "name": "python",
      "nbconvert_exporter": "python",
      "pygments_lexer": "ipython3",
      "version": "3.10.9"
    }
  },
  "nbformat": 4,
  "nbformat_minor": 0
}