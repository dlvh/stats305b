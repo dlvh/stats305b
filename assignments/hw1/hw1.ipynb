{
  "cells": [
    {
      "cell_type": "markdown",
      "metadata": {
        "id": "P_JIQE4w9xbB"
      },
      "source": [
        "# HW1: Logistic Regression\n",
        "\n",
        "This class is about models and algorithms for discrete data. This homework will have all 3 ingredients:\n",
        "* **Data**: the results from all college football games in the 2023 season\n",
        "* **Model**: The *Bradely-Terry* model for predicting the winners of football game. The Bradley-Terry model is just logistic regression.\n",
        "* **Algorithm**: We will implement two ways of fitting logistic regression: gradient descent and Newton's method"
      ]
    },
    {
      "cell_type": "markdown",
      "metadata": {
        "id": "oi2v2m5yCJE9"
      },
      "source": [
        "## The Bradley-Terry Model\n",
        "\n",
        "In the Bradley-Terry Model, we give team $k$ a team-effect $\\beta_k$. Basically, higher $\\beta_k$ (relatively speaking), means that team $k$ is a better team.\n",
        "The Bradley-Terry model formalizes this intution by modeling the log odds of team $k$ beating team $k'$ by the difference in their team effects, $\\beta_k - \\beta_{k'}$.\n",
        "\n",
        "Let $i = 1,\\ldots, n$ index games, and let $h(i) \\in \\{1,\\ldots,K\\}$ and $a(i) \\in \\{1,\\ldots,K\\}$ denote the indices of the home and away teams, respectively.\n",
        "Let $Y_i \\in \\{0,1\\}$ denote whether the home team won.\n",
        "Under the Bradley-Terry model,\n",
        "\\begin{equation*}\n",
        "  Y_i \\sim \\mathrm{Bern}\\big(\\sigma(\\beta_{h(i)} - \\beta_{a(i)}) \\big),\n",
        "\\end{equation*}\n",
        "where $\\sigma(\\cdot)$ is the sigmoid function. We can view this model as a logistic regression model with covariates $x_i \\in \\mathbb{R}^K$ where,\n",
        "\\begin{align*}\n",
        "x_{i,k} &=\n",
        "\\begin{cases}\n",
        "+1 &\\text{if } h(i) = k \\\\\n",
        "-1 &\\text{if } a(i) = k \\\\\n",
        "0 &\\text{o.w.},\n",
        "\\end{cases}\n",
        "\\end{align*}\n",
        "and parameters $\\beta \\in \\mathbb{R}^K$."
      ]
    },
    {
      "cell_type": "markdown",
      "metadata": {
        "id": "toIIF0ej-a7I"
      },
      "source": [
        "## Data\n",
        "\n",
        "We use the results of college football games in the fall 2023 season, which are available from the course github page and loaded for you below.\n",
        "\n",
        "The data comes as a list of the outcomes of individual games. You'll need to wrangle the data to get it into a format that you can feed into the Bradley-Terry model."
      ]
    },
    {
      "cell_type": "code",
      "execution_count": 38,
      "metadata": {
        "id": "qvTw_232nr-v"
      },
      "outputs": [],
      "source": [
        "import torch\n",
        "import pandas as pd\n",
        "import matplotlib.pyplot as plt\n",
        "from tqdm import tqdm\n",
        "import numpy as np"
      ]
    },
    {
      "cell_type": "code",
      "execution_count": 28,
      "metadata": {
        "id": "WIYCdEBqnvJG"
      },
      "outputs": [],
      "source": [
        "allgames = pd.read_csv(\"https://raw.githubusercontent.com/slinderman/stats305b/winter2025/data/01_allgames.csv\")"
      ]
    },
    {
      "cell_type": "markdown",
      "metadata": {
        "id": "O_00WB7kaeDi"
      },
      "source": [
        "## Problem 0: Preprocessing\n",
        "\n",
        "Preprocess the data to drop games with nan scores, construct the covariate matrix $X$, construct the response vector $y$, and do any other preprocessing you find useful."
      ]
    },
    {
      "cell_type": "code",
      "source": [
        "# drop games with nan scores\n",
        "# store the results in a new dataframe called df\n",
        "df = allgames.dropna(subset=['Home Points', 'Away Points'])\n",
        "# to avoid bias, drop all the games where the points are tied.\n",
        "df = df[df[\"Away Points\"] != df[\"Home Points\"]]\n",
        "\n",
        "# in Bradley-Terry model, constructing the response vector y\n",
        "# the covariate matrix X is very sparse. we can one column for each team,\n",
        "# and in each row, value equals 1 if the team is the home team, and equals -1 if the team is the away team,\n",
        "# and equals 0 for all other teams.\n",
        "# therefore, there is only one possible covariate matrix.\n",
        "points_difference = df[\"Home Points\"] - df[\"Away Points\"]\n",
        "y = (points_difference > 0)*1 # consider the home team won if the home team had higher points in the game\n",
        "teams = sorted(set(df[\"Away Team\"]).union(set(df[\"Home Team\"])))\n",
        "X_df = pd.DataFrame(0, index=df.index, columns=teams)\n",
        "for i, game in df.iterrows():\n",
        "  home_team = game[\"Home Team\"]\n",
        "  away_team = game[\"Away Team\"]\n",
        "  X_df.loc[i, home_team] = 1\n",
        "  X_df.loc[i, away_team] = -1\n",
        "# convert into tensors\n",
        "#type(y), type(X_df)\n",
        "y = torch.tensor(y.values, dtype=torch.float32).unsqueeze(1)\n",
        "X = torch.tensor(X_df.values, dtype=torch.float32)\n",
        "y.shape, X.shape"
      ],
      "metadata": {
        "colab": {
          "base_uri": "https://localhost:8080/"
        },
        "id": "CwtDjkd4a_cx",
        "outputId": "d08f6721-4c2c-4ac3-9df8-e22c88a28bc5"
      },
      "execution_count": 146,
      "outputs": [
        {
          "output_type": "execute_result",
          "data": {
            "text/plain": [
              "(torch.Size([3574, 1]), torch.Size([3574, 703]))"
            ]
          },
          "metadata": {},
          "execution_count": 146
        }
      ]
    },
    {
      "cell_type": "code",
      "execution_count": 147,
      "metadata": {
        "id": "Jk2AnZxfaeDi",
        "colab": {
          "base_uri": "https://localhost:8080/"
        },
        "outputId": "0dbc61b6-f6c8-46b7-8e07-0234e85dafe3"
      },
      "outputs": [
        {
          "output_type": "execute_result",
          "data": {
            "text/plain": [
              "tensor([[1.],\n",
              "        [1.],\n",
              "        [1.],\n",
              "        ...,\n",
              "        [1.],\n",
              "        [0.],\n",
              "        [1.]])"
            ]
          },
          "metadata": {},
          "execution_count": 147
        }
      ],
      "source": [
        "y"
      ]
    },
    {
      "cell_type": "markdown",
      "metadata": {
        "id": "ZjUJOkAWHWD0"
      },
      "source": [
        "## Problem 1: Loss function\n",
        "\n",
        "Write a function to compute the loss, $L(\\beta)$ defined be\n",
        "\n",
        "\\begin{equation*}\n",
        "  L(\\beta) = -\\frac{1}{n} \\sum_{i=1}^n \\log p(y_i \\mid x_i; \\beta) + \\frac{\\gamma}{2} \\| \\beta \\|_2^2\n",
        "\\end{equation*}\n",
        "where $\\gamma$ is a hyperparameter that controls the strength of your $\\ell_2$ regularization.\n",
        "\n",
        "You may want to use the `torch.distributions.Bernoulli` class."
      ]
    },
    {
      "cell_type": "code",
      "execution_count": 61,
      "metadata": {
        "id": "WTaCXlvSHuxh"
      },
      "outputs": [],
      "source": [
        "# your code here\n",
        "def compute_loss(beta, X, y, gamma):\n",
        "  average_log_likelihood = torch.distributions.Bernoulli(probs = torch.sigmoid(X @ beta)).log_prob(y).mean()\n",
        "  loss = -1 * average_log_likelihood + gamma / 2 * (torch.norm(beta, 2) ** 2) # add l2 regularization\n",
        "  return loss"
      ]
    },
    {
      "cell_type": "code",
      "source": [
        "# unit testing\n",
        "torch.manual_seed(0)\n",
        "beta = torch.rand([X.shape[1],1], dtype=torch.float32, requires_grad=True)\n",
        "gamma = 0\n",
        "compute_loss(beta, X, y, gamma)"
      ],
      "metadata": {
        "colab": {
          "base_uri": "https://localhost:8080/"
        },
        "id": "bdNEwOU9WTQd",
        "outputId": "bfb04673-15f9-47b4-f227-34a755f5bd7c"
      },
      "execution_count": 148,
      "outputs": [
        {
          "output_type": "execute_result",
          "data": {
            "text/plain": [
              "tensor(0.7100, grad_fn=<AddBackward0>)"
            ]
          },
          "metadata": {},
          "execution_count": 148
        }
      ]
    },
    {
      "cell_type": "code",
      "source": [
        "compute_loss(beta, X, y, gamma).shape"
      ],
      "metadata": {
        "colab": {
          "base_uri": "https://localhost:8080/"
        },
        "id": "gpP_Q9Anh0AT",
        "outputId": "08e849b9-76f1-4026-89bc-a27c48393885"
      },
      "execution_count": 149,
      "outputs": [
        {
          "output_type": "execute_result",
          "data": {
            "text/plain": [
              "torch.Size([])"
            ]
          },
          "metadata": {},
          "execution_count": 149
        }
      ]
    },
    {
      "cell_type": "markdown",
      "metadata": {
        "id": "8Cx0wyYytSb7"
      },
      "source": [
        "## Problem 2: Gradient Descent"
      ]
    },
    {
      "cell_type": "markdown",
      "metadata": {
        "id": "xuNBMXGsO-7q"
      },
      "source": [
        "### Problem 2.1 Implementing and checking your gradients\n",
        "\n",
        "\n",
        "Write a function to compute the gradient of the average negative log likelihood and check your output against the results obtained by PyTorch's automatic differentiation functionality."
      ]
    },
    {
      "cell_type": "markdown",
      "source": [
        "The gradient is computed as:\n",
        "$$\n",
        "\\nabla L(\\beta) = -\\frac{1}{n} \\sum_{i=1}^{n} \\left[(y_i - \\sigma(\\beta^\\intercal x_i)) x_i\\right] + \\gamma \\beta\n",
        "$$\n",
        "\n",
        "Note that this is a vector with the same shape as $\\beta$."
      ],
      "metadata": {
        "id": "3mx--D6Cc_4O"
      }
    },
    {
      "cell_type": "code",
      "execution_count": 159,
      "metadata": {
        "id": "ROj5lRuOsASh"
      },
      "outputs": [],
      "source": [
        "# your code here\n",
        "def compute_gradient(beta, X, y, gamma):\n",
        "  grad_average_log_likelihood = -1 * (X @ (y - torch.sigmoid(X @ beta)).T)#.mean(dim=1).unsqueeze(1)\n",
        "  print((X.shape, beta.shape, (X@beta).shape, y.shape, (y - torch.sigmoid(X @ beta)).shape))\n",
        "  print(grad_average_log_likelihood.shape)\n",
        "  grad_regularization = (gamma * beta)\n",
        "  print(grad_regularization.shape)\n",
        "  gradient = grad_average_log_likelihood + grad_regularization\n",
        "  return gradient"
      ]
    },
    {
      "cell_type": "code",
      "source": [
        "loss = compute_loss(beta, X, y, gamma)\n",
        "loss.backward()\n",
        "auto_gradient = beta.grad"
      ],
      "metadata": {
        "id": "lJLdYDQ_ogSi"
      },
      "execution_count": 155,
      "outputs": []
    },
    {
      "cell_type": "code",
      "source": [
        "compute_gradient(beta, X, y, gamma).shape"
      ],
      "metadata": {
        "colab": {
          "base_uri": "https://localhost:8080/",
          "height": 269
        },
        "id": "GKbZfd-RhRol",
        "outputId": "6430efc8-32c6-439c-bb32-eb2d765eece8"
      },
      "execution_count": 160,
      "outputs": [
        {
          "output_type": "error",
          "ename": "RuntimeError",
          "evalue": "mat1 and mat2 shapes cannot be multiplied (3574x703 and 1x3574)",
          "traceback": [
            "\u001b[0;31m---------------------------------------------------------------------------\u001b[0m",
            "\u001b[0;31mRuntimeError\u001b[0m                              Traceback (most recent call last)",
            "\u001b[0;32m<ipython-input-160-60badded27cb>\u001b[0m in \u001b[0;36m<cell line: 0>\u001b[0;34m()\u001b[0m\n\u001b[0;32m----> 1\u001b[0;31m \u001b[0mcompute_gradient\u001b[0m\u001b[0;34m(\u001b[0m\u001b[0mbeta\u001b[0m\u001b[0;34m,\u001b[0m \u001b[0mX\u001b[0m\u001b[0;34m,\u001b[0m \u001b[0my\u001b[0m\u001b[0;34m,\u001b[0m \u001b[0mgamma\u001b[0m\u001b[0;34m)\u001b[0m\u001b[0;34m.\u001b[0m\u001b[0mshape\u001b[0m\u001b[0;34m\u001b[0m\u001b[0;34m\u001b[0m\u001b[0m\n\u001b[0m",
            "\u001b[0;32m<ipython-input-159-5503f0364d9f>\u001b[0m in \u001b[0;36mcompute_gradient\u001b[0;34m(beta, X, y, gamma)\u001b[0m\n\u001b[1;32m      1\u001b[0m \u001b[0;31m# your code here\u001b[0m\u001b[0;34m\u001b[0m\u001b[0;34m\u001b[0m\u001b[0m\n\u001b[1;32m      2\u001b[0m \u001b[0;32mdef\u001b[0m \u001b[0mcompute_gradient\u001b[0m\u001b[0;34m(\u001b[0m\u001b[0mbeta\u001b[0m\u001b[0;34m,\u001b[0m \u001b[0mX\u001b[0m\u001b[0;34m,\u001b[0m \u001b[0my\u001b[0m\u001b[0;34m,\u001b[0m \u001b[0mgamma\u001b[0m\u001b[0;34m)\u001b[0m\u001b[0;34m:\u001b[0m\u001b[0;34m\u001b[0m\u001b[0;34m\u001b[0m\u001b[0m\n\u001b[0;32m----> 3\u001b[0;31m   \u001b[0mgrad_average_log_likelihood\u001b[0m \u001b[0;34m=\u001b[0m \u001b[0;34m-\u001b[0m\u001b[0;36m1\u001b[0m \u001b[0;34m*\u001b[0m \u001b[0;34m(\u001b[0m\u001b[0mX\u001b[0m \u001b[0;34m@\u001b[0m \u001b[0;34m(\u001b[0m\u001b[0my\u001b[0m \u001b[0;34m-\u001b[0m \u001b[0mtorch\u001b[0m\u001b[0;34m.\u001b[0m\u001b[0msigmoid\u001b[0m\u001b[0;34m(\u001b[0m\u001b[0mX\u001b[0m \u001b[0;34m@\u001b[0m \u001b[0mbeta\u001b[0m\u001b[0;34m)\u001b[0m\u001b[0;34m)\u001b[0m\u001b[0;34m.\u001b[0m\u001b[0mT\u001b[0m\u001b[0;34m)\u001b[0m\u001b[0;31m#.mean(dim=1).unsqueeze(1)\u001b[0m\u001b[0;34m\u001b[0m\u001b[0;34m\u001b[0m\u001b[0m\n\u001b[0m\u001b[1;32m      4\u001b[0m   \u001b[0mprint\u001b[0m\u001b[0;34m(\u001b[0m\u001b[0;34m(\u001b[0m\u001b[0mX\u001b[0m\u001b[0;34m.\u001b[0m\u001b[0mshape\u001b[0m\u001b[0;34m,\u001b[0m \u001b[0mbeta\u001b[0m\u001b[0;34m.\u001b[0m\u001b[0mshape\u001b[0m\u001b[0;34m,\u001b[0m \u001b[0;34m(\u001b[0m\u001b[0mX\u001b[0m\u001b[0;34m@\u001b[0m\u001b[0mbeta\u001b[0m\u001b[0;34m)\u001b[0m\u001b[0;34m.\u001b[0m\u001b[0mshape\u001b[0m\u001b[0;34m,\u001b[0m \u001b[0my\u001b[0m\u001b[0;34m.\u001b[0m\u001b[0mshape\u001b[0m\u001b[0;34m,\u001b[0m \u001b[0;34m(\u001b[0m\u001b[0my\u001b[0m \u001b[0;34m-\u001b[0m \u001b[0mtorch\u001b[0m\u001b[0;34m.\u001b[0m\u001b[0msigmoid\u001b[0m\u001b[0;34m(\u001b[0m\u001b[0mX\u001b[0m \u001b[0;34m@\u001b[0m \u001b[0mbeta\u001b[0m\u001b[0;34m)\u001b[0m\u001b[0;34m)\u001b[0m\u001b[0;34m.\u001b[0m\u001b[0mshape\u001b[0m\u001b[0;34m)\u001b[0m\u001b[0;34m)\u001b[0m\u001b[0;34m\u001b[0m\u001b[0;34m\u001b[0m\u001b[0m\n\u001b[1;32m      5\u001b[0m   \u001b[0mprint\u001b[0m\u001b[0;34m(\u001b[0m\u001b[0mgrad_average_log_likelihood\u001b[0m\u001b[0;34m.\u001b[0m\u001b[0mshape\u001b[0m\u001b[0;34m)\u001b[0m\u001b[0;34m\u001b[0m\u001b[0;34m\u001b[0m\u001b[0m\n",
            "\u001b[0;31mRuntimeError\u001b[0m: mat1 and mat2 shapes cannot be multiplied (3574x703 and 1x3574)"
          ]
        }
      ]
    },
    {
      "cell_type": "code",
      "source": [
        "gradient = compute_gradient(beta, X, y, gamma)\n",
        "gradient - auto_gradient"
      ],
      "metadata": {
        "id": "pEv-wLvtp1QV",
        "outputId": "e4a7971b-c5b7-4b66-c6e6-2ebfcfc8af26",
        "colab": {
          "base_uri": "https://localhost:8080/"
        }
      },
      "execution_count": 156,
      "outputs": [
        {
          "output_type": "stream",
          "name": "stdout",
          "text": [
            "(torch.Size([3574, 703]), torch.Size([703, 1]), torch.Size([3574, 1]), torch.Size([3574, 1]))\n",
            "torch.Size([703, 1])\n",
            "torch.Size([703, 1])\n"
          ]
        },
        {
          "output_type": "execute_result",
          "data": {
            "text/plain": [
              "tensor([[ 0.3087],\n",
              "        [ 3.6063],\n",
              "        [ 2.9695],\n",
              "        [-3.0545],\n",
              "        [ 3.3322],\n",
              "        [-5.5275],\n",
              "        [ 0.8595],\n",
              "        [ 0.0328],\n",
              "        [-2.9815],\n",
              "        [-0.7567],\n",
              "        [-2.3067],\n",
              "        [ 4.6658],\n",
              "        [-2.3558],\n",
              "        [ 0.5413],\n",
              "        [-1.8458],\n",
              "        [ 2.0460],\n",
              "        [-1.7468],\n",
              "        [-4.0750],\n",
              "        [ 3.0604],\n",
              "        [ 1.4300],\n",
              "        [ 0.8234],\n",
              "        [ 5.9980],\n",
              "        [-1.9197],\n",
              "        [ 0.4301],\n",
              "        [-1.6740],\n",
              "        [ 0.6388],\n",
              "        [-1.8488],\n",
              "        [-0.5213],\n",
              "        [ 1.6418],\n",
              "        [ 1.3897],\n",
              "        [ 0.4350],\n",
              "        [ 1.3117],\n",
              "        [-0.1714],\n",
              "        [ 3.1038],\n",
              "        [ 3.0212],\n",
              "        [-1.3309],\n",
              "        [-2.9353],\n",
              "        [ 0.8530],\n",
              "        [ 0.4675],\n",
              "        [-1.0584],\n",
              "        [-2.8258],\n",
              "        [-5.3971],\n",
              "        [-4.7589],\n",
              "        [ 2.8155],\n",
              "        [-4.4958],\n",
              "        [-0.6617],\n",
              "        [ 0.1178],\n",
              "        [ 1.6224],\n",
              "        [-1.3599],\n",
              "        [ 1.7332],\n",
              "        [ 0.3172],\n",
              "        [ 5.0082],\n",
              "        [ 3.5352],\n",
              "        [-3.9192],\n",
              "        [ 3.8101],\n",
              "        [-3.9600],\n",
              "        [-4.8105],\n",
              "        [-1.3802],\n",
              "        [-2.2000],\n",
              "        [-4.3253],\n",
              "        [ 5.6049],\n",
              "        [-2.0391],\n",
              "        [ 1.6754],\n",
              "        [ 2.6283],\n",
              "        [ 0.7820],\n",
              "        [ 2.2912],\n",
              "        [ 3.8336],\n",
              "        [ 1.2823],\n",
              "        [-0.9063],\n",
              "        [ 1.4672],\n",
              "        [-0.9250],\n",
              "        [-1.1574],\n",
              "        [-0.6841],\n",
              "        [ 0.9833],\n",
              "        [-1.3151],\n",
              "        [-0.9246],\n",
              "        [-2.7089],\n",
              "        [-1.3157],\n",
              "        [-0.5664],\n",
              "        [ 0.5689],\n",
              "        [ 2.1130],\n",
              "        [ 4.1828],\n",
              "        [ 4.1587],\n",
              "        [-2.6260],\n",
              "        [ 1.8936],\n",
              "        [ 2.3115],\n",
              "        [-0.3434],\n",
              "        [-2.6950],\n",
              "        [ 1.0446],\n",
              "        [ 3.4799],\n",
              "        [-1.0999],\n",
              "        [-3.3216],\n",
              "        [ 0.9694],\n",
              "        [ 0.7387],\n",
              "        [ 0.7919],\n",
              "        [-2.8736],\n",
              "        [ 3.1245],\n",
              "        [ 0.3946],\n",
              "        [-0.9374],\n",
              "        [-3.4738],\n",
              "        [-0.1635],\n",
              "        [ 3.7927],\n",
              "        [ 0.4777],\n",
              "        [-4.9720],\n",
              "        [-0.9775],\n",
              "        [-0.0712],\n",
              "        [-2.7053],\n",
              "        [-1.8382],\n",
              "        [ 0.7707],\n",
              "        [-0.8479],\n",
              "        [-4.5451],\n",
              "        [ 2.2849],\n",
              "        [ 2.2092],\n",
              "        [-0.5363],\n",
              "        [-0.1993],\n",
              "        [ 3.9911],\n",
              "        [-2.1176],\n",
              "        [ 2.9435],\n",
              "        [-2.4407],\n",
              "        [ 3.9244],\n",
              "        [ 5.2771],\n",
              "        [-1.7812],\n",
              "        [-0.8827],\n",
              "        [ 0.0095],\n",
              "        [-4.8766],\n",
              "        [ 0.2968],\n",
              "        [-0.7253],\n",
              "        [-0.6549],\n",
              "        [ 1.1266],\n",
              "        [-1.4527],\n",
              "        [-5.4055],\n",
              "        [ 1.1708],\n",
              "        [-2.9920],\n",
              "        [ 1.8030],\n",
              "        [ 0.5398],\n",
              "        [ 4.3002],\n",
              "        [ 4.3172],\n",
              "        [-0.6444],\n",
              "        [-1.8028],\n",
              "        [-0.3921],\n",
              "        [ 3.5562],\n",
              "        [ 3.9045],\n",
              "        [ 3.3212],\n",
              "        [-1.0825],\n",
              "        [ 2.5503],\n",
              "        [ 1.5341],\n",
              "        [ 0.5045],\n",
              "        [-0.9597],\n",
              "        [-3.5726],\n",
              "        [-2.5064],\n",
              "        [ 0.3238],\n",
              "        [-5.9529],\n",
              "        [ 2.7131],\n",
              "        [ 1.6834],\n",
              "        [-1.6764],\n",
              "        [ 3.3769],\n",
              "        [-3.1434],\n",
              "        [-4.6186],\n",
              "        [-1.8233],\n",
              "        [-1.1409],\n",
              "        [-0.4271],\n",
              "        [-2.8311],\n",
              "        [-0.8701],\n",
              "        [-2.2399],\n",
              "        [-1.7092],\n",
              "        [ 4.3987],\n",
              "        [ 2.1130],\n",
              "        [-3.1124],\n",
              "        [ 1.1313],\n",
              "        [ 0.4460],\n",
              "        [-1.1478],\n",
              "        [-0.0158],\n",
              "        [ 1.2796],\n",
              "        [ 1.5281],\n",
              "        [ 0.3937],\n",
              "        [ 3.8981],\n",
              "        [ 1.5493],\n",
              "        [ 1.8029],\n",
              "        [-0.2136],\n",
              "        [ 0.9310],\n",
              "        [ 3.3110],\n",
              "        [-0.6333],\n",
              "        [ 1.1046],\n",
              "        [-2.1908],\n",
              "        [-3.4102],\n",
              "        [ 5.5558],\n",
              "        [ 0.7927],\n",
              "        [-0.2893],\n",
              "        [-3.0042],\n",
              "        [-2.2808],\n",
              "        [-1.8238],\n",
              "        [ 2.4403],\n",
              "        [-2.0744],\n",
              "        [ 5.0190],\n",
              "        [ 0.3297],\n",
              "        [-4.9812],\n",
              "        [ 1.3559],\n",
              "        [ 2.7038],\n",
              "        [-0.2450],\n",
              "        [-6.3446],\n",
              "        [-0.4179],\n",
              "        [-0.6571],\n",
              "        [ 4.7874],\n",
              "        [-3.2641],\n",
              "        [-0.5190],\n",
              "        [ 1.7184],\n",
              "        [-2.2306],\n",
              "        [ 2.0978],\n",
              "        [-1.7531],\n",
              "        [-1.9303],\n",
              "        [-3.9459],\n",
              "        [-0.0547],\n",
              "        [ 0.8980],\n",
              "        [-1.7096],\n",
              "        [ 0.9866],\n",
              "        [ 0.9564],\n",
              "        [-0.5362],\n",
              "        [-6.3566],\n",
              "        [ 1.2925],\n",
              "        [-1.3470],\n",
              "        [-0.3075],\n",
              "        [ 4.6019],\n",
              "        [-0.5251],\n",
              "        [ 0.9308],\n",
              "        [-5.0686],\n",
              "        [ 3.3296],\n",
              "        [-0.5971],\n",
              "        [ 2.4047],\n",
              "        [-5.4552],\n",
              "        [ 2.2951],\n",
              "        [-1.4404],\n",
              "        [ 2.3780],\n",
              "        [ 0.6211],\n",
              "        [-0.4630],\n",
              "        [ 1.4205],\n",
              "        [-2.9447],\n",
              "        [-3.5544],\n",
              "        [-6.2555],\n",
              "        [ 3.5233],\n",
              "        [-2.6096],\n",
              "        [ 1.8536],\n",
              "        [ 0.1493],\n",
              "        [-3.6898],\n",
              "        [ 2.3026],\n",
              "        [ 4.3669],\n",
              "        [-1.4437],\n",
              "        [ 5.1818],\n",
              "        [-3.9134],\n",
              "        [-1.5097],\n",
              "        [-3.2746],\n",
              "        [ 0.8060],\n",
              "        [ 0.1616],\n",
              "        [ 0.7082],\n",
              "        [-1.5579],\n",
              "        [-3.9285],\n",
              "        [-2.5469],\n",
              "        [-3.8795],\n",
              "        [ 3.1956],\n",
              "        [-0.0194],\n",
              "        [-4.8717],\n",
              "        [-1.3217],\n",
              "        [ 2.9024],\n",
              "        [-2.5826],\n",
              "        [ 4.2050],\n",
              "        [ 0.1749],\n",
              "        [ 4.1285],\n",
              "        [-0.5141],\n",
              "        [-3.6527],\n",
              "        [-2.4662],\n",
              "        [-0.8487],\n",
              "        [-3.2499],\n",
              "        [-1.6053],\n",
              "        [-3.4941],\n",
              "        [-4.7726],\n",
              "        [-3.6005],\n",
              "        [-5.9792],\n",
              "        [-0.8930],\n",
              "        [ 3.1899],\n",
              "        [ 0.1089],\n",
              "        [-1.9679],\n",
              "        [-2.4190],\n",
              "        [ 4.1922],\n",
              "        [ 0.9640],\n",
              "        [ 1.9765],\n",
              "        [ 5.0631],\n",
              "        [ 0.5870],\n",
              "        [ 1.4730],\n",
              "        [ 2.3901],\n",
              "        [ 3.0181],\n",
              "        [ 3.0988],\n",
              "        [-3.7969],\n",
              "        [ 2.3832],\n",
              "        [-3.0727],\n",
              "        [-2.9847],\n",
              "        [ 3.0723],\n",
              "        [ 3.7063],\n",
              "        [-2.3498],\n",
              "        [ 3.9581],\n",
              "        [-1.5992],\n",
              "        [ 0.6180],\n",
              "        [-0.7765],\n",
              "        [ 2.9198],\n",
              "        [ 4.3093],\n",
              "        [-0.6539],\n",
              "        [ 3.6451],\n",
              "        [-5.9342],\n",
              "        [-0.2904],\n",
              "        [-5.7647],\n",
              "        [-2.0902],\n",
              "        [ 5.1164],\n",
              "        [-0.1174],\n",
              "        [ 5.1816],\n",
              "        [ 2.0691],\n",
              "        [-3.9716],\n",
              "        [ 1.2109],\n",
              "        [ 1.5576],\n",
              "        [ 0.9165],\n",
              "        [ 0.4555],\n",
              "        [ 0.5781],\n",
              "        [-0.4816],\n",
              "        [ 3.9471],\n",
              "        [ 3.5389],\n",
              "        [-5.0464],\n",
              "        [ 5.3643],\n",
              "        [ 2.0346],\n",
              "        [ 0.8054],\n",
              "        [ 1.1637],\n",
              "        [ 2.5178],\n",
              "        [ 0.5718],\n",
              "        [ 2.9033],\n",
              "        [ 2.7173],\n",
              "        [-3.9911],\n",
              "        [ 3.2871],\n",
              "        [-2.6769],\n",
              "        [-1.1039],\n",
              "        [ 3.4601],\n",
              "        [-0.1722],\n",
              "        [ 0.6404],\n",
              "        [-2.0201],\n",
              "        [ 3.9251],\n",
              "        [-0.1996],\n",
              "        [ 4.7534],\n",
              "        [ 0.9246],\n",
              "        [-0.9232],\n",
              "        [ 4.5290],\n",
              "        [-1.4584],\n",
              "        [-2.1844],\n",
              "        [-1.8232],\n",
              "        [ 2.3747],\n",
              "        [ 1.0308],\n",
              "        [ 2.4100],\n",
              "        [ 0.0133],\n",
              "        [-4.8292],\n",
              "        [-6.3363],\n",
              "        [ 2.1472],\n",
              "        [ 0.5809],\n",
              "        [ 1.5984],\n",
              "        [-2.6566],\n",
              "        [ 0.4943],\n",
              "        [-2.0383],\n",
              "        [ 1.4098],\n",
              "        [ 3.8401],\n",
              "        [ 3.0591],\n",
              "        [ 2.0357],\n",
              "        [-0.7802],\n",
              "        [-2.1674],\n",
              "        [-2.4324],\n",
              "        [-3.1256],\n",
              "        [ 3.1582],\n",
              "        [ 0.8211],\n",
              "        [ 1.5295],\n",
              "        [ 1.4887],\n",
              "        [ 4.0213],\n",
              "        [-4.5404],\n",
              "        [-0.0157],\n",
              "        [-0.4330],\n",
              "        [ 2.6912],\n",
              "        [-1.4065],\n",
              "        [ 2.4818],\n",
              "        [-2.0837],\n",
              "        [-3.3256],\n",
              "        [-2.9254],\n",
              "        [-0.3550],\n",
              "        [-0.4103],\n",
              "        [ 0.5796],\n",
              "        [ 2.5011],\n",
              "        [ 1.5305],\n",
              "        [ 4.4563],\n",
              "        [ 0.7666],\n",
              "        [ 1.8884],\n",
              "        [-4.0536],\n",
              "        [-5.1369],\n",
              "        [-4.6632],\n",
              "        [ 3.1440],\n",
              "        [ 0.1405],\n",
              "        [-1.7959],\n",
              "        [ 1.7285],\n",
              "        [ 1.3120],\n",
              "        [-0.0507],\n",
              "        [ 2.4760],\n",
              "        [ 3.3343],\n",
              "        [ 4.1361],\n",
              "        [-1.2916],\n",
              "        [-1.9330],\n",
              "        [ 2.0185],\n",
              "        [ 2.5202],\n",
              "        [-1.4054],\n",
              "        [ 2.1482],\n",
              "        [-1.3812],\n",
              "        [ 2.9176],\n",
              "        [ 1.7095],\n",
              "        [ 2.1901],\n",
              "        [ 1.1273],\n",
              "        [-2.2291],\n",
              "        [ 3.4897],\n",
              "        [-3.8787],\n",
              "        [-5.3902],\n",
              "        [-1.8056],\n",
              "        [-2.4892],\n",
              "        [ 1.2562],\n",
              "        [ 0.2406],\n",
              "        [ 0.1284],\n",
              "        [ 4.4714],\n",
              "        [ 1.0163],\n",
              "        [ 5.9232],\n",
              "        [-1.2524],\n",
              "        [-0.7986],\n",
              "        [ 4.4394],\n",
              "        [-0.0146],\n",
              "        [-1.0718],\n",
              "        [-2.2261],\n",
              "        [-0.4293],\n",
              "        [ 0.1414],\n",
              "        [ 4.8811],\n",
              "        [ 3.6484],\n",
              "        [ 0.3892],\n",
              "        [ 4.3388],\n",
              "        [-3.8183],\n",
              "        [-1.3457],\n",
              "        [ 0.4877],\n",
              "        [ 3.0658],\n",
              "        [-4.2289],\n",
              "        [ 1.6415],\n",
              "        [ 2.0640],\n",
              "        [-6.5914],\n",
              "        [ 1.5136],\n",
              "        [-4.9452],\n",
              "        [ 0.2162],\n",
              "        [-2.6454],\n",
              "        [-1.2758],\n",
              "        [-2.7812],\n",
              "        [ 1.9487],\n",
              "        [-2.9907],\n",
              "        [-1.4932],\n",
              "        [ 4.2670],\n",
              "        [-2.0093],\n",
              "        [ 1.9525],\n",
              "        [ 2.8240],\n",
              "        [-1.1307],\n",
              "        [-4.4837],\n",
              "        [-2.1165],\n",
              "        [-5.2638],\n",
              "        [ 3.5507],\n",
              "        [-0.1719],\n",
              "        [ 0.6223],\n",
              "        [-0.7798],\n",
              "        [ 0.4061],\n",
              "        [ 2.8824],\n",
              "        [-1.1454],\n",
              "        [ 2.1225],\n",
              "        [ 0.3633],\n",
              "        [ 2.5295],\n",
              "        [ 2.7805],\n",
              "        [-0.8270],\n",
              "        [-4.9888],\n",
              "        [-1.5645],\n",
              "        [-2.8412],\n",
              "        [ 0.6338],\n",
              "        [-1.4665],\n",
              "        [ 0.9747],\n",
              "        [-3.2415],\n",
              "        [-0.7741],\n",
              "        [ 0.1916],\n",
              "        [ 1.1250],\n",
              "        [ 2.7325],\n",
              "        [ 0.6271],\n",
              "        [-1.1664],\n",
              "        [ 0.9920],\n",
              "        [-0.0087],\n",
              "        [-4.6824],\n",
              "        [-4.2263],\n",
              "        [ 0.0726],\n",
              "        [-0.7821],\n",
              "        [ 2.4356],\n",
              "        [ 0.8332],\n",
              "        [-0.9552],\n",
              "        [-4.0591],\n",
              "        [ 2.1999],\n",
              "        [ 0.5010],\n",
              "        [ 2.9864],\n",
              "        [ 0.2611],\n",
              "        [-0.2296],\n",
              "        [ 3.5824],\n",
              "        [ 0.5218],\n",
              "        [ 3.1905],\n",
              "        [ 1.0798],\n",
              "        [-0.1206],\n",
              "        [-2.9230],\n",
              "        [ 1.7328],\n",
              "        [ 2.9965],\n",
              "        [ 2.0413],\n",
              "        [ 3.1400],\n",
              "        [-4.7952],\n",
              "        [-0.4535],\n",
              "        [ 1.5596],\n",
              "        [ 1.0755],\n",
              "        [-3.8408],\n",
              "        [ 0.7002],\n",
              "        [-4.3450],\n",
              "        [-0.2733],\n",
              "        [ 1.8531],\n",
              "        [ 2.4453],\n",
              "        [ 1.2998],\n",
              "        [ 0.3513],\n",
              "        [-0.8342],\n",
              "        [-3.9639],\n",
              "        [ 1.9053],\n",
              "        [-1.7147],\n",
              "        [ 3.1625],\n",
              "        [-0.9307],\n",
              "        [-0.4847],\n",
              "        [ 0.8359],\n",
              "        [ 2.7245],\n",
              "        [ 0.3439],\n",
              "        [ 2.2649],\n",
              "        [ 0.5357],\n",
              "        [ 5.4068],\n",
              "        [ 1.2192],\n",
              "        [-4.3507],\n",
              "        [ 1.2560],\n",
              "        [ 1.4137],\n",
              "        [ 1.0442],\n",
              "        [ 0.5666],\n",
              "        [-1.6062],\n",
              "        [ 5.1008],\n",
              "        [ 1.2629],\n",
              "        [-3.6011],\n",
              "        [-1.8107],\n",
              "        [-0.0213],\n",
              "        [ 3.7443],\n",
              "        [-3.7809],\n",
              "        [ 0.4075],\n",
              "        [ 3.3042],\n",
              "        [ 0.3238],\n",
              "        [ 2.8670],\n",
              "        [ 2.4800],\n",
              "        [ 2.4475],\n",
              "        [-2.3811],\n",
              "        [ 1.0591],\n",
              "        [ 4.9575],\n",
              "        [-0.3608],\n",
              "        [-5.7730],\n",
              "        [-0.5858],\n",
              "        [ 1.6967],\n",
              "        [-3.4267],\n",
              "        [ 1.4437],\n",
              "        [ 2.7126],\n",
              "        [-2.3084],\n",
              "        [ 0.5127],\n",
              "        [ 2.0151],\n",
              "        [-4.3784],\n",
              "        [-0.5491],\n",
              "        [ 3.4653],\n",
              "        [-2.4584],\n",
              "        [ 0.8486],\n",
              "        [ 4.2046],\n",
              "        [ 2.5418],\n",
              "        [-2.7656],\n",
              "        [ 0.2691],\n",
              "        [ 6.4795],\n",
              "        [ 1.6112],\n",
              "        [-0.0375],\n",
              "        [-6.3053],\n",
              "        [-4.1323],\n",
              "        [ 0.4235],\n",
              "        [-1.7661],\n",
              "        [-2.9910],\n",
              "        [-3.2816],\n",
              "        [-3.0276],\n",
              "        [-2.4637],\n",
              "        [-1.8011],\n",
              "        [-5.8853],\n",
              "        [ 1.2408],\n",
              "        [ 0.4285],\n",
              "        [-1.2037],\n",
              "        [ 2.7727],\n",
              "        [-2.9641],\n",
              "        [ 1.2620],\n",
              "        [ 0.4161],\n",
              "        [ 0.6241],\n",
              "        [ 1.3331],\n",
              "        [-4.5212],\n",
              "        [-2.8879],\n",
              "        [-1.0855],\n",
              "        [-1.8095],\n",
              "        [-3.5970],\n",
              "        [-0.7436],\n",
              "        [ 2.1371],\n",
              "        [ 2.5136],\n",
              "        [-1.4192],\n",
              "        [-2.5418],\n",
              "        [-0.1550],\n",
              "        [-2.9472],\n",
              "        [-4.4447],\n",
              "        [ 0.6042],\n",
              "        [ 4.8101],\n",
              "        [-0.3139],\n",
              "        [-3.8890],\n",
              "        [ 3.5577],\n",
              "        [-1.5330],\n",
              "        [-2.7745],\n",
              "        [ 1.0305],\n",
              "        [ 3.6051],\n",
              "        [-4.3950],\n",
              "        [-0.0670],\n",
              "        [-5.2515],\n",
              "        [ 0.5971],\n",
              "        [ 2.8298],\n",
              "        [ 2.5706],\n",
              "        [-3.6296],\n",
              "        [ 3.7678],\n",
              "        [ 4.3128],\n",
              "        [-2.4600],\n",
              "        [ 0.1865],\n",
              "        [-3.4822],\n",
              "        [ 4.6197],\n",
              "        [-2.1762],\n",
              "        [ 0.2879],\n",
              "        [ 1.2648],\n",
              "        [ 3.5358],\n",
              "        [-0.6703],\n",
              "        [-4.6266],\n",
              "        [ 3.8664],\n",
              "        [-6.7074],\n",
              "        [-3.8729],\n",
              "        [-2.2247],\n",
              "        [-2.7115],\n",
              "        [ 1.7814],\n",
              "        [ 0.5221],\n",
              "        [ 2.1262],\n",
              "        [-1.7677],\n",
              "        [ 2.4445],\n",
              "        [ 0.6282],\n",
              "        [-1.1371],\n",
              "        [-2.6243],\n",
              "        [-0.4152],\n",
              "        [-0.2886],\n",
              "        [-1.0432],\n",
              "        [-1.3931],\n",
              "        [ 1.5621],\n",
              "        [ 1.8878],\n",
              "        [-2.5368],\n",
              "        [ 2.0061],\n",
              "        [-2.8442],\n",
              "        [-2.4398],\n",
              "        [ 6.6115],\n",
              "        [-1.1328],\n",
              "        [ 3.0798],\n",
              "        [-2.3526],\n",
              "        [ 4.5324],\n",
              "        [ 1.2090],\n",
              "        [-4.4238],\n",
              "        [ 1.7052],\n",
              "        [ 3.9684],\n",
              "        [-0.4740],\n",
              "        [-2.9023],\n",
              "        [-0.2845],\n",
              "        [-4.6301],\n",
              "        [-1.1752],\n",
              "        [ 0.7731],\n",
              "        [ 4.8837],\n",
              "        [-1.6409],\n",
              "        [ 2.8800],\n",
              "        [ 3.1149],\n",
              "        [ 2.4918],\n",
              "        [ 3.2387],\n",
              "        [-3.1657],\n",
              "        [-0.9822],\n",
              "        [ 1.6936],\n",
              "        [-0.9079],\n",
              "        [ 1.4807],\n",
              "        [ 2.1417],\n",
              "        [-3.3001],\n",
              "        [ 0.2369],\n",
              "        [ 3.9907],\n",
              "        [-2.8652],\n",
              "        [ 4.3680],\n",
              "        [ 0.2038],\n",
              "        [ 2.2832],\n",
              "        [ 3.6288],\n",
              "        [-3.1092],\n",
              "        [-1.4204],\n",
              "        [-2.3380]], grad_fn=<SubBackward0>)"
            ]
          },
          "metadata": {},
          "execution_count": 156
        }
      ]
    },
    {
      "cell_type": "markdown",
      "metadata": {
        "id": "Cl9CAUpTPtpw"
      },
      "source": [
        "### Problem 2.2: Implement Gradient Descent\n",
        "\n",
        "\n",
        "Now, use gradient descent to fit your Bradley-Terry model to the provided data.\n",
        "\n",
        "Deliverables for this question:\n",
        "1. Code the implements gradient descent to fit your Bradley-Terry model to the provided data.\n",
        "2. A plot of the loss curve of your algorithm and a brief discussion if it makes sense or not\n",
        "3. A plot of the histogram of the fitted values of $\\beta$\n",
        "4. The top 10 teams from your ranking, and a discussion of whether this ranking makes sense or not."
      ]
    },
    {
      "cell_type": "code",
      "execution_count": null,
      "metadata": {
        "id": "kPSNWKE8sKIH"
      },
      "outputs": [],
      "source": [
        "# your code here (you can use multiple code and markdown cells to organize your answer)"
      ]
    },
    {
      "cell_type": "markdown",
      "metadata": {
        "id": "lBPDg-5QtXQV"
      },
      "source": [
        "## Problem 3: Newton's Method\n",
        "\n",
        "Now, use Newton's method to fit your Bradley-Terry model to the provided data.\n"
      ]
    },
    {
      "cell_type": "markdown",
      "metadata": {
        "id": "Pi_R1fgkFbQ0"
      },
      "source": [
        "### Problem 3.1 The Hessian\n",
        "\n"
      ]
    },
    {
      "cell_type": "markdown",
      "metadata": {
        "id": "RS0kTKtVLDlQ"
      },
      "source": [
        "#### Problem 3.1.1. Implement and check the Hessian\n",
        "Write a function to compute the Hessian of the average negative log likelihood and check your answer against the output of `from torch.autograd.functional.hessian`."
      ]
    },
    {
      "cell_type": "markdown",
      "metadata": {
        "id": "TtSlxUAkLE-y"
      },
      "source": [
        "#### Problem 3.1.2: Positive definiteness\n",
        "\n",
        "Compute the Hessian at the point $\\beta = 0$ without regularization (set $\\gamma = 0$). Unless you've done sort of pre-processing, it's probably singular."
      ]
    },
    {
      "cell_type": "code",
      "execution_count": null,
      "metadata": {
        "id": "6KQjQZtfsUZ6"
      },
      "outputs": [],
      "source": [
        "# your code here"
      ]
    },
    {
      "cell_type": "markdown",
      "metadata": {
        "id": "GKVxT91XLbSL"
      },
      "source": [
        "#### Problem 3.1.3\n",
        "\n",
        "Describe intuitively and mathematically what it means for the Hessian of the negative log likelihood to be singular in the context of this data and model"
      ]
    },
    {
      "cell_type": "markdown",
      "metadata": {
        "id": "yAsLFSGXsWXO"
      },
      "source": [
        "*your answer here*"
      ]
    },
    {
      "cell_type": "markdown",
      "metadata": {
        "id": "TvClzEjJLk52"
      },
      "source": [
        "#### Problem 3.1.4\n",
        "\n",
        "Give a hypothesis for why the Hessian in this dataset and model is singular, and provide empirical evidence to support your hypothesis."
      ]
    },
    {
      "cell_type": "markdown",
      "metadata": {
        "id": "dFphHjnxsjE2"
      },
      "source": [
        "*your answer here*"
      ]
    },
    {
      "cell_type": "code",
      "execution_count": null,
      "metadata": {
        "id": "-wxWOBOQslRc"
      },
      "outputs": [],
      "source": [
        "# your code here"
      ]
    },
    {
      "cell_type": "markdown",
      "metadata": {
        "id": "EtKlPKs9LyNw"
      },
      "source": [
        "#### Problem 3.1.5\n",
        "\n",
        "Explain why the Hessian is invertible when $\\gamma > 0$."
      ]
    },
    {
      "cell_type": "markdown",
      "metadata": {
        "id": "CgvigoXaspaw"
      },
      "source": [
        "*your answer here*"
      ]
    },
    {
      "cell_type": "markdown",
      "metadata": {
        "id": "szaThYwMMuf4"
      },
      "source": [
        "### Problem 3.2: Implement Newton's method\n",
        "\n",
        "Now, use Newton's method to fit your $\\ell_2$-regularized Bradley-Terry model to the provided data.\n",
        "\n",
        "Deliverables for this question:\n",
        "1. Code the implements Newton's method to fit your Bradley-Terry model to the provided data.\n",
        "2. A plot of the loss curves from Newton's method and from gradient descent, using the same regularization strength $\\gamma$ and initialization $\\beta_0$. Briefly discuss the results and compare their rates of convergence.\n",
        "3. A plot of the histogram of the fitted values of $\\beta$\n",
        "4. The top 10 teams from your ranking, and a discussion of whether this ranking makes sense or not."
      ]
    },
    {
      "cell_type": "code",
      "execution_count": null,
      "metadata": {
        "id": "FPYUCllcsri7"
      },
      "outputs": [],
      "source": [
        "# your code here (you can use multiple code and markdown cells to organize your answer)"
      ]
    },
    {
      "cell_type": "markdown",
      "metadata": {
        "id": "J9R91iI5NCMs"
      },
      "source": [
        "## Problem 4: Model criticism and revision\n",
        "\n",
        "Let's take another look the Bradley-Terry model from earlier and think about improvements we can make.\n"
      ]
    },
    {
      "cell_type": "markdown",
      "metadata": {
        "id": "yPSnL3odcj12"
      },
      "source": [
        "### Problem 4.1: Improvements to Bradley-Terry Model\n",
        "Choose one way to improve the Bradley-Terry model. Discuss *a priori* why you think this change will improve the model and implement your change."
      ]
    },
    {
      "cell_type": "markdown",
      "metadata": {
        "id": "gngpLxYpczp0"
      },
      "source": [
        "*your answer here*"
      ]
    },
    {
      "cell_type": "markdown",
      "metadata": {
        "id": "Xt9Yn0NPc3nS"
      },
      "source": [
        "### Problem 4.2: Evaluation\n",
        "Assess whether or not your change was an improvement or not. Provide empirical evidence by evaluating performance on a held out test set and include at least one plot supporting your assessment."
      ]
    },
    {
      "cell_type": "markdown",
      "metadata": {
        "id": "yQvtv-eHdBM5"
      },
      "source": [
        "*your answer here*"
      ]
    },
    {
      "cell_type": "markdown",
      "metadata": {
        "id": "87F609vpdEq0"
      },
      "source": [
        "### Problem 4.3: Reflection\n",
        "Reflecting on the analysis we've conducted in this assignemnt, which conference is best? Is there a significant difference? Please justify your answer."
      ]
    },
    {
      "cell_type": "markdown",
      "metadata": {
        "id": "-4YnbZWVdmWv"
      },
      "source": [
        "*your answer here*"
      ]
    },
    {
      "cell_type": "markdown",
      "metadata": {
        "id": "9TL_LAYoyI2T"
      },
      "source": [
        "## Submission Instructions\n",
        "\n",
        "**Formatting:** check that your code does not exceed 80 characters in line width. You can set _Tools &rarr; Settings &rarr; Editor &rarr; Vertical ruler column_ to 80 to see when you've exceeded the limit.\n",
        "\n",
        "**Converting to PDF** The simplest way to convert to PDF is to use the \"Print to PDF\" option in your browser. Just make sure that your code and plots aren't cut off, as it may not wrap lines.\n",
        "\n",
        "**Alternatively** You can download your notebook in .ipynb format and use the following commands to convert it to PDF.  Then run the following command to convert to a PDF:\n",
        "```\n",
        "jupyter nbconvert --to pdf <yourlastname>_hw<number>.ipynb\n",
        "```\n",
        "(Note that for the above code to work, you need to rename your file `<yourlastname>_hw<number>.ipynb`)\n",
        "\n",
        "**Installing nbconvert:**\n",
        "\n",
        "If you're using Anaconda for package management,\n",
        "```\n",
        "conda install -c anaconda nbconvert\n",
        "```\n",
        "\n",
        "**Upload** your .pdf file to Gradescope. Please tag your questions correctly! I.e., for each question, all of and only the relevant sections are tagged.\n",
        "\n",
        "Please post on Ed or come to OH if there are any other problems submitting the HW."
      ]
    }
  ],
  "metadata": {
    "colab": {
      "gpuType": "T4",
      "machine_shape": "hm",
      "provenance": []
    },
    "kernelspec": {
      "display_name": "base",
      "language": "python",
      "name": "python3"
    },
    "language_info": {
      "codemirror_mode": {
        "name": "ipython",
        "version": 3
      },
      "file_extension": ".py",
      "mimetype": "text/x-python",
      "name": "python",
      "nbconvert_exporter": "python",
      "pygments_lexer": "ipython3",
      "version": "3.10.9"
    }
  },
  "nbformat": 4,
  "nbformat_minor": 0
}