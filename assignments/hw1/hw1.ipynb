{
  "cells": [
    {
      "cell_type": "markdown",
      "metadata": {
        "id": "P_JIQE4w9xbB"
      },
      "source": [
        "# HW1: Logistic Regression\n",
        "\n",
        "This class is about models and algorithms for discrete data. This homework will have all 3 ingredients:\n",
        "* **Data**: the results from all college football games in the 2023 season\n",
        "* **Model**: The *Bradely-Terry* model for predicting the winners of football game. The Bradley-Terry model is just logistic regression.\n",
        "* **Algorithm**: We will implement two ways of fitting logistic regression: gradient descent and Newton's method"
      ]
    },
    {
      "cell_type": "markdown",
      "metadata": {
        "id": "oi2v2m5yCJE9"
      },
      "source": [
        "## The Bradley-Terry Model\n",
        "\n",
        "In the Bradley-Terry Model, we give team $k$ a team-effect $\\beta_k$. Basically, higher $\\beta_k$ (relatively speaking), means that team $k$ is a better team.\n",
        "The Bradley-Terry model formalizes this intution by modeling the log odds of team $k$ beating team $k'$ by the difference in their team effects, $\\beta_k - \\beta_{k'}$.\n",
        "\n",
        "Let $i = 1,\\ldots, n$ index games, and let $h(i) \\in \\{1,\\ldots,K\\}$ and $a(i) \\in \\{1,\\ldots,K\\}$ denote the indices of the home and away teams, respectively.\n",
        "Let $Y_i \\in \\{0,1\\}$ denote whether the home team won.\n",
        "Under the Bradley-Terry model,\n",
        "\\begin{equation*}\n",
        "  Y_i \\sim \\mathrm{Bern}\\big(\\sigma(\\beta_{h(i)} - \\beta_{a(i)}) \\big),\n",
        "\\end{equation*}\n",
        "where $\\sigma(\\cdot)$ is the sigmoid function. We can view this model as a logistic regression model with covariates $x_i \\in \\mathbb{R}^K$ where,\n",
        "\\begin{align*}\n",
        "x_{i,k} &=\n",
        "\\begin{cases}\n",
        "+1 &\\text{if } h(i) = k \\\\\n",
        "-1 &\\text{if } a(i) = k \\\\\n",
        "0 &\\text{o.w.},\n",
        "\\end{cases}\n",
        "\\end{align*}\n",
        "and parameters $\\beta \\in \\mathbb{R}^K$."
      ]
    },
    {
      "cell_type": "markdown",
      "metadata": {
        "id": "toIIF0ej-a7I"
      },
      "source": [
        "## Data\n",
        "\n",
        "We use the results of college football games in the fall 2023 season, which are available from the course github page and loaded for you below.\n",
        "\n",
        "The data comes as a list of the outcomes of individual games. You'll need to wrangle the data to get it into a format that you can feed into the Bradley-Terry model."
      ]
    },
    {
      "cell_type": "code",
      "execution_count": 1,
      "metadata": {
        "id": "qvTw_232nr-v"
      },
      "outputs": [],
      "source": [
        "import torch\n",
        "import pandas as pd\n",
        "import matplotlib.pyplot as plt\n",
        "from tqdm import tqdm\n",
        "import numpy as np"
      ]
    },
    {
      "cell_type": "code",
      "execution_count": 2,
      "metadata": {
        "id": "WIYCdEBqnvJG"
      },
      "outputs": [],
      "source": [
        "allgames = pd.read_csv(\"https://raw.githubusercontent.com/slinderman/stats305b/winter2025/data/01_allgames.csv\")"
      ]
    },
    {
      "cell_type": "markdown",
      "metadata": {
        "id": "O_00WB7kaeDi"
      },
      "source": [
        "## Problem 0: Preprocessing\n",
        "\n",
        "Preprocess the data to drop games with nan scores, construct the covariate matrix $X$, construct the response vector $y$, and do any other preprocessing you find useful."
      ]
    },
    {
      "cell_type": "code",
      "source": [
        "allgames.info()"
      ],
      "metadata": {
        "colab": {
          "base_uri": "https://localhost:8080/"
        },
        "id": "8J3-Ep6WaJ9c",
        "outputId": "2803d588-a986-4ca5-cd09-d2915186f3a7"
      },
      "execution_count": 3,
      "outputs": [
        {
          "output_type": "stream",
          "name": "stdout",
          "text": [
            "<class 'pandas.core.frame.DataFrame'>\n",
            "RangeIndex: 3599 entries, 0 to 3598\n",
            "Data columns (total 33 columns):\n",
            " #   Column              Non-Null Count  Dtype  \n",
            "---  ------              --------------  -----  \n",
            " 0   Id                  3599 non-null   int64  \n",
            " 1   Season              3599 non-null   int64  \n",
            " 2   Week                3599 non-null   int64  \n",
            " 3   Season Type         3599 non-null   object \n",
            " 4   Start Date          3599 non-null   object \n",
            " 5   Start Time Tbd      3599 non-null   bool   \n",
            " 6   Completed           3599 non-null   bool   \n",
            " 7   Neutral Site        3599 non-null   bool   \n",
            " 8   Conference Game     3599 non-null   bool   \n",
            " 9   Attendance          851 non-null    float64\n",
            " 10  Venue Id            3589 non-null   float64\n",
            " 11  Venue               3589 non-null   object \n",
            " 12  Home Id             3599 non-null   int64  \n",
            " 13  Home Team           3599 non-null   object \n",
            " 14  Home Conference     3576 non-null   object \n",
            " 15  Home Division       3576 non-null   object \n",
            " 16  Home Points         3587 non-null   float64\n",
            " 17  Home Line Scores    0 non-null      float64\n",
            " 18  Home Post Win Prob  1448 non-null   float64\n",
            " 19  Home Pregame Elo    868 non-null    float64\n",
            " 20  Home Postgame Elo   868 non-null    float64\n",
            " 21  Away Id             3599 non-null   int64  \n",
            " 22  Away Team           3599 non-null   object \n",
            " 23  Away Conference     3535 non-null   object \n",
            " 24  Away Division       3535 non-null   object \n",
            " 25  Away Points         3587 non-null   float64\n",
            " 26  Away Line Scores    0 non-null      float64\n",
            " 27  Away Post Win Prob  1448 non-null   float64\n",
            " 28  Away Pregame Elo    750 non-null    float64\n",
            " 29  Away Postgame Elo   750 non-null    float64\n",
            " 30  Excitement Index    1454 non-null   float64\n",
            " 31  Highlights          0 non-null      float64\n",
            " 32  Notes               18 non-null     object \n",
            "dtypes: bool(4), float64(14), int64(5), object(10)\n",
            "memory usage: 829.6+ KB\n"
          ]
        }
      ]
    },
    {
      "cell_type": "code",
      "source": [
        "# drop games with nan scores\n",
        "# store the results in a new dataframe called df\n",
        "df = allgames.dropna(subset=['Home Points', 'Away Points'])\n",
        "# to avoid bias, drop all the games where the points are tied.\n",
        "df = df[df[\"Away Points\"] != df[\"Home Points\"]]\n",
        "\n",
        "# in Bradley-Terry model, constructing the response vector y\n",
        "# the covariate matrix X is very sparse. we can one column for each team,\n",
        "# and in each row, value equals 1 if the team is the home team, and equals -1 if the team is the away team,\n",
        "# and equals 0 for all other teams.\n",
        "# as the first step, no additional preprocessing is considered;\n",
        "# they are left as improvement options later in this assignment.\n",
        "points_difference = df[\"Home Points\"] - df[\"Away Points\"]\n",
        "y = (points_difference > 0)*1 # consider the home team won if the home team had higher points in the game\n",
        "teams = sorted(set(df[\"Away Team\"]).union(set(df[\"Home Team\"])))\n",
        "X_df = pd.DataFrame(0, index=df.index, columns=teams)\n",
        "for i, game in df.iterrows():\n",
        "  home_team = game[\"Home Team\"]\n",
        "  away_team = game[\"Away Team\"]\n",
        "  X_df.loc[i, home_team] = 1\n",
        "  X_df.loc[i, away_team] = -1\n",
        "# convert into tensors\n",
        "#type(y), type(X_df)\n",
        "y = torch.tensor(y.values, dtype=torch.float32).unsqueeze(1)\n",
        "X = torch.tensor(X_df.values, dtype=torch.float32)\n",
        "y.shape, X.shape"
      ],
      "metadata": {
        "colab": {
          "base_uri": "https://localhost:8080/"
        },
        "id": "CwtDjkd4a_cx",
        "outputId": "ad088d4a-3aba-43c1-ef58-11ef018ef320"
      },
      "execution_count": 4,
      "outputs": [
        {
          "output_type": "execute_result",
          "data": {
            "text/plain": [
              "(torch.Size([3574, 1]), torch.Size([3574, 703]))"
            ]
          },
          "metadata": {},
          "execution_count": 4
        }
      ]
    },
    {
      "cell_type": "markdown",
      "metadata": {
        "id": "ZjUJOkAWHWD0"
      },
      "source": [
        "## Problem 1: Loss function\n",
        "\n",
        "Write a function to compute the loss, $L(\\beta)$ defined be\n",
        "\n",
        "\\begin{equation*}\n",
        "  L(\\beta) = -\\frac{1}{n} \\sum_{i=1}^n \\log p(y_i \\mid x_i; \\beta) + \\frac{\\gamma}{2} \\| \\beta \\|_2^2\n",
        "\\end{equation*}\n",
        "where $\\gamma$ is a hyperparameter that controls the strength of your $\\ell_2$ regularization.\n",
        "\n",
        "You may want to use the `torch.distributions.Bernoulli` class."
      ]
    },
    {
      "cell_type": "code",
      "execution_count": 5,
      "metadata": {
        "id": "WTaCXlvSHuxh"
      },
      "outputs": [],
      "source": [
        "# your code here\n",
        "def compute_loss(beta, X, y, gamma):\n",
        "  average_log_likelihood = torch.distributions.Bernoulli(probs = torch.sigmoid(X @ beta)).log_prob(y).mean()\n",
        "  loss = -1 * average_log_likelihood + gamma / 2 * (torch.norm(beta, 2) ** 2) # add l2 regularization\n",
        "  return loss"
      ]
    },
    {
      "cell_type": "code",
      "source": [
        "# unit testing\n",
        "torch.manual_seed(0)\n",
        "beta = torch.rand([X.shape[1],1], dtype=torch.float32, requires_grad=True)\n",
        "gamma = 0.2\n",
        "compute_loss(beta, X, y, gamma)"
      ],
      "metadata": {
        "colab": {
          "base_uri": "https://localhost:8080/"
        },
        "id": "bdNEwOU9WTQd",
        "outputId": "96d5b9a9-0d74-4b40-e608-3e971ca869bf"
      },
      "execution_count": 6,
      "outputs": [
        {
          "output_type": "execute_result",
          "data": {
            "text/plain": [
              "tensor(24.1480, grad_fn=<AddBackward0>)"
            ]
          },
          "metadata": {},
          "execution_count": 6
        }
      ]
    },
    {
      "cell_type": "code",
      "source": [
        "compute_loss(beta, X, y, gamma).shape"
      ],
      "metadata": {
        "colab": {
          "base_uri": "https://localhost:8080/"
        },
        "id": "gpP_Q9Anh0AT",
        "outputId": "99cbdbb9-3145-4351-a892-76c76051885a"
      },
      "execution_count": 7,
      "outputs": [
        {
          "output_type": "execute_result",
          "data": {
            "text/plain": [
              "torch.Size([])"
            ]
          },
          "metadata": {},
          "execution_count": 7
        }
      ]
    },
    {
      "cell_type": "markdown",
      "metadata": {
        "id": "8Cx0wyYytSb7"
      },
      "source": [
        "## Problem 2: Gradient Descent"
      ]
    },
    {
      "cell_type": "markdown",
      "metadata": {
        "id": "xuNBMXGsO-7q"
      },
      "source": [
        "### Problem 2.1 Implementing and checking your gradients\n",
        "\n",
        "\n",
        "Write a function to compute the gradient of the average negative log likelihood and check your output against the results obtained by PyTorch's automatic differentiation functionality."
      ]
    },
    {
      "cell_type": "markdown",
      "source": [
        "The gradient is computed as:\n",
        "$$\n",
        "\\nabla L(\\beta) = -\\frac{1}{n} \\sum_{i=1}^{n} \\left[(y_i - \\sigma(\\beta^\\intercal x_i)) x_i\\right] + \\gamma \\beta\n",
        "$$\n",
        "\n",
        "Note that this is a vector with the same shape as $\\beta$."
      ],
      "metadata": {
        "id": "3mx--D6Cc_4O"
      }
    },
    {
      "cell_type": "code",
      "execution_count": 8,
      "metadata": {
        "id": "ROj5lRuOsASh"
      },
      "outputs": [],
      "source": [
        "# your code here\n",
        "def compute_gradient(beta, X, y, gamma):\n",
        "  grad_average_log_likelihood = -1/(y.shape[0]) * (X.T @ (y - torch.sigmoid(X @ beta)))\n",
        "  grad_regularization = (gamma * beta)\n",
        "  gradient = grad_average_log_likelihood + grad_regularization\n",
        "  return gradient"
      ]
    },
    {
      "cell_type": "code",
      "source": [
        "loss = compute_loss(beta, X, y, gamma)\n",
        "loss.backward()\n",
        "auto_gradient = beta.grad"
      ],
      "metadata": {
        "id": "lJLdYDQ_ogSi"
      },
      "execution_count": 9,
      "outputs": []
    },
    {
      "cell_type": "code",
      "source": [
        "gradient = compute_gradient(beta, X, y, gamma)"
      ],
      "metadata": {
        "id": "GKbZfd-RhRol"
      },
      "execution_count": 10,
      "outputs": []
    },
    {
      "cell_type": "code",
      "source": [
        "torch.allclose(gradient, auto_gradient)"
      ],
      "metadata": {
        "colab": {
          "base_uri": "https://localhost:8080/"
        },
        "id": "pEv-wLvtp1QV",
        "outputId": "7cea5c3c-bcb6-4a13-80be-683a3a14d108"
      },
      "execution_count": 11,
      "outputs": [
        {
          "output_type": "execute_result",
          "data": {
            "text/plain": [
              "True"
            ]
          },
          "metadata": {},
          "execution_count": 11
        }
      ]
    },
    {
      "cell_type": "markdown",
      "metadata": {
        "id": "Cl9CAUpTPtpw"
      },
      "source": [
        "### Problem 2.2: Implement Gradient Descent\n",
        "\n",
        "\n",
        "Now, use gradient descent to fit your Bradley-Terry model to the provided data.\n",
        "\n",
        "Deliverables for this question:\n",
        "1. Code the implements gradient descent to fit your Bradley-Terry model to the provided data.\n",
        "2. A plot of the loss curve of your algorithm and a brief discussion if it makes sense or not\n",
        "3. A plot of the histogram of the fitted values of $\\beta$\n",
        "4. The top 10 teams from your ranking, and a discussion of whether this ranking makes sense or not."
      ]
    },
    {
      "cell_type": "code",
      "execution_count": 11,
      "metadata": {
        "id": "kPSNWKE8sKIH"
      },
      "outputs": [],
      "source": [
        "# your code here (you can use multiple code and markdown cells to organize your answer)"
      ]
    },
    {
      "cell_type": "code",
      "source": [
        "# gradient descent implementation code\n",
        "\n",
        "# parameters\n",
        "torch.manual_seed(0)\n",
        "learning_rate = 0.3\n",
        "gamma = 0.2\n",
        "# initial beta\n",
        "beta = torch.rand([X.shape[1],1], dtype=torch.float32, requires_grad=True)\n",
        "\n",
        "def gradient_descent_step(beta, learning_rate):\n",
        "  #compute gradient\n",
        "  current_gradient = compute_gradient(beta, X, y, gamma)\n",
        "  next_beta = beta - learning_rate * current_gradient\n",
        "  return next_beta\n",
        "\n",
        "num_iterations = 100\n",
        "list_of_loss = [compute_loss(beta, X, y, gamma)]\n",
        "for _ in range(num_iterations):\n",
        "  new_beta = gradient_descent_step(beta, learning_rate)\n",
        "  list_of_loss.append(compute_loss(new_beta, X, y, gamma))\n",
        "  if torch.allclose(beta, new_beta, atol=1e-4):\n",
        "    break\n",
        "  else:\n",
        "    beta = new_beta"
      ],
      "metadata": {
        "id": "OzpDAdCv0_MS"
      },
      "execution_count": 12,
      "outputs": []
    },
    {
      "cell_type": "code",
      "source": [
        "# plotting loss curve\n",
        "loss_tensor = torch.as_tensor(list_of_loss)\n",
        "plt.plot(loss_tensor)\n",
        "plt.xlabel(\"gradient descent iterations\")\n",
        "plt.ylabel(\"loss\")"
      ],
      "metadata": {
        "colab": {
          "base_uri": "https://localhost:8080/",
          "height": 468
        },
        "id": "oOre-0RY4G-l",
        "outputId": "b275845e-0d36-45f0-eb0e-a6557340ac30"
      },
      "execution_count": 13,
      "outputs": [
        {
          "output_type": "execute_result",
          "data": {
            "text/plain": [
              "Text(0, 0.5, 'loss')"
            ]
          },
          "metadata": {},
          "execution_count": 13
        },
        {
          "output_type": "display_data",
          "data": {
            "text/plain": [
              "<Figure size 640x480 with 1 Axes>"
            ],
            "image/png": "[encoded data removed]"
          },
          "metadata": {}
        }
      ]
    },
    {
      "cell_type": "markdown",
      "source": [
        "The above loss curve make sense - it is nicely shaped and the loss is going down and stablizing."
      ],
      "metadata": {
        "id": "nqWm3ZpVjdaN"
      }
    },
    {
      "cell_type": "code",
      "source": [
        "# plotting fitted values of beta\n",
        "beta_df = pd.DataFrame({\"Team\": teams, \"Effect\": beta.detach().numpy().flatten()})\n",
        "\n",
        "plt.hist(beta_df[\"Effect\"], bins=35)\n",
        "plt.title(\"Histogram of Team Effects (Bradley-Terry Model)\")\n",
        "plt.xlabel(\"Team Effect (Fitted Values of Beta)\")\n",
        "plt.ylabel(\"Frequency\")\n",
        "plt.show()"
      ],
      "metadata": {
        "colab": {
          "base_uri": "https://localhost:8080/",
          "height": 472
        },
        "id": "zB8ymfFV480B",
        "outputId": "64fa926b-7673-4015-cba0-0cd514753f50"
      },
      "execution_count": 14,
      "outputs": [
        {
          "output_type": "display_data",
          "data": {
            "text/plain": [
              "<Figure size 640x480 with 1 Axes>"
            ],
            "image/png": "[encoded data removed]"
          },
          "metadata": {}
        }
      ]
    },
    {
      "cell_type": "code",
      "source": [
        "# top 10 teams\n",
        "beta_df.sort_values(by=\"Effect\", ascending=False).head(10)"
      ],
      "metadata": {
        "colab": {
          "base_uri": "https://localhost:8080/",
          "height": 363
        },
        "id": "Xvrm4u7-oCVG",
        "outputId": "f310573c-f860-4b0c-cec3-cd18392b8e96"
      },
      "execution_count": 15,
      "outputs": [
        {
          "output_type": "execute_result",
          "data": {
            "text/plain": [
              "                   Team    Effect\n",
              "307             Liberty  0.010481\n",
              "353            Michigan  0.010460\n",
              "643          Washington  0.010142\n",
              "199       Florida State  0.010036\n",
              "570               Texas  0.009528\n",
              "518  South Dakota State  0.009257\n",
              "5               Alabama  0.008957\n",
              "17         Alma College  0.008580\n",
              "130      Colorado Mines  0.008458\n",
              "474      Randolph-Macon  0.008342"
            ],
            "text/html": [
              "\n",
              "  <div id=\"df-8ea87852-9bb4-4ad2-b9b2-d42d5e3f6635\" class=\"colab-df-container\">\n",
              "    <div>\n",
              "<style scoped>\n",
              "    .dataframe tbody tr th:only-of-type {\n",
              "        vertical-align: middle;\n",
              "    }\n",
              "\n",
              "    .dataframe tbody tr th {\n",
              "        vertical-align: top;\n",
              "    }\n",
              "\n",
              "    .dataframe thead th {\n",
              "        text-align: right;\n",
              "    }\n",
              "</style>\n",
              "<table border=\"1\" class=\"dataframe\">\n",
              "  <thead>\n",
              "    <tr style=\"text-align: right;\">\n",
              "      <th></th>\n",
              "      <th>Team</th>\n",
              "      <th>Effect</th>\n",
              "    </tr>\n",
              "  </thead>\n",
              "  <tbody>\n",
              "    <tr>\n",
              "      <th>307</th>\n",
              "      <td>Liberty</td>\n",
              "      <td>0.010481</td>\n",
              "    </tr>\n",
              "    <tr>\n",
              "      <th>353</th>\n",
              "      <td>Michigan</td>\n",
              "      <td>0.010460</td>\n",
              "    </tr>\n",
              "    <tr>\n",
              "      <th>643</th>\n",
              "      <td>Washington</td>\n",
              "      <td>0.010142</td>\n",
              "    </tr>\n",
              "    <tr>\n",
              "      <th>199</th>\n",
              "      <td>Florida State</td>\n",
              "      <td>0.010036</td>\n",
              "    </tr>\n",
              "    <tr>\n",
              "      <th>570</th>\n",
              "      <td>Texas</td>\n",
              "      <td>0.009528</td>\n",
              "    </tr>\n",
              "    <tr>\n",
              "      <th>518</th>\n",
              "      <td>South Dakota State</td>\n",
              "      <td>0.009257</td>\n",
              "    </tr>\n",
              "    <tr>\n",
              "      <th>5</th>\n",
              "      <td>Alabama</td>\n",
              "      <td>0.008957</td>\n",
              "    </tr>\n",
              "    <tr>\n",
              "      <th>17</th>\n",
              "      <td>Alma College</td>\n",
              "      <td>0.008580</td>\n",
              "    </tr>\n",
              "    <tr>\n",
              "      <th>130</th>\n",
              "      <td>Colorado Mines</td>\n",
              "      <td>0.008458</td>\n",
              "    </tr>\n",
              "    <tr>\n",
              "      <th>474</th>\n",
              "      <td>Randolph-Macon</td>\n",
              "      <td>0.008342</td>\n",
              "    </tr>\n",
              "  </tbody>\n",
              "</table>\n",
              "</div>\n",
              "    <div class=\"colab-df-buttons\">\n",
              "\n",
              "  <div class=\"colab-df-container\">\n",
              "    <button class=\"colab-df-convert\" onclick=\"convertToInteractive('df-8ea87852-9bb4-4ad2-b9b2-d42d5e3f6635')\"\n",
              "            title=\"Convert this dataframe to an interactive table.\"\n",
              "            style=\"display:none;\">\n",
              "\n",
              "  <svg xmlns=\"http://www.w3.org/2000/svg\" height=\"24px\" viewBox=\"0 -960 960 960\">\n",
              "    <path d=\"M120-120v-720h720v720H120Zm60-500h600v-160H180v160Zm220 220h160v-160H400v160Zm0 220h160v-160H400v160ZM180-400h160v-160H180v160Zm440 0h160v-160H620v160ZM180-180h160v-160H180v160Zm440 0h160v-160H620v160Z\"/>\n",
              "  </svg>\n",
              "    </button>\n",
              "\n",
              "  <style>\n",
              "    .colab-df-container {\n",
              "      display:flex;\n",
              "      gap: 12px;\n",
              "    }\n",
              "\n",
              "    .colab-df-convert {\n",
              "      background-color: #E8F0FE;\n",
              "      border: none;\n",
              "      border-radius: 50%;\n",
              "      cursor: pointer;\n",
              "      display: none;\n",
              "      fill: #1967D2;\n",
              "      height: 32px;\n",
              "      padding: 0 0 0 0;\n",
              "      width: 32px;\n",
              "    }\n",
              "\n",
              "    .colab-df-convert:hover {\n",
              "      background-color: #E2EBFA;\n",
              "      box-shadow: 0px 1px 2px rgba(60, 64, 67, 0.3), 0px 1px 3px 1px rgba(60, 64, 67, 0.15);\n",
              "      fill: #174EA6;\n",
              "    }\n",
              "\n",
              "    .colab-df-buttons div {\n",
              "      margin-bottom: 4px;\n",
              "    }\n",
              "\n",
              "    [theme=dark] .colab-df-convert {\n",
              "      background-color: #3B4455;\n",
              "      fill: #D2E3FC;\n",
              "    }\n",
              "\n",
              "    [theme=dark] .colab-df-convert:hover {\n",
              "      background-color: #434B5C;\n",
              "      box-shadow: 0px 1px 3px 1px rgba(0, 0, 0, 0.15);\n",
              "      filter: drop-shadow(0px 1px 2px rgba(0, 0, 0, 0.3));\n",
              "      fill: #FFFFFF;\n",
              "    }\n",
              "  </style>\n",
              "\n",
              "    <script>\n",
              "      const buttonEl =\n",
              "        document.querySelector('#df-8ea87852-9bb4-4ad2-b9b2-d42d5e3f6635 button.colab-df-convert');\n",
              "      buttonEl.style.display =\n",
              "        google.colab.kernel.accessAllowed ? 'block' : 'none';\n",
              "\n",
              "      async function convertToInteractive(key) {\n",
              "        const element = document.querySelector('#df-8ea87852-9bb4-4ad2-b9b2-d42d5e3f6635');\n",
              "        const dataTable =\n",
              "          await google.colab.kernel.invokeFunction('convertToInteractive',\n",
              "                                                    [key], {});\n",
              "        if (!dataTable) return;\n",
              "\n",
              "        const docLinkHtml = 'Like what you see? Visit the ' +\n",
              "          '<a target=\"_blank\" href=https://colab.research.google.com/notebooks/data_table.ipynb>data table notebook</a>'\n",
              "          + ' to learn more about interactive tables.';\n",
              "        element.innerHTML = '';\n",
              "        dataTable['output_type'] = 'display_data';\n",
              "        await google.colab.output.renderOutput(dataTable, element);\n",
              "        const docLink = document.createElement('div');\n",
              "        docLink.innerHTML = docLinkHtml;\n",
              "        element.appendChild(docLink);\n",
              "      }\n",
              "    </script>\n",
              "  </div>\n",
              "\n",
              "\n",
              "<div id=\"df-3a5d121b-8b4d-428d-aac1-70d55a37dfd6\">\n",
              "  <button class=\"colab-df-quickchart\" onclick=\"quickchart('df-3a5d121b-8b4d-428d-aac1-70d55a37dfd6')\"\n",
              "            title=\"Suggest charts\"\n",
              "            style=\"display:none;\">\n",
              "\n",
              "<svg xmlns=\"http://www.w3.org/2000/svg\" height=\"24px\"viewBox=\"0 0 24 24\"\n",
              "     width=\"24px\">\n",
              "    <g>\n",
              "        <path d=\"M19 3H5c-1.1 0-2 .9-2 2v14c0 1.1.9 2 2 2h14c1.1 0 2-.9 2-2V5c0-1.1-.9-2-2-2zM9 17H7v-7h2v7zm4 0h-2V7h2v10zm4 0h-2v-4h2v4z\"/>\n",
              "    </g>\n",
              "</svg>\n",
              "  </button>\n",
              "\n",
              "<style>\n",
              "  .colab-df-quickchart {\n",
              "      --bg-color: #E8F0FE;\n",
              "      --fill-color: #1967D2;\n",
              "      --hover-bg-color: #E2EBFA;\n",
              "      --hover-fill-color: #174EA6;\n",
              "      --disabled-fill-color: #AAA;\n",
              "      --disabled-bg-color: #DDD;\n",
              "  }\n",
              "\n",
              "  [theme=dark] .colab-df-quickchart {\n",
              "      --bg-color: #3B4455;\n",
              "      --fill-color: #D2E3FC;\n",
              "      --hover-bg-color: #434B5C;\n",
              "      --hover-fill-color: #FFFFFF;\n",
              "      --disabled-bg-color: #3B4455;\n",
              "      --disabled-fill-color: #666;\n",
              "  }\n",
              "\n",
              "  .colab-df-quickchart {\n",
              "    background-color: var(--bg-color);\n",
              "    border: none;\n",
              "    border-radius: 50%;\n",
              "    cursor: pointer;\n",
              "    display: none;\n",
              "    fill: var(--fill-color);\n",
              "    height: 32px;\n",
              "    padding: 0;\n",
              "    width: 32px;\n",
              "  }\n",
              "\n",
              "  .colab-df-quickchart:hover {\n",
              "    background-color: var(--hover-bg-color);\n",
              "    box-shadow: 0 1px 2px rgba(60, 64, 67, 0.3), 0 1px 3px 1px rgba(60, 64, 67, 0.15);\n",
              "    fill: var(--button-hover-fill-color);\n",
              "  }\n",
              "\n",
              "  .colab-df-quickchart-complete:disabled,\n",
              "  .colab-df-quickchart-complete:disabled:hover {\n",
              "    background-color: var(--disabled-bg-color);\n",
              "    fill: var(--disabled-fill-color);\n",
              "    box-shadow: none;\n",
              "  }\n",
              "\n",
              "  .colab-df-spinner {\n",
              "    border: 2px solid var(--fill-color);\n",
              "    border-color: transparent;\n",
              "    border-bottom-color: var(--fill-color);\n",
              "    animation:\n",
              "      spin 1s steps(1) infinite;\n",
              "  }\n",
              "\n",
              "  @keyframes spin {\n",
              "    0% {\n",
              "      border-color: transparent;\n",
              "      border-bottom-color: var(--fill-color);\n",
              "      border-left-color: var(--fill-color);\n",
              "    }\n",
              "    20% {\n",
              "      border-color: transparent;\n",
              "      border-left-color: var(--fill-color);\n",
              "      border-top-color: var(--fill-color);\n",
              "    }\n",
              "    30% {\n",
              "      border-color: transparent;\n",
              "      border-left-color: var(--fill-color);\n",
              "      border-top-color: var(--fill-color);\n",
              "      border-right-color: var(--fill-color);\n",
              "    }\n",
              "    40% {\n",
              "      border-color: transparent;\n",
              "      border-right-color: var(--fill-color);\n",
              "      border-top-color: var(--fill-color);\n",
              "    }\n",
              "    60% {\n",
              "      border-color: transparent;\n",
              "      border-right-color: var(--fill-color);\n",
              "    }\n",
              "    80% {\n",
              "      border-color: transparent;\n",
              "      border-right-color: var(--fill-color);\n",
              "      border-bottom-color: var(--fill-color);\n",
              "    }\n",
              "    90% {\n",
              "      border-color: transparent;\n",
              "      border-bottom-color: var(--fill-color);\n",
              "    }\n",
              "  }\n",
              "</style>\n",
              "\n",
              "  <script>\n",
              "    async function quickchart(key) {\n",
              "      const quickchartButtonEl =\n",
              "        document.querySelector('#' + key + ' button');\n",
              "      quickchartButtonEl.disabled = true;  // To prevent multiple clicks.\n",
              "      quickchartButtonEl.classList.add('colab-df-spinner');\n",
              "      try {\n",
              "        const charts = await google.colab.kernel.invokeFunction(\n",
              "            'suggestCharts', [key], {});\n",
              "      } catch (error) {\n",
              "        console.error('Error during call to suggestCharts:', error);\n",
              "      }\n",
              "      quickchartButtonEl.classList.remove('colab-df-spinner');\n",
              "      quickchartButtonEl.classList.add('colab-df-quickchart-complete');\n",
              "    }\n",
              "    (() => {\n",
              "      let quickchartButtonEl =\n",
              "        document.querySelector('#df-3a5d121b-8b4d-428d-aac1-70d55a37dfd6 button');\n",
              "      quickchartButtonEl.style.display =\n",
              "        google.colab.kernel.accessAllowed ? 'block' : 'none';\n",
              "    })();\n",
              "  </script>\n",
              "</div>\n",
              "\n",
              "    </div>\n",
              "  </div>\n"
            ],
            "application/vnd.google.colaboratory.intrinsic+json": {
              "type": "dataframe",
              "summary": "{\n  \"name\": \"beta_df\",\n  \"rows\": 10,\n  \"fields\": [\n    {\n      \"column\": \"Team\",\n      \"properties\": {\n        \"dtype\": \"string\",\n        \"num_unique_values\": 10,\n        \"samples\": [\n          \"Colorado Mines\",\n          \"Michigan\",\n          \"South Dakota State\"\n        ],\n        \"semantic_type\": \"\",\n        \"description\": \"\"\n      }\n    },\n    {\n      \"column\": \"Effect\",\n      \"properties\": {\n        \"dtype\": \"float32\",\n        \"num_unique_values\": 10,\n        \"samples\": [\n          0.008457549847662449,\n          0.01046043261885643,\n          0.00925710890442133\n        ],\n        \"semantic_type\": \"\",\n        \"description\": \"\"\n      }\n    }\n  ]\n}"
            }
          },
          "metadata": {},
          "execution_count": 15
        }
      ]
    },
    {
      "cell_type": "code",
      "source": [],
      "metadata": {
        "id": "MPSIQbrKodI3"
      },
      "execution_count": 48,
      "outputs": []
    },
    {
      "cell_type": "markdown",
      "metadata": {
        "id": "lBPDg-5QtXQV"
      },
      "source": [
        "## Problem 3: Newton's Method\n",
        "\n",
        "Now, use Newton's method to fit your Bradley-Terry model to the provided data.\n"
      ]
    },
    {
      "cell_type": "markdown",
      "metadata": {
        "id": "Pi_R1fgkFbQ0"
      },
      "source": [
        "### Problem 3.1 The Hessian\n",
        "\n"
      ]
    },
    {
      "cell_type": "markdown",
      "metadata": {
        "id": "RS0kTKtVLDlQ"
      },
      "source": [
        "#### Problem 3.1.1. Implement and check the Hessian\n",
        "Write a function to compute the Hessian of the average negative log likelihood and check your answer against the output of `from torch.autograd.functional.hessian`."
      ]
    },
    {
      "cell_type": "markdown",
      "source": [
        "Recall that the gradient is computed as:\n",
        "$$\n",
        "\\nabla L(\\beta) = -\\frac{1}{n} \\sum_{i=1}^{n} \\left[(y_i - \\sigma(\\beta^\\intercal x_i)) x_i\\right] + \\gamma \\beta\n",
        "$$\n",
        "\n",
        "Hence, the Hessian is computed as:\n",
        "$$\n",
        "\\nabla ^2 L(\\beta) = \\frac{1}{n} \\sum_{i=1}^{n} \\left[\\sigma'(\\beta^\\intercal x_i)x_i x_i^\\intercal \\right] + \\gamma \\mathbf{I}_{\\dim (\\beta)}\n",
        "$$\n",
        "\n",
        "Note that $\\sigma'(a) = \\sigma(a)(1-\\sigma(a))$. Thus, the Hessian can be further simplified into:\n",
        "$$\n",
        "\\nabla ^2 L(\\beta) = \\frac{1}{n} \\sum_{i=1}^{n} \\left[\\sigma(\\beta^\\intercal x_i)(1-\\sigma(\\beta^\\intercal x_i))x_i x_i^\\intercal \\right] + \\gamma \\mathbf{I}_{\\dim (\\beta)}\n",
        "$$\n",
        "\n",
        "Let $w_i:= \\sigma(\\beta^\\intercal x_i)(1-\\sigma(\\beta^\\intercal x_i))$. Observe that this is the variance in the GLM model. We can thus write:\n",
        "\n",
        "$$\n",
        "\\nabla ^2 L(\\beta) = \\frac{1}{n} \\sum_{i=1}^{n} \\left[w_i x_i x_i^\\intercal \\right] + \\gamma \\mathbf{I}_{\\dim (\\beta)} = \\frac{1}{n} X^\\intercal WX + \\gamma \\mathbf{I}_{\\dim (\\beta)}\n",
        "$$\n",
        "\n",
        "where $W_{ii} = w_i$, a diagonal matrix."
      ],
      "metadata": {
        "id": "0H5QAPyXbsrj"
      }
    },
    {
      "cell_type": "code",
      "source": [
        "# computing hessian\n",
        "def compute_hessian(beta, X, y, gamma):\n",
        "    y_hat = torch.sigmoid(X @ beta)\n",
        "    W = torch.diag((y_hat * (1 - y_hat)).squeeze())\n",
        "    hessian = (1 / y.shape[0]) * (X.T @ W @ X) + gamma * torch.eye(beta.shape[0])\n",
        "    return hessian"
      ],
      "metadata": {
        "id": "B92rhcacdQ5Q"
      },
      "execution_count": 16,
      "outputs": []
    },
    {
      "cell_type": "code",
      "source": [
        "# unit testing\n",
        "torch.manual_seed(0)\n",
        "beta = torch.rand([X.shape[1],1], dtype=torch.float32, requires_grad=True)\n",
        "gamma = 0.2"
      ],
      "metadata": {
        "id": "Am1ZbPYw1BGn"
      },
      "execution_count": 17,
      "outputs": []
    },
    {
      "cell_type": "code",
      "source": [
        "H = compute_hessian(beta, X, y, gamma)\n",
        "H.shape"
      ],
      "metadata": {
        "colab": {
          "base_uri": "https://localhost:8080/"
        },
        "id": "tXabGZfoyjW3",
        "outputId": "4814a754-13cc-4704-cb83-5e61eb3297c8"
      },
      "execution_count": 18,
      "outputs": [
        {
          "output_type": "execute_result",
          "data": {
            "text/plain": [
              "torch.Size([703, 703])"
            ]
          },
          "metadata": {},
          "execution_count": 18
        }
      ]
    },
    {
      "cell_type": "code",
      "source": [
        "loss_helper = lambda beta: compute_loss(beta, X, y, gamma)\n",
        "\n",
        "auto_H = torch.autograd.functional.hessian(loss_helper, beta).squeeze()\n",
        "auto_H.shape"
      ],
      "metadata": {
        "colab": {
          "base_uri": "https://localhost:8080/"
        },
        "id": "hAdgJAw8yq8P",
        "outputId": "a43a8d2d-ddd1-4e6b-cd15-26970283fc41"
      },
      "execution_count": 19,
      "outputs": [
        {
          "output_type": "execute_result",
          "data": {
            "text/plain": [
              "torch.Size([703, 703])"
            ]
          },
          "metadata": {},
          "execution_count": 19
        }
      ]
    },
    {
      "cell_type": "code",
      "source": [
        "print(torch.allclose(H, auto_H))"
      ],
      "metadata": {
        "colab": {
          "base_uri": "https://localhost:8080/"
        },
        "id": "dF4Plbbl217K",
        "outputId": "04d0dbf8-47f5-4260-86a2-ae66f3f4597d"
      },
      "execution_count": 20,
      "outputs": [
        {
          "output_type": "stream",
          "name": "stdout",
          "text": [
            "True\n"
          ]
        }
      ]
    },
    {
      "cell_type": "markdown",
      "metadata": {
        "id": "TtSlxUAkLE-y"
      },
      "source": [
        "#### Problem 3.1.2: Positive definiteness\n",
        "\n",
        "Compute the Hessian at the point $\\beta = 0$ without regularization (set $\\gamma = 0$). Unless you've done sort of pre-processing, it's probably singular."
      ]
    },
    {
      "cell_type": "code",
      "source": [
        "# Hessian using the converged beta\n",
        "print(torch.linalg.matrix_rank(H))"
      ],
      "metadata": {
        "id": "r5tponRHImAa",
        "outputId": "584615af-0ea7-46fc-af08-f64697f18ff4",
        "colab": {
          "base_uri": "https://localhost:8080/"
        }
      },
      "execution_count": 22,
      "outputs": [
        {
          "output_type": "stream",
          "name": "stdout",
          "text": [
            "tensor(703)\n"
          ]
        }
      ]
    },
    {
      "cell_type": "code",
      "execution_count": 25,
      "metadata": {
        "id": "6KQjQZtfsUZ6",
        "colab": {
          "base_uri": "https://localhost:8080/"
        },
        "outputId": "5c8cdd13-3ef4-4c51-fbae-7d4dd8a3edd2"
      },
      "outputs": [
        {
          "output_type": "stream",
          "name": "stdout",
          "text": [
            "rank:  tensor(699)\n",
            "determinant: tensor(-0., grad_fn=<LinalgDetBackward0>)\n"
          ]
        }
      ],
      "source": [
        "# your code here\n",
        "# Compute the Hessian at beta = 0 without regularization\n",
        "beta_z = torch.zeros([X.shape[1],1], dtype=torch.float32, requires_grad=True)\n",
        "gamma_z = 0\n",
        "H_z = compute_hessian(beta_z, X, y, gamma_z)\n",
        "#check if H_z is singular\n",
        "print(\"rank: \", torch.linalg.matrix_rank(H_z))\n",
        "print(\"determinant:\", torch.linalg.det(H_z))"
      ]
    },
    {
      "cell_type": "code",
      "source": [
        "H_z.shape"
      ],
      "metadata": {
        "id": "Gvn2ftkNKIfW",
        "outputId": "3152f05f-f310-49b1-9c94-f02ec000a5f3",
        "colab": {
          "base_uri": "https://localhost:8080/"
        }
      },
      "execution_count": 24,
      "outputs": [
        {
          "output_type": "execute_result",
          "data": {
            "text/plain": [
              "torch.Size([703, 703])"
            ]
          },
          "metadata": {},
          "execution_count": 24
        }
      ]
    },
    {
      "cell_type": "markdown",
      "source": [
        "Note the two outputs above. As $699<703$, $H_z$ is not full rank, i.e., the Hessian computed at $\\beta = 0$ without regularization is singular. The check also also be seen from $\\det(H_z) = 0$."
      ],
      "metadata": {
        "id": "-FC6MsrWKK3P"
      }
    },
    {
      "cell_type": "markdown",
      "metadata": {
        "id": "GKVxT91XLbSL"
      },
      "source": [
        "#### Problem 3.1.3\n",
        "\n",
        "Describe intuitively and mathematically what it means for the Hessian of the negative log likelihood to be singular in the context of this data and model"
      ]
    },
    {
      "cell_type": "markdown",
      "metadata": {
        "id": "yAsLFSGXsWXO"
      },
      "source": [
        "*your answer here*\n",
        "\n",
        "**Answer 3.1.3**\n",
        "\n",
        "Mathematically, Hessian of the negative log likelihood is singular means it is not full-rank, or equivalently, its determinant is zero."
      ]
    },
    {
      "cell_type": "markdown",
      "metadata": {
        "id": "TvClzEjJLk52"
      },
      "source": [
        "#### Problem 3.1.4\n",
        "\n",
        "Give a hypothesis for why the Hessian in this dataset and model is singular, and provide empirical evidence to support your hypothesis."
      ]
    },
    {
      "cell_type": "markdown",
      "metadata": {
        "id": "dFphHjnxsjE2"
      },
      "source": [
        "*your answer here*\n",
        "\n",
        "**Answer 3.1.4**\n",
        "\n",
        "Hypothesis: the Hessian of the negative log likelihood is singular is because the covariate matrix $X$ have linearly dependent columns, i.e., $X$ is not full column rank."
      ]
    },
    {
      "cell_type": "code",
      "execution_count": 28,
      "metadata": {
        "id": "-wxWOBOQslRc",
        "colab": {
          "base_uri": "https://localhost:8080/"
        },
        "outputId": "ae220d60-1fe0-4bcd-ed6b-89369a898a2b"
      },
      "outputs": [
        {
          "output_type": "stream",
          "name": "stdout",
          "text": [
            "rank of X:  tensor(699)\n"
          ]
        }
      ],
      "source": [
        "# your code here\n",
        "\n",
        "# checking the rank of X\n",
        "print(\"rank of X: \", torch.linalg.matrix_rank(X))"
      ]
    },
    {
      "cell_type": "markdown",
      "source": [
        "As seen above, $X$ is indeed not full column rank."
      ],
      "metadata": {
        "id": "G4-cD6FmPJWB"
      }
    },
    {
      "cell_type": "markdown",
      "metadata": {
        "id": "EtKlPKs9LyNw"
      },
      "source": [
        "#### Problem 3.1.5\n",
        "\n",
        "Explain why the Hessian is invertible when $\\gamma > 0$."
      ]
    },
    {
      "cell_type": "markdown",
      "metadata": {
        "id": "CgvigoXaspaw"
      },
      "source": [
        "*your answer here*\n",
        "\n",
        "**Answer 3.1.5**\n",
        "\n",
        "Intuitively, this is GLM's analogy to the Ridge Regression model. In Ridge regression, by adding the regularization term $\\gamma$, in the closed-form solution to the regression problem $(X^\\intercal X + \\gamma \\mathbf{I})^{-1} X^\\intercal y$, $X^\\intercal X + \\gamma \\mathbf{I}$ is guaranteed to be invertible as the regularization part $\\gamma \\mathbf{I}$ forces the matrix to be full rank.\n",
        "\n",
        "Mathematically, the analogy is also clear. Recall the definition of our computed Hessian:\n",
        "$$\n",
        "\\nabla ^2 L(\\beta) = \\frac{1}{n} X^\\intercal WX + \\gamma \\mathbf{I}_{\\dim (\\beta)}\n",
        "$$\n",
        "Whenever $\\gamma >0$, the $\\gamma \\mathbf{I}_{\\dim (\\beta)}$ effectively forces the Hessian to be invertible by introducing regularization, making the Hessian full rank."
      ]
    },
    {
      "cell_type": "markdown",
      "metadata": {
        "id": "szaThYwMMuf4"
      },
      "source": [
        "### Problem 3.2: Implement Newton's method\n",
        "\n",
        "Now, use Newton's method to fit your $\\ell_2$-regularized Bradley-Terry model to the provided data.\n",
        "\n",
        "Deliverables for this question:\n",
        "1. Code the implements Newton's method to fit your Bradley-Terry model to the provided data.\n",
        "2. A plot of the loss curves from Newton's method and from gradient descent, using the same regularization strength $\\gamma$ and initialization $\\beta_0$. Briefly discuss the results and compare their rates of convergence.\n",
        "3. A plot of the histogram of the fitted values of $\\beta$\n",
        "4. The top 10 teams from your ranking, and a discussion of whether this ranking makes sense or not."
      ]
    },
    {
      "cell_type": "code",
      "execution_count": null,
      "metadata": {
        "id": "FPYUCllcsri7"
      },
      "outputs": [],
      "source": [
        "# your code here (you can use multiple code and markdown cells to organize your answer)"
      ]
    },
    {
      "cell_type": "markdown",
      "metadata": {
        "id": "J9R91iI5NCMs"
      },
      "source": [
        "## Problem 4: Model criticism and revision\n",
        "\n",
        "Let's take another look the Bradley-Terry model from earlier and think about improvements we can make.\n"
      ]
    },
    {
      "cell_type": "markdown",
      "metadata": {
        "id": "yPSnL3odcj12"
      },
      "source": [
        "### Problem 4.1: Improvements to Bradley-Terry Model\n",
        "Choose one way to improve the Bradley-Terry model. Discuss *a priori* why you think this change will improve the model and implement your change."
      ]
    },
    {
      "cell_type": "markdown",
      "metadata": {
        "id": "gngpLxYpczp0"
      },
      "source": [
        "*your answer here*"
      ]
    },
    {
      "cell_type": "markdown",
      "metadata": {
        "id": "Xt9Yn0NPc3nS"
      },
      "source": [
        "### Problem 4.2: Evaluation\n",
        "Assess whether or not your change was an improvement or not. Provide empirical evidence by evaluating performance on a held out test set and include at least one plot supporting your assessment."
      ]
    },
    {
      "cell_type": "markdown",
      "metadata": {
        "id": "yQvtv-eHdBM5"
      },
      "source": [
        "*your answer here*"
      ]
    },
    {
      "cell_type": "markdown",
      "metadata": {
        "id": "87F609vpdEq0"
      },
      "source": [
        "### Problem 4.3: Reflection\n",
        "Reflecting on the analysis we've conducted in this assignemnt, which conference is best? Is there a significant difference? Please justify your answer."
      ]
    },
    {
      "cell_type": "markdown",
      "metadata": {
        "id": "-4YnbZWVdmWv"
      },
      "source": [
        "*your answer here*"
      ]
    },
    {
      "cell_type": "markdown",
      "metadata": {
        "id": "9TL_LAYoyI2T"
      },
      "source": [
        "## Submission Instructions\n",
        "\n",
        "**Formatting:** check that your code does not exceed 80 characters in line width. You can set _Tools &rarr; Settings &rarr; Editor &rarr; Vertical ruler column_ to 80 to see when you've exceeded the limit.\n",
        "\n",
        "**Converting to PDF** The simplest way to convert to PDF is to use the \"Print to PDF\" option in your browser. Just make sure that your code and plots aren't cut off, as it may not wrap lines.\n",
        "\n",
        "**Alternatively** You can download your notebook in .ipynb format and use the following commands to convert it to PDF.  Then run the following command to convert to a PDF:\n",
        "```\n",
        "jupyter nbconvert --to pdf <yourlastname>_hw<number>.ipynb\n",
        "```\n",
        "(Note that for the above code to work, you need to rename your file `<yourlastname>_hw<number>.ipynb`)\n",
        "\n",
        "**Installing nbconvert:**\n",
        "\n",
        "If you're using Anaconda for package management,\n",
        "```\n",
        "conda install -c anaconda nbconvert\n",
        "```\n",
        "\n",
        "**Upload** your .pdf file to Gradescope. Please tag your questions correctly! I.e., for each question, all of and only the relevant sections are tagged.\n",
        "\n",
        "Please post on Ed or come to OH if there are any other problems submitting the HW."
      ]
    }
  ],
  "metadata": {
    "colab": {
      "gpuType": "T4",
      "machine_shape": "hm",
      "provenance": []
    },
    "kernelspec": {
      "display_name": "base",
      "language": "python",
      "name": "python3"
    },
    "language_info": {
      "codemirror_mode": {
        "name": "ipython",
        "version": 3
      },
      "file_extension": ".py",
      "mimetype": "text/x-python",
      "name": "python",
      "nbconvert_exporter": "python",
      "pygments_lexer": "ipython3",
      "version": "3.10.9"
    }
  },
  "nbformat": 4,
  "nbformat_minor": 0
}